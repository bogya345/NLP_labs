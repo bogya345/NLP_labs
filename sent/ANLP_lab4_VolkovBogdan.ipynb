{
  "cells": [
    {
      "cell_type": "markdown",
      "metadata": {
        "id": "yxy7euTpCbGp"
      },
      "source": [
        "In this homework you will understand the fine-tuning procedure and get acquainted with Huggingface Datasets library"
      ]
    },
    {
      "cell_type": "code",
      "execution_count": 1,
      "metadata": {
        "id": "_1MXcMymXeCx"
      },
      "outputs": [],
      "source": [
        "# ! pip install datasets\n",
        "# ! pip install transformers"
      ]
    },
    {
      "cell_type": "markdown",
      "metadata": {
        "id": "FykUK-TFXf-2"
      },
      "source": [
        "For our goals we will use [Datasets](https://huggingface.co/docs/datasets/) library and take `yahoo_answers_topics` dataset - the task of this dataset is to divide documents on 10 topic categories. More detiled information can be found on the dataset [page](https://huggingface.co/datasets/viewer/).\n"
      ]
    },
    {
      "cell_type": "code",
      "execution_count": 2,
      "metadata": {
        "id": "ebsFAQsgXNB0"
      },
      "outputs": [],
      "source": [
        "from datasets import load_dataset"
      ]
    },
    {
      "cell_type": "code",
      "execution_count": 3,
      "metadata": {
        "id": "UbzxZi42XOUG"
      },
      "outputs": [
        {
          "name": "stderr",
          "output_type": "stream",
          "text": [
            "Reusing dataset yahoo_answers_topics (C:\\Users\\bogya\\.cache\\huggingface\\datasets\\yahoo_answers_topics\\yahoo_answers_topics\\1.0.0\\b2712a72fde278f1d6e96cc4f485fd89ed2f79ecb231441e13645b53da021902)\n",
            "100%|██████████| 2/2 [00:00<00:00,  4.15it/s]\n"
          ]
        }
      ],
      "source": [
        "dataset = load_dataset('yahoo_answers_topics') # the result is a dataset dictionary of train and test splits in this case"
      ]
    },
    {
      "cell_type": "markdown",
      "metadata": {
        "id": "4U4YUOB5W8uG"
      },
      "source": [
        "# **Part 1: Fine-tuning the model** (15 points + 5 bonus)"
      ]
    },
    {
      "cell_type": "code",
      "execution_count": 4,
      "metadata": {
        "id": "ZDYIq9l7CYBR"
      },
      "outputs": [],
      "source": [
        "from transformers import (ElectraTokenizer, ElectraForSequenceClassification,\n",
        "                          get_scheduler, pipeline, ElectraForMaskedLM, ElectraModel, AutoTokenizer)\n",
        "\n",
        "import torch\n",
        "from torch.utils.data import DataLoader\n",
        "from datasets import load_metric"
      ]
    },
    {
      "cell_type": "markdown",
      "metadata": {
        "id": "ElZ6k36rb0VG"
      },
      "source": [
        "Fine-tuning procedure on the end task consists of adding additional layers on the top of the pre-trained model. The resulting model can be tuned fully (passing gradients through the all model) or partially."
      ]
    },
    {
      "cell_type": "markdown",
      "metadata": {
        "id": "pNEmksaPb3Uu"
      },
      "source": [
        "**Task**: \n",
        "- load tokenizer and model\n",
        "- look at the predictions of the model as-is before any fine-tuning\n",
        "\n",
        "\n",
        "```\n",
        "- Why don't you ask [MASK]?\n",
        "- What is [MASK]\n",
        "- Let's talk about [MASK] physics\n",
        "```\n",
        "\n",
        "- convert `best_answer` to the input tokens (supporting function for dataset is provided below) \n",
        "\n",
        "```\n",
        "def tokenize_function(examples):\n",
        "    return tokenizer(examples[\"best_answer\"], padding=\"max_length\", truncation=True)\n",
        "\n",
        "tokenized_datasets = dataset.map(tokenize_function, batched=True)\n",
        "```\n",
        "\n",
        "- define optimizer, sheduler (optional)\n",
        "- fine-tune the model (write the training loop), plot the loss changes and measure results in terms of weighted F1 score\n",
        "- get the masked word prediction (sample sentences above) on the fine-tuned model, why the results as they are and what should be done in order to change that (write down your answer)\n",
        "- In case you will tune the training hyperparameters (and write down your results) you will get 5 bonus points.\n",
        "\n",
        "**Tips**:\n",
        "- The easiest way to get predictions is to use transformers `pipeline` function \n",
        "- Do not forget to set `num_labels` parameter, when initializing the model\n",
        "- To convert data to batches use `DataLoader`\n",
        "- Even the `small` version of Electra can be long to train, so you can take data sample (>= 5000 and set seed for reproducibility)\n",
        "- You may want to try freezing (do not update the pretrained model weights) all the layers exept the ones for classification, in that case use:\n",
        "\n",
        "\n",
        "```\n",
        "for param in model.electra.parameters():\n",
        "      param.requires_grad = False\n",
        "```\n"
      ]
    },
    {
      "cell_type": "markdown",
      "metadata": {},
      "source": [
        "# load tokenizer and model"
      ]
    },
    {
      "cell_type": "code",
      "execution_count": 5,
      "metadata": {
        "id": "8yqAAFqZcwbu"
      },
      "outputs": [],
      "source": [
        "MODEL_NAME = \"google/electra-small-generator\"\n",
        "TOKENIZER_NAME = \"google/electra-small-generator\""
      ]
    },
    {
      "cell_type": "code",
      "execution_count": 6,
      "metadata": {},
      "outputs": [
        {
          "name": "stderr",
          "output_type": "stream",
          "text": [
            "Some weights of the model checkpoint at google/electra-small-generator were not used when initializing ElectraModel: ['generator_predictions.LayerNorm.weight', 'generator_lm_head.weight', 'generator_predictions.dense.bias', 'generator_lm_head.bias', 'generator_predictions.dense.weight', 'generator_predictions.LayerNorm.bias']\n",
            "- This IS expected if you are initializing ElectraModel from the checkpoint of a model trained on another task or with another architecture (e.g. initializing a BertForSequenceClassification model from a BertForPreTraining model).\n",
            "- This IS NOT expected if you are initializing ElectraModel from the checkpoint of a model that you expect to be exactly identical (initializing a BertForSequenceClassification model from a BertForSequenceClassification model).\n"
          ]
        }
      ],
      "source": [
        "from transformers import ElectraModel, ElectraTokenizer, ElectraConfig\n",
        "\n",
        "num_labels = 10\n",
        "model = ElectraModel.from_pretrained(MODEL_NAME, num_labels=num_labels)\n",
        "configuration = model.config\n",
        "\n",
        "tokenizer = ElectraTokenizer.from_pretrained(TOKENIZER_NAME)"
      ]
    },
    {
      "cell_type": "markdown",
      "metadata": {},
      "source": [
        "# look at the predictions of the model as-is before any fine-tuning"
      ]
    },
    {
      "cell_type": "code",
      "execution_count": 7,
      "metadata": {},
      "outputs": [],
      "source": [
        "fill_mask = pipeline(\n",
        "    \"fill-mask\",\n",
        "    model = MODEL_NAME,\n",
        "    tokenizer = TOKENIZER_NAME\n",
        ")"
      ]
    },
    {
      "cell_type": "code",
      "execution_count": 8,
      "metadata": {},
      "outputs": [
        {
          "name": "stdout",
          "output_type": "stream",
          "text": [
            "[{'score': 0.5342980623245239, 'token': 2033, 'token_str': 'me', 'sequence': \"why don't you ask me?\"}, {'score': 0.0819607824087143, 'token': 3980, 'token_str': 'questions', 'sequence': \"why don't you ask questions?\"}, {'score': 0.04395361617207527, 'token': 2068, 'token_str': 'them', 'sequence': \"why don't you ask them?\"}, {'score': 0.04017291218042374, 'token': 2339, 'token_str': 'why', 'sequence': \"why don't you ask why?\"}, {'score': 0.03002440184354782, 'token': 4426, 'token_str': 'yourself', 'sequence': \"why don't you ask yourself?\"}]\n"
          ]
        }
      ],
      "source": [
        "print(\n",
        "    fill_mask(f\"Why don't you ask [MASK]?\")\n",
        ")"
      ]
    },
    {
      "cell_type": "code",
      "execution_count": 9,
      "metadata": {},
      "outputs": [
        {
          "name": "stdout",
          "output_type": "stream",
          "text": [
            "[{'score': 0.9262325763702393, 'token': 1029, 'token_str': '?', 'sequence': 'what is?'}, {'score': 0.051567427814006805, 'token': 1012, 'token_str': '.', 'sequence': 'what is.'}, {'score': 0.021510407328605652, 'token': 999, 'token_str': '!', 'sequence': 'what is!'}, {'score': 0.00011964970326516777, 'token': 1011, 'token_str': '-', 'sequence': 'what is -'}, {'score': 0.00010928422852884978, 'token': 1000, 'token_str': '\"', 'sequence': 'what is \"'}]\n"
          ]
        }
      ],
      "source": [
        "print(\n",
        "    fill_mask(f\"What is [MASK]\")\n",
        ")"
      ]
    },
    {
      "cell_type": "code",
      "execution_count": 10,
      "metadata": {},
      "outputs": [
        {
          "name": "stdout",
          "output_type": "stream",
          "text": [
            "[{'score': 0.24027475714683533, 'token': 8559, 'token_str': 'quantum', 'sequence': \"let's talk about quantum physics\"}, {'score': 0.21258579194545746, 'token': 9373, 'token_str': 'theoretical', 'sequence': \"let's talk about theoretical physics\"}, {'score': 0.056393858045339584, 'token': 10811, 'token_str': 'particle', 'sequence': \"let's talk about particle physics\"}, {'score': 0.03320789709687233, 'token': 2613, 'token_str': 'real', 'sequence': \"let's talk about real physics\"}, {'score': 0.022627944126725197, 'token': 8045, 'token_str': 'mathematical', 'sequence': \"let's talk about mathematical physics\"}]\n"
          ]
        }
      ],
      "source": [
        "print(\n",
        "    fill_mask(f\"Let's talk about [MASK] physics\")\n",
        ")"
      ]
    },
    {
      "cell_type": "markdown",
      "metadata": {},
      "source": [
        "# convert `best_answer` to the input tokens (supporting function for dataset is provided below)"
      ]
    },
    {
      "cell_type": "code",
      "execution_count": 11,
      "metadata": {},
      "outputs": [
        {
          "name": "stderr",
          "output_type": "stream",
          "text": [
            "Loading cached processed dataset at C:\\Users\\bogya\\.cache\\huggingface\\datasets\\yahoo_answers_topics\\yahoo_answers_topics\\1.0.0\\b2712a72fde278f1d6e96cc4f485fd89ed2f79ecb231441e13645b53da021902\\cache-9ef3c4924b09bfb9.arrow\n",
            "Loading cached processed dataset at C:\\Users\\bogya\\.cache\\huggingface\\datasets\\yahoo_answers_topics\\yahoo_answers_topics\\1.0.0\\b2712a72fde278f1d6e96cc4f485fd89ed2f79ecb231441e13645b53da021902\\cache-a99eecbcb5e74306.arrow\n"
          ]
        }
      ],
      "source": [
        "def tokenize_function(examples):\n",
        "    return tokenizer(examples[\"best_answer\"], padding=\"max_length\", truncation=True)\n",
        "\n",
        "tokenized_datasets = dataset.map(tokenize_function, batched=True)"
      ]
    },
    {
      "cell_type": "code",
      "execution_count": 12,
      "metadata": {},
      "outputs": [
        {
          "name": "stderr",
          "output_type": "stream",
          "text": [
            "Loading cached shuffled indices for dataset at C:\\Users\\bogya\\.cache\\huggingface\\datasets\\yahoo_answers_topics\\yahoo_answers_topics\\1.0.0\\b2712a72fde278f1d6e96cc4f485fd89ed2f79ecb231441e13645b53da021902\\cache-72c740bbacfeb5e5.arrow\n",
            "Loading cached shuffled indices for dataset at C:\\Users\\bogya\\.cache\\huggingface\\datasets\\yahoo_answers_topics\\yahoo_answers_topics\\1.0.0\\b2712a72fde278f1d6e96cc4f485fd89ed2f79ecb231441e13645b53da021902\\cache-fda54cca51fd45e1.arrow\n"
          ]
        }
      ],
      "source": [
        "tokenized_ds = tokenized_datasets.remove_columns(['id', 'best_answer', 'question_title', 'question_content'])\n",
        "tokenized_ds = tokenized_ds.rename_column('topic', 'labels')\n",
        "\n",
        "tokenized_ds.set_format('torch')\n",
        "\n",
        "small_train_dataset = tokenized_ds['train'].shuffle(seed=42).select(range(1000))\n",
        "small_eval_dataset = tokenized_ds['test'].shuffle(seed=42).select(range(1000))\n",
        "\n",
        "train_dataloader = DataLoader(small_train_dataset, shuffle=True, batch_size=8)\n",
        "eval_dataloader = DataLoader(small_eval_dataset, batch_size=8)"
      ]
    },
    {
      "cell_type": "markdown",
      "metadata": {},
      "source": [
        "# fine-tune the model (write the training loop), plot the loss changes and measure results in terms of weighted F1 score"
      ]
    },
    {
      "cell_type": "code",
      "execution_count": 14,
      "metadata": {},
      "outputs": [],
      "source": [
        "from transformers import TrainingArguments\n",
        "\n",
        "training_args = TrainingArguments(output_dir=\"test_trainer\")"
      ]
    },
    {
      "cell_type": "code",
      "execution_count": 15,
      "metadata": {},
      "outputs": [
        {
          "data": {
            "text/plain": [
              "ElectraModel(\n",
              "  (embeddings): ElectraEmbeddings(\n",
              "    (word_embeddings): Embedding(30522, 128, padding_idx=0)\n",
              "    (position_embeddings): Embedding(512, 128)\n",
              "    (token_type_embeddings): Embedding(2, 128)\n",
              "    (LayerNorm): LayerNorm((128,), eps=1e-12, elementwise_affine=True)\n",
              "    (dropout): Dropout(p=0.1, inplace=False)\n",
              "  )\n",
              "  (embeddings_project): Linear(in_features=128, out_features=256, bias=True)\n",
              "  (encoder): ElectraEncoder(\n",
              "    (layer): ModuleList(\n",
              "      (0): ElectraLayer(\n",
              "        (attention): ElectraAttention(\n",
              "          (self): ElectraSelfAttention(\n",
              "            (query): Linear(in_features=256, out_features=256, bias=True)\n",
              "            (key): Linear(in_features=256, out_features=256, bias=True)\n",
              "            (value): Linear(in_features=256, out_features=256, bias=True)\n",
              "            (dropout): Dropout(p=0.1, inplace=False)\n",
              "          )\n",
              "          (output): ElectraSelfOutput(\n",
              "            (dense): Linear(in_features=256, out_features=256, bias=True)\n",
              "            (LayerNorm): LayerNorm((256,), eps=1e-12, elementwise_affine=True)\n",
              "            (dropout): Dropout(p=0.1, inplace=False)\n",
              "          )\n",
              "        )\n",
              "        (intermediate): ElectraIntermediate(\n",
              "          (dense): Linear(in_features=256, out_features=1024, bias=True)\n",
              "          (intermediate_act_fn): GELUActivation()\n",
              "        )\n",
              "        (output): ElectraOutput(\n",
              "          (dense): Linear(in_features=1024, out_features=256, bias=True)\n",
              "          (LayerNorm): LayerNorm((256,), eps=1e-12, elementwise_affine=True)\n",
              "          (dropout): Dropout(p=0.1, inplace=False)\n",
              "        )\n",
              "      )\n",
              "      (1): ElectraLayer(\n",
              "        (attention): ElectraAttention(\n",
              "          (self): ElectraSelfAttention(\n",
              "            (query): Linear(in_features=256, out_features=256, bias=True)\n",
              "            (key): Linear(in_features=256, out_features=256, bias=True)\n",
              "            (value): Linear(in_features=256, out_features=256, bias=True)\n",
              "            (dropout): Dropout(p=0.1, inplace=False)\n",
              "          )\n",
              "          (output): ElectraSelfOutput(\n",
              "            (dense): Linear(in_features=256, out_features=256, bias=True)\n",
              "            (LayerNorm): LayerNorm((256,), eps=1e-12, elementwise_affine=True)\n",
              "            (dropout): Dropout(p=0.1, inplace=False)\n",
              "          )\n",
              "        )\n",
              "        (intermediate): ElectraIntermediate(\n",
              "          (dense): Linear(in_features=256, out_features=1024, bias=True)\n",
              "          (intermediate_act_fn): GELUActivation()\n",
              "        )\n",
              "        (output): ElectraOutput(\n",
              "          (dense): Linear(in_features=1024, out_features=256, bias=True)\n",
              "          (LayerNorm): LayerNorm((256,), eps=1e-12, elementwise_affine=True)\n",
              "          (dropout): Dropout(p=0.1, inplace=False)\n",
              "        )\n",
              "      )\n",
              "      (2): ElectraLayer(\n",
              "        (attention): ElectraAttention(\n",
              "          (self): ElectraSelfAttention(\n",
              "            (query): Linear(in_features=256, out_features=256, bias=True)\n",
              "            (key): Linear(in_features=256, out_features=256, bias=True)\n",
              "            (value): Linear(in_features=256, out_features=256, bias=True)\n",
              "            (dropout): Dropout(p=0.1, inplace=False)\n",
              "          )\n",
              "          (output): ElectraSelfOutput(\n",
              "            (dense): Linear(in_features=256, out_features=256, bias=True)\n",
              "            (LayerNorm): LayerNorm((256,), eps=1e-12, elementwise_affine=True)\n",
              "            (dropout): Dropout(p=0.1, inplace=False)\n",
              "          )\n",
              "        )\n",
              "        (intermediate): ElectraIntermediate(\n",
              "          (dense): Linear(in_features=256, out_features=1024, bias=True)\n",
              "          (intermediate_act_fn): GELUActivation()\n",
              "        )\n",
              "        (output): ElectraOutput(\n",
              "          (dense): Linear(in_features=1024, out_features=256, bias=True)\n",
              "          (LayerNorm): LayerNorm((256,), eps=1e-12, elementwise_affine=True)\n",
              "          (dropout): Dropout(p=0.1, inplace=False)\n",
              "        )\n",
              "      )\n",
              "      (3): ElectraLayer(\n",
              "        (attention): ElectraAttention(\n",
              "          (self): ElectraSelfAttention(\n",
              "            (query): Linear(in_features=256, out_features=256, bias=True)\n",
              "            (key): Linear(in_features=256, out_features=256, bias=True)\n",
              "            (value): Linear(in_features=256, out_features=256, bias=True)\n",
              "            (dropout): Dropout(p=0.1, inplace=False)\n",
              "          )\n",
              "          (output): ElectraSelfOutput(\n",
              "            (dense): Linear(in_features=256, out_features=256, bias=True)\n",
              "            (LayerNorm): LayerNorm((256,), eps=1e-12, elementwise_affine=True)\n",
              "            (dropout): Dropout(p=0.1, inplace=False)\n",
              "          )\n",
              "        )\n",
              "        (intermediate): ElectraIntermediate(\n",
              "          (dense): Linear(in_features=256, out_features=1024, bias=True)\n",
              "          (intermediate_act_fn): GELUActivation()\n",
              "        )\n",
              "        (output): ElectraOutput(\n",
              "          (dense): Linear(in_features=1024, out_features=256, bias=True)\n",
              "          (LayerNorm): LayerNorm((256,), eps=1e-12, elementwise_affine=True)\n",
              "          (dropout): Dropout(p=0.1, inplace=False)\n",
              "        )\n",
              "      )\n",
              "      (4): ElectraLayer(\n",
              "        (attention): ElectraAttention(\n",
              "          (self): ElectraSelfAttention(\n",
              "            (query): Linear(in_features=256, out_features=256, bias=True)\n",
              "            (key): Linear(in_features=256, out_features=256, bias=True)\n",
              "            (value): Linear(in_features=256, out_features=256, bias=True)\n",
              "            (dropout): Dropout(p=0.1, inplace=False)\n",
              "          )\n",
              "          (output): ElectraSelfOutput(\n",
              "            (dense): Linear(in_features=256, out_features=256, bias=True)\n",
              "            (LayerNorm): LayerNorm((256,), eps=1e-12, elementwise_affine=True)\n",
              "            (dropout): Dropout(p=0.1, inplace=False)\n",
              "          )\n",
              "        )\n",
              "        (intermediate): ElectraIntermediate(\n",
              "          (dense): Linear(in_features=256, out_features=1024, bias=True)\n",
              "          (intermediate_act_fn): GELUActivation()\n",
              "        )\n",
              "        (output): ElectraOutput(\n",
              "          (dense): Linear(in_features=1024, out_features=256, bias=True)\n",
              "          (LayerNorm): LayerNorm((256,), eps=1e-12, elementwise_affine=True)\n",
              "          (dropout): Dropout(p=0.1, inplace=False)\n",
              "        )\n",
              "      )\n",
              "      (5): ElectraLayer(\n",
              "        (attention): ElectraAttention(\n",
              "          (self): ElectraSelfAttention(\n",
              "            (query): Linear(in_features=256, out_features=256, bias=True)\n",
              "            (key): Linear(in_features=256, out_features=256, bias=True)\n",
              "            (value): Linear(in_features=256, out_features=256, bias=True)\n",
              "            (dropout): Dropout(p=0.1, inplace=False)\n",
              "          )\n",
              "          (output): ElectraSelfOutput(\n",
              "            (dense): Linear(in_features=256, out_features=256, bias=True)\n",
              "            (LayerNorm): LayerNorm((256,), eps=1e-12, elementwise_affine=True)\n",
              "            (dropout): Dropout(p=0.1, inplace=False)\n",
              "          )\n",
              "        )\n",
              "        (intermediate): ElectraIntermediate(\n",
              "          (dense): Linear(in_features=256, out_features=1024, bias=True)\n",
              "          (intermediate_act_fn): GELUActivation()\n",
              "        )\n",
              "        (output): ElectraOutput(\n",
              "          (dense): Linear(in_features=1024, out_features=256, bias=True)\n",
              "          (LayerNorm): LayerNorm((256,), eps=1e-12, elementwise_affine=True)\n",
              "          (dropout): Dropout(p=0.1, inplace=False)\n",
              "        )\n",
              "      )\n",
              "      (6): ElectraLayer(\n",
              "        (attention): ElectraAttention(\n",
              "          (self): ElectraSelfAttention(\n",
              "            (query): Linear(in_features=256, out_features=256, bias=True)\n",
              "            (key): Linear(in_features=256, out_features=256, bias=True)\n",
              "            (value): Linear(in_features=256, out_features=256, bias=True)\n",
              "            (dropout): Dropout(p=0.1, inplace=False)\n",
              "          )\n",
              "          (output): ElectraSelfOutput(\n",
              "            (dense): Linear(in_features=256, out_features=256, bias=True)\n",
              "            (LayerNorm): LayerNorm((256,), eps=1e-12, elementwise_affine=True)\n",
              "            (dropout): Dropout(p=0.1, inplace=False)\n",
              "          )\n",
              "        )\n",
              "        (intermediate): ElectraIntermediate(\n",
              "          (dense): Linear(in_features=256, out_features=1024, bias=True)\n",
              "          (intermediate_act_fn): GELUActivation()\n",
              "        )\n",
              "        (output): ElectraOutput(\n",
              "          (dense): Linear(in_features=1024, out_features=256, bias=True)\n",
              "          (LayerNorm): LayerNorm((256,), eps=1e-12, elementwise_affine=True)\n",
              "          (dropout): Dropout(p=0.1, inplace=False)\n",
              "        )\n",
              "      )\n",
              "      (7): ElectraLayer(\n",
              "        (attention): ElectraAttention(\n",
              "          (self): ElectraSelfAttention(\n",
              "            (query): Linear(in_features=256, out_features=256, bias=True)\n",
              "            (key): Linear(in_features=256, out_features=256, bias=True)\n",
              "            (value): Linear(in_features=256, out_features=256, bias=True)\n",
              "            (dropout): Dropout(p=0.1, inplace=False)\n",
              "          )\n",
              "          (output): ElectraSelfOutput(\n",
              "            (dense): Linear(in_features=256, out_features=256, bias=True)\n",
              "            (LayerNorm): LayerNorm((256,), eps=1e-12, elementwise_affine=True)\n",
              "            (dropout): Dropout(p=0.1, inplace=False)\n",
              "          )\n",
              "        )\n",
              "        (intermediate): ElectraIntermediate(\n",
              "          (dense): Linear(in_features=256, out_features=1024, bias=True)\n",
              "          (intermediate_act_fn): GELUActivation()\n",
              "        )\n",
              "        (output): ElectraOutput(\n",
              "          (dense): Linear(in_features=1024, out_features=256, bias=True)\n",
              "          (LayerNorm): LayerNorm((256,), eps=1e-12, elementwise_affine=True)\n",
              "          (dropout): Dropout(p=0.1, inplace=False)\n",
              "        )\n",
              "      )\n",
              "      (8): ElectraLayer(\n",
              "        (attention): ElectraAttention(\n",
              "          (self): ElectraSelfAttention(\n",
              "            (query): Linear(in_features=256, out_features=256, bias=True)\n",
              "            (key): Linear(in_features=256, out_features=256, bias=True)\n",
              "            (value): Linear(in_features=256, out_features=256, bias=True)\n",
              "            (dropout): Dropout(p=0.1, inplace=False)\n",
              "          )\n",
              "          (output): ElectraSelfOutput(\n",
              "            (dense): Linear(in_features=256, out_features=256, bias=True)\n",
              "            (LayerNorm): LayerNorm((256,), eps=1e-12, elementwise_affine=True)\n",
              "            (dropout): Dropout(p=0.1, inplace=False)\n",
              "          )\n",
              "        )\n",
              "        (intermediate): ElectraIntermediate(\n",
              "          (dense): Linear(in_features=256, out_features=1024, bias=True)\n",
              "          (intermediate_act_fn): GELUActivation()\n",
              "        )\n",
              "        (output): ElectraOutput(\n",
              "          (dense): Linear(in_features=1024, out_features=256, bias=True)\n",
              "          (LayerNorm): LayerNorm((256,), eps=1e-12, elementwise_affine=True)\n",
              "          (dropout): Dropout(p=0.1, inplace=False)\n",
              "        )\n",
              "      )\n",
              "      (9): ElectraLayer(\n",
              "        (attention): ElectraAttention(\n",
              "          (self): ElectraSelfAttention(\n",
              "            (query): Linear(in_features=256, out_features=256, bias=True)\n",
              "            (key): Linear(in_features=256, out_features=256, bias=True)\n",
              "            (value): Linear(in_features=256, out_features=256, bias=True)\n",
              "            (dropout): Dropout(p=0.1, inplace=False)\n",
              "          )\n",
              "          (output): ElectraSelfOutput(\n",
              "            (dense): Linear(in_features=256, out_features=256, bias=True)\n",
              "            (LayerNorm): LayerNorm((256,), eps=1e-12, elementwise_affine=True)\n",
              "            (dropout): Dropout(p=0.1, inplace=False)\n",
              "          )\n",
              "        )\n",
              "        (intermediate): ElectraIntermediate(\n",
              "          (dense): Linear(in_features=256, out_features=1024, bias=True)\n",
              "          (intermediate_act_fn): GELUActivation()\n",
              "        )\n",
              "        (output): ElectraOutput(\n",
              "          (dense): Linear(in_features=1024, out_features=256, bias=True)\n",
              "          (LayerNorm): LayerNorm((256,), eps=1e-12, elementwise_affine=True)\n",
              "          (dropout): Dropout(p=0.1, inplace=False)\n",
              "        )\n",
              "      )\n",
              "      (10): ElectraLayer(\n",
              "        (attention): ElectraAttention(\n",
              "          (self): ElectraSelfAttention(\n",
              "            (query): Linear(in_features=256, out_features=256, bias=True)\n",
              "            (key): Linear(in_features=256, out_features=256, bias=True)\n",
              "            (value): Linear(in_features=256, out_features=256, bias=True)\n",
              "            (dropout): Dropout(p=0.1, inplace=False)\n",
              "          )\n",
              "          (output): ElectraSelfOutput(\n",
              "            (dense): Linear(in_features=256, out_features=256, bias=True)\n",
              "            (LayerNorm): LayerNorm((256,), eps=1e-12, elementwise_affine=True)\n",
              "            (dropout): Dropout(p=0.1, inplace=False)\n",
              "          )\n",
              "        )\n",
              "        (intermediate): ElectraIntermediate(\n",
              "          (dense): Linear(in_features=256, out_features=1024, bias=True)\n",
              "          (intermediate_act_fn): GELUActivation()\n",
              "        )\n",
              "        (output): ElectraOutput(\n",
              "          (dense): Linear(in_features=1024, out_features=256, bias=True)\n",
              "          (LayerNorm): LayerNorm((256,), eps=1e-12, elementwise_affine=True)\n",
              "          (dropout): Dropout(p=0.1, inplace=False)\n",
              "        )\n",
              "      )\n",
              "      (11): ElectraLayer(\n",
              "        (attention): ElectraAttention(\n",
              "          (self): ElectraSelfAttention(\n",
              "            (query): Linear(in_features=256, out_features=256, bias=True)\n",
              "            (key): Linear(in_features=256, out_features=256, bias=True)\n",
              "            (value): Linear(in_features=256, out_features=256, bias=True)\n",
              "            (dropout): Dropout(p=0.1, inplace=False)\n",
              "          )\n",
              "          (output): ElectraSelfOutput(\n",
              "            (dense): Linear(in_features=256, out_features=256, bias=True)\n",
              "            (LayerNorm): LayerNorm((256,), eps=1e-12, elementwise_affine=True)\n",
              "            (dropout): Dropout(p=0.1, inplace=False)\n",
              "          )\n",
              "        )\n",
              "        (intermediate): ElectraIntermediate(\n",
              "          (dense): Linear(in_features=256, out_features=1024, bias=True)\n",
              "          (intermediate_act_fn): GELUActivation()\n",
              "        )\n",
              "        (output): ElectraOutput(\n",
              "          (dense): Linear(in_features=1024, out_features=256, bias=True)\n",
              "          (LayerNorm): LayerNorm((256,), eps=1e-12, elementwise_affine=True)\n",
              "          (dropout): Dropout(p=0.1, inplace=False)\n",
              "        )\n",
              "      )\n",
              "    )\n",
              "  )\n",
              ")"
            ]
          },
          "execution_count": 15,
          "metadata": {},
          "output_type": "execute_result"
        }
      ],
      "source": [
        "import torch\n",
        "\n",
        "device = torch.device(\"cuda\") if torch.cuda.is_available() else torch.device(\"cpu\")\n",
        "model.to(device)"
      ]
    },
    {
      "cell_type": "code",
      "execution_count": 18,
      "metadata": {},
      "outputs": [
        {
          "name": "stderr",
          "output_type": "stream",
          "text": [
            "Some weights of the model checkpoint at google/electra-small-generator were not used when initializing ElectraForSequenceClassification: ['generator_predictions.LayerNorm.weight', 'generator_lm_head.weight', 'generator_predictions.dense.bias', 'generator_lm_head.bias', 'generator_predictions.dense.weight', 'generator_predictions.LayerNorm.bias']\n",
            "- This IS expected if you are initializing ElectraForSequenceClassification from the checkpoint of a model trained on another task or with another architecture (e.g. initializing a BertForSequenceClassification model from a BertForPreTraining model).\n",
            "- This IS NOT expected if you are initializing ElectraForSequenceClassification from the checkpoint of a model that you expect to be exactly identical (initializing a BertForSequenceClassification model from a BertForSequenceClassification model).\n",
            "Some weights of ElectraForSequenceClassification were not initialized from the model checkpoint at google/electra-small-generator and are newly initialized: ['classifier.out_proj.bias', 'classifier.out_proj.weight', 'classifier.dense.bias', 'classifier.dense.weight']\n",
            "You should probably TRAIN this model on a down-stream task to be able to use it for predictions and inference.\n",
            "Some weights of the model checkpoint at bert-base-cased were not used when initializing BertForSequenceClassification: ['cls.seq_relationship.weight', 'cls.predictions.transform.dense.bias', 'cls.predictions.transform.LayerNorm.bias', 'cls.predictions.transform.dense.weight', 'cls.predictions.transform.LayerNorm.weight', 'cls.seq_relationship.bias', 'cls.predictions.decoder.weight', 'cls.predictions.bias']\n",
            "- This IS expected if you are initializing BertForSequenceClassification from the checkpoint of a model trained on another task or with another architecture (e.g. initializing a BertForSequenceClassification model from a BertForPreTraining model).\n",
            "- This IS NOT expected if you are initializing BertForSequenceClassification from the checkpoint of a model that you expect to be exactly identical (initializing a BertForSequenceClassification model from a BertForSequenceClassification model).\n",
            "Some weights of BertForSequenceClassification were not initialized from the model checkpoint at bert-base-cased and are newly initialized: ['classifier.bias', 'classifier.weight']\n",
            "You should probably TRAIN this model on a down-stream task to be able to use it for predictions and inference.\n"
          ]
        }
      ],
      "source": [
        "from transformers import AutoModelForSequenceClassification\n",
        "\n",
        "model1 = AutoModelForSequenceClassification.from_pretrained(MODEL_NAME, num_labels=10)"
      ]
    },
    {
      "cell_type": "code",
      "execution_count": 36,
      "metadata": {},
      "outputs": [],
      "source": [
        "model = model1"
      ]
    },
    {
      "cell_type": "markdown",
      "metadata": {},
      "source": [
        "# define optimizer, sheduler (optional)"
      ]
    },
    {
      "cell_type": "code",
      "execution_count": 37,
      "metadata": {},
      "outputs": [],
      "source": [
        "from torch.optim import AdamW\n",
        "from transformers import get_scheduler\n",
        "\n",
        "optimizer = AdamW(model.parameters(), lr=5e-5)\n",
        "\n",
        "num_epochs = 3\n",
        "num_training_steps = num_epochs * len(train_dataloader)\n",
        "lr_scheduler = get_scheduler(\n",
        "    name=\"linear\", optimizer=optimizer, num_warmup_steps=0, num_training_steps=num_training_steps\n",
        ")"
      ]
    },
    {
      "cell_type": "code",
      "execution_count": 38,
      "metadata": {},
      "outputs": [
        {
          "name": "stderr",
          "output_type": "stream",
          "text": [
            "Loading cached shuffled indices for dataset at C:\\Users\\bogya\\.cache\\huggingface\\datasets\\yahoo_answers_topics\\yahoo_answers_topics\\1.0.0\\b2712a72fde278f1d6e96cc4f485fd89ed2f79ecb231441e13645b53da021902\\cache-72c740bbacfeb5e5.arrow\n",
            "Loading cached shuffled indices for dataset at C:\\Users\\bogya\\.cache\\huggingface\\datasets\\yahoo_answers_topics\\yahoo_answers_topics\\1.0.0\\b2712a72fde278f1d6e96cc4f485fd89ed2f79ecb231441e13645b53da021902\\cache-fda54cca51fd45e1.arrow\n",
            "100%|██████████| 1250/1250 [2:19:35<00:00,  6.70s/it]\n"
          ]
        }
      ],
      "source": [
        "from tqdm.auto import tqdm\n",
        "from torch.utils.data import DataLoader\n",
        "\n",
        "\n",
        "tokenized_ds = tokenized_datasets.remove_columns(['id', 'best_answer', 'question_title', 'question_content'])\n",
        "tokenized_ds = tokenized_ds.rename_column('topic', 'labels')\n",
        "\n",
        "tokenized_ds.set_format('torch')\n",
        "\n",
        "small_train_dataset = tokenized_ds['train'].shuffle(seed=42).select(range(1000))\n",
        "small_eval_dataset = tokenized_ds['test'].shuffle(seed=42).select(range(1000))\n",
        "\n",
        "train_dataloader = DataLoader(small_train_dataset, shuffle=True, batch_size=8)\n",
        "eval_dataloader = DataLoader(small_eval_dataset, batch_size=8)\n",
        "\n",
        "progress_bar = tqdm(range(num_training_steps))\n",
        "\n",
        "lloss = []\n",
        "\n",
        "model.train()\n",
        "for epoch in range(num_epochs):\n",
        "\n",
        "    for batch in train_dataloader:\n",
        "        batch = {k: v.to(device) for k, v in batch.items()}\n",
        "        \n",
        "        outputs = model(**batch)\n",
        "\n",
        "        loss = outputs.loss\n",
        "        lloss.append(loss.item())\n",
        "        loss.backward()\n",
        "\n",
        "        optimizer.step()\n",
        "        lr_scheduler.step()\n",
        "        optimizer.zero_grad()\n",
        "        progress_bar.update(1)\n",
        "\n",
        "        continue\n",
        "\n",
        "    continue"
      ]
    },
    {
      "cell_type": "code",
      "execution_count": 39,
      "metadata": {},
      "outputs": [
        {
          "data": {
            "image/png": "[encoded data removed]",
            "text/plain": [
              "<Figure size 432x288 with 1 Axes>"
            ]
          },
          "metadata": {
            "needs_background": "light"
          },
          "output_type": "display_data"
        }
      ],
      "source": [
        "import matplotlib.pyplot as plt\n",
        "\n",
        "plt.plot(lloss)\n",
        "plt.title('loss func')\n",
        "plt.show()"
      ]
    },
    {
      "cell_type": "code",
      "execution_count": 40,
      "metadata": {},
      "outputs": [],
      "source": [
        "model.save_pretrained('./saves/model')"
      ]
    },
    {
      "cell_type": "code",
      "execution_count": 45,
      "metadata": {},
      "outputs": [
        {
          "name": "stdout",
          "output_type": "stream",
          "text": [
            "{'accuracy': 0.398}\n",
            "{'f1': 0.35915927303732603}\n"
          ]
        }
      ],
      "source": [
        "metric_acc = load_metric('accuracy')\n",
        "metric_f1 = load_metric('f1')\n",
        "\n",
        "lloss = []\n",
        "\n",
        "model.eval()\n",
        "for batch in eval_dataloader:\n",
        "    batch = {k: v.to(device) for k, v in batch.items()}\n",
        "    \n",
        "    with torch.no_grad():\n",
        "        outputs = model(**batch)\n",
        "\n",
        "    logits = outputs.logits\n",
        "    predictions = torch.argmax(logits, dim=-1)\n",
        "    \n",
        "    metric_f1.add_batch(predictions=predictions, references=batch[\"labels\"])\n",
        "    metric_acc.add_batch(predictions=predictions, references=batch[\"labels\"])\n",
        "\n",
        "    continue\n",
        "\n",
        "print(metric_acc.compute())\n",
        "print(metric_f1.compute(average='weighted'))"
      ]
    },
    {
      "cell_type": "markdown",
      "metadata": {},
      "source": [
        "# get the masked word prediction (sample sentences above) on the fine-tuned model, why the results as they are and what should be done in order to change that (write down your answer)"
      ]
    },
    {
      "cell_type": "code",
      "execution_count": null,
      "metadata": {},
      "outputs": [
        {
          "name": "stderr",
          "output_type": "stream",
          "text": [
            "Some weights of the model checkpoint at ./saves/model were not used when initializing ElectraForMaskedLM: ['classifier.dense.weight', 'classifier.out_proj.weight', 'classifier.out_proj.bias', 'classifier.dense.bias']\n",
            "- This IS expected if you are initializing ElectraForMaskedLM from the checkpoint of a model trained on another task or with another architecture (e.g. initializing a BertForSequenceClassification model from a BertForPreTraining model).\n",
            "- This IS NOT expected if you are initializing ElectraForMaskedLM from the checkpoint of a model that you expect to be exactly identical (initializing a BertForSequenceClassification model from a BertForSequenceClassification model).\n",
            "Some weights of ElectraForMaskedLM were not initialized from the model checkpoint at ./saves/model and are newly initialized: ['generator_lm_head.weight', 'generator_predictions.dense.weight', 'generator_predictions.LayerNorm.bias', 'generator_lm_head.bias', 'generator_predictions.dense.bias', 'generator_predictions.LayerNorm.weight']\n",
            "You should probably TRAIN this model on a down-stream task to be able to use it for predictions and inference.\n"
          ]
        }
      ],
      "source": [
        "tuned_model = ElectraForMaskedLM.from_pretrained('./saves/model')\n",
        "fill_mask = pipeline(\n",
        "    \"fill-mask\",\n",
        "    model = tuned_model,\n",
        "    tokenizer = TOKENIZER_NAME\n",
        ")"
      ]
    },
    {
      "cell_type": "code",
      "execution_count": null,
      "metadata": {},
      "outputs": [
        {
          "name": "stdout",
          "output_type": "stream",
          "text": [
            "[{'score': 0.0003229582798667252, 'token': 16038, 'token_str': 'teatro', 'sequence': \"why don't you ask teatro?\"}, {'score': 0.00030556999263353646, 'token': 7377, 'token_str': '##sha', 'sequence': \"why don't you asksha?\"}, {'score': 0.0003035592380911112, 'token': 8791, 'token_str': '##san', 'sequence': \"why don't you asksan?\"}, {'score': 0.0002969232446048409, 'token': 21335, 'token_str': '##iza', 'sequence': \"why don't you askiza?\"}, {'score': 0.0002962549333460629, 'token': 14483, 'token_str': '##cian', 'sequence': \"why don't you askcian?\"}]\n"
          ]
        }
      ],
      "source": [
        "print(\n",
        "    fill_mask(f\"Why don't you ask [MASK]?\")\n",
        ")"
      ]
    },
    {
      "cell_type": "code",
      "execution_count": null,
      "metadata": {},
      "outputs": [
        {
          "name": "stdout",
          "output_type": "stream",
          "text": [
            "[{'score': 0.00036228704266250134, 'token': 18715, 'token_str': '##tok', 'sequence': 'what istok'}, {'score': 0.00027333732577972114, 'token': 26692, 'token_str': '##roi', 'sequence': 'what isroi'}, {'score': 0.0002597114071249962, 'token': 27026, 'token_str': '##americana', 'sequence': 'what isamericana'}, {'score': 0.0002426864521112293, 'token': 22494, 'token_str': '##rou', 'sequence': 'what isrou'}, {'score': 0.00024260641657747328, 'token': 21766, 'token_str': 'ru', 'sequence': 'what is ru'}]\n"
          ]
        }
      ],
      "source": [
        "print(\n",
        "    fill_mask(f\"What is [MASK]\")\n",
        ")"
      ]
    },
    {
      "cell_type": "code",
      "execution_count": null,
      "metadata": {},
      "outputs": [
        {
          "name": "stdout",
          "output_type": "stream",
          "text": [
            "[{'score': 0.0003195492026861757, 'token': 28935, 'token_str': 'mala', 'sequence': \"let's talk about mala physics\"}, {'score': 0.00031232848414219916, 'token': 27647, 'token_str': 'dade', 'sequence': \"let's talk about dade physics\"}, {'score': 0.0002936407399829477, 'token': 29242, 'token_str': 'tuba', 'sequence': \"let's talk about tuba physics\"}, {'score': 0.00026657464331947267, 'token': 24698, 'token_str': 'guerra', 'sequence': \"let's talk about guerra physics\"}, {'score': 0.00026393652660772204, 'token': 28976, 'token_str': 'interfered', 'sequence': \"let's talk about interfered physics\"}]\n"
          ]
        }
      ],
      "source": [
        "print(\n",
        "    fill_mask(f\"Let's talk about [MASK] physics\")\n",
        ")"
      ]
    }
  ],
  "metadata": {
    "accelerator": "GPU",
    "colab": {
      "collapsed_sections": [],
      "name": "HW4.ipynb",
      "provenance": []
    },
    "kernelspec": {
      "display_name": "Python 3",
      "name": "python3"
    },
    "language_info": {
      "codemirror_mode": {
        "name": "ipython",
        "version": 3
      },
      "file_extension": ".py",
      "mimetype": "text/x-python",
      "name": "python",
      "nbconvert_exporter": "python",
      "pygments_lexer": "ipython3",
      "version": "3.7.9"
    }
  },
  "nbformat": 4,
  "nbformat_minor": 0
}

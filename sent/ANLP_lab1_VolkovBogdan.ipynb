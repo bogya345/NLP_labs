{
  "cells": [
    {
      "cell_type": "markdown",
      "metadata": {
        "id": "TEEKQwtYDMUz"
      },
      "source": [
        "**SOFT DEADLINE:** `20.03.2022 23:59 msk` "
      ]
    },
    {
      "cell_type": "markdown",
      "metadata": {
        "id": "g-IAo9sYDMU-"
      },
      "source": [
        "# [5 points] Part 1. Data cleaning"
      ]
    },
    {
      "cell_type": "markdown",
      "metadata": {
        "id": "-SNyjuGjDMU_"
      },
      "source": [
        "The task is to clear the text data of the crawled web-pages from different sites. \n",
        "\n",
        "It is necessary to ensure that the distribution of the 100 most frequent words includes only meaningful words in english language (not particles, conjunctions, prepositions, numbers, tags, symbols)."
      ]
    },
    {
      "cell_type": "markdown",
      "metadata": {
        "id": "TA4VkGl2DMVB"
      },
      "source": [
        "Determine the order of operations below and carry out the appropriate cleaning.\n",
        "\n",
        "1. Remove non-english words\n",
        "1. Remove html-tags (try to do it with regular expression, or play with beautifulsoap library)\n",
        "1. Apply lemmatization / stemming\n",
        "1. Remove stop-words\n",
        "1. Additional processing - At your own initiative, if this helps to obtain a better distribution"
      ]
    },
    {
      "cell_type": "markdown",
      "metadata": {},
      "source": [
        "The choosen order:\n",
        "1. Remove html-tags\n",
        "2. Remove non-english words\n",
        "3. Remove stop-words\n",
        "4. Apply lemmatization / stemming\n",
        "5. Additional processing"
      ]
    },
    {
      "cell_type": "markdown",
      "metadata": {
        "id": "hjLsB9pdDMVC"
      },
      "source": [
        "#### Hints"
      ]
    },
    {
      "cell_type": "markdown",
      "metadata": {
        "id": "mk6ZLncvDMVD"
      },
      "source": [
        "1. To do text processing you may use nltk and re libraries\n",
        "1. and / or any other libraries on your choise"
      ]
    },
    {
      "cell_type": "markdown",
      "metadata": {
        "id": "KCbTa1OiDMVE"
      },
      "source": [
        "#### Data reading"
      ]
    },
    {
      "cell_type": "markdown",
      "metadata": {
        "id": "cXbG649IDMVG"
      },
      "source": [
        "The dataset for this part can be downloaded here: `https://drive.google.com/file/d/1wLwo83J-ikCCZY2RAoYx8NghaSaQ-lBA/view?usp=sharing`"
      ]
    },
    {
      "cell_type": "code",
      "execution_count": 43,
      "metadata": {},
      "outputs": [],
      "source": [
        "import pandas as pd\n",
        "\n",
        "# path = './storage/hw1/train.csv'\n",
        "path = './storage/hw1/web_sites_data.csv'"
      ]
    },
    {
      "cell_type": "code",
      "execution_count": 44,
      "metadata": {
        "id": "HN8UxSDkDMVH"
      },
      "outputs": [
        {
          "data": {
            "text/html": [
              "<div>\n",
              "<style scoped>\n",
              "    .dataframe tbody tr th:only-of-type {\n",
              "        vertical-align: middle;\n",
              "    }\n",
              "\n",
              "    .dataframe tbody tr th {\n",
              "        vertical-align: top;\n",
              "    }\n",
              "\n",
              "    .dataframe thead th {\n",
              "        text-align: right;\n",
              "    }\n",
              "</style>\n",
              "<table border=\"1\" class=\"dataframe\">\n",
              "  <thead>\n",
              "    <tr style=\"text-align: right;\">\n",
              "      <th></th>\n",
              "      <th>text</th>\n",
              "    </tr>\n",
              "  </thead>\n",
              "  <tbody>\n",
              "    <tr>\n",
              "      <th>0</th>\n",
              "      <td>&lt;html&gt;\\n&lt;head profile=\"http://www.w3.org/2005/...</td>\n",
              "    </tr>\n",
              "    <tr>\n",
              "      <th>1</th>\n",
              "      <td>&lt;html&gt;\\n&lt;head profile=\"http://www.w3.org/2005/...</td>\n",
              "    </tr>\n",
              "    <tr>\n",
              "      <th>2</th>\n",
              "      <td>&lt;html&gt;\\n&lt;head profile=\"http://www.w3.org/2005/...</td>\n",
              "    </tr>\n",
              "    <tr>\n",
              "      <th>3</th>\n",
              "      <td>&lt;html&gt;\\n&lt;head profile=\"http://www.w3.org/2005/...</td>\n",
              "    </tr>\n",
              "    <tr>\n",
              "      <th>4</th>\n",
              "      <td>&lt;html&gt;\\n&lt;head profile=\"http://www.w3.org/2005/...</td>\n",
              "    </tr>\n",
              "  </tbody>\n",
              "</table>\n",
              "</div>"
            ],
            "text/plain": [
              "                                                text\n",
              "0  <html>\\n<head profile=\"http://www.w3.org/2005/...\n",
              "1  <html>\\n<head profile=\"http://www.w3.org/2005/...\n",
              "2  <html>\\n<head profile=\"http://www.w3.org/2005/...\n",
              "3  <html>\\n<head profile=\"http://www.w3.org/2005/...\n",
              "4  <html>\\n<head profile=\"http://www.w3.org/2005/..."
            ]
          },
          "execution_count": 44,
          "metadata": {},
          "output_type": "execute_result"
        }
      ],
      "source": [
        "# limit = None\n",
        "limit = 1000\n",
        "\n",
        "data = pd.read_csv(path, nrows=limit)\n",
        "\n",
        "# for debug\n",
        "# data = data.sample(100)\n",
        "\n",
        "data.head()"
      ]
    },
    {
      "cell_type": "code",
      "execution_count": 45,
      "metadata": {},
      "outputs": [
        {
          "data": {
            "text/plain": [
              "('<html>\\n<head profile=\"http://www.w3.org/2005/10/profile\">\\n<LINK REL=\"SHORTCUT ICON\" href=\"http://i.bookmooch.com/favicon.ico\"> \\n<link rel=\"icon\" type=\"image/png\" href=\"http://i.bookmooch.com/favicon.p',\n",
              " '<html>\\n<head profile=\"http://www.w3.org/2005/10/profile\">\\n<LINK REL=\"SHORTCUT ICON\" href=\"http://i.bookmooch.com/favicon.ico\"> \\n<link rel=\"icon\" type=\"image/png\" href=\"http://i.bookmooch.com/favicon.png\">\\n<title>Kevin J.Anderson : The X-Files (3) - Ground Zero</title>\\n<meta http-equiv=\"Content-Type\"')"
            ]
          },
          "execution_count": 45,
          "metadata": {},
          "output_type": "execute_result"
        }
      ],
      "source": [
        "ldata = data.values.tolist()\n",
        "ldata = [i[0] for i in ldata]\n",
        "ldata[0][:200], ldata[10][:300]"
      ]
    },
    {
      "cell_type": "markdown",
      "metadata": {
        "id": "fGBTg9g4DMVJ"
      },
      "source": [
        "#### Data processing"
      ]
    },
    {
      "cell_type": "code",
      "execution_count": 46,
      "metadata": {
        "id": "nbpM3QUwDMVK"
      },
      "outputs": [],
      "source": [
        "import nltk\n",
        "from nltk.corpus import stopwords\n",
        "from nltk.stem import PorterStemmer, WordNetLemmatizer\n",
        "from nltk.tokenize import TreebankWordTokenizer, WhitespaceTokenizer\n",
        "import re\n",
        "# nltk.download('words')\n",
        "# nltk.download('stopwords')\n",
        "# nltk.download(\"wordnet\")\n",
        "# nltk.download('omw-1.4') \n",
        "# nltk.download('punkt') \n"
      ]
    },
    {
      "cell_type": "code",
      "execution_count": 47,
      "metadata": {},
      "outputs": [],
      "source": [
        "# 1. Remove html-tags\n",
        "def removeByRegex(ldata, lregexes, replaceValue=\"\"):\n",
        "    tldata = []\n",
        "\n",
        "    for item in ldata:\n",
        "\n",
        "        nitem = item\n",
        "        for reg in lregexes:\n",
        "            nitem = re.sub(reg, replaceValue, nitem)\n",
        "            continue\n",
        "\n",
        "        tldata.append(nitem)\n",
        "        continue\n",
        "\n",
        "    return tldata\n",
        "\n",
        "# lregexes = [\n",
        "#     \"\"\"<(\"[^\"]*\"|'[^']*'|[^'\">])*>\"\"\", \"\\t\", \"\"\"[\\(\\):\"'=/><-\\?&\\\\#;_,.]\"\"\", \"  +\", \"\\r\", \"\\n\", \"nbsp;\"\n",
        "# ]\n",
        "\n",
        "html_reg = \"\"\"<(\"[^\"]*\"|'[^']*'|[^'\">])*>\"\"\"\n",
        "other_reg = \"\"\n",
        "\n",
        "tldata = []\n",
        "for item in ldata:\n",
        "\n",
        "    nitem = item\n",
        "    nitem = re.sub(html_reg, \"\", nitem)\n",
        "    nitem = re.sub(\"\\t\", \"\", nitem)\n",
        "    nitem = re.sub(\"\\r\", \"\", nitem)\n",
        "    nitem = re.sub(\"\\n\", \"\", nitem)\n",
        "    nitem = re.sub(\"\"\"[\\(\\):\"'=/><-\\?&\\\\#;_,.]\"\"\", \"\", nitem)\n",
        "    nitem = re.sub(\"nbsp;\", \"\", nitem)\n",
        "    nitem = re.sub(\"  +\", \"\", nitem)\n",
        "    nitem = re.sub(\"--\", \"\", nitem)\n",
        "\n",
        "    tldata.append(nitem)\n",
        "    \n",
        "    continue\n",
        "\n",
        "ldata = tldata"
      ]
    },
    {
      "cell_type": "code",
      "execution_count": 48,
      "metadata": {},
      "outputs": [
        {
          "data": {
            "text/plain": [
              "['eric',\n",
              " 'newbyshort',\n",
              " 'walk',\n",
              " 'in',\n",
              " 'the',\n",
              " 'hindu',\n",
              " 'kushnbsperic',\n",
              " 'newbyshort',\n",
              " 'walk',\n",
              " 'in',\n",
              " 'the',\n",
              " 'hindu',\n",
              " 'kushauthoreric',\n",
              " 'newbytitleshort',\n",
              " 'walk']"
            ]
          },
          "execution_count": 48,
          "metadata": {},
          "output_type": "execute_result"
        }
      ],
      "source": [
        "## intermediate processing\n",
        "def intermediateProccessing(ldata):\n",
        "\n",
        "    tmp = ldata\n",
        "\n",
        "    # to low each character\n",
        "    tldata = []\n",
        "    for item in tmp:\n",
        "        tldata.append(item.lower())\n",
        "        continue\n",
        "    tmp = tldata\n",
        "\n",
        "    # split string to words\n",
        "    tldata = []\n",
        "    for item in tmp:\n",
        "        # tldata.append(item.split(' '))\n",
        "        # tmp = []\n",
        "        tldata.append([i for i in nltk.word_tokenize(item)])\n",
        "\n",
        "        continue\n",
        "    tmp = tldata\n",
        "\n",
        "    # delete empty items\n",
        "    tldata = []\n",
        "    for words in tmp:\n",
        "        tldata.append([word for word in words if word != ''])\n",
        "        continue\n",
        "    tmp = tldata\n",
        "\n",
        "    return tmp\n",
        "\n",
        "ldata = intermediateProccessing(ldata)\n",
        "ldata[1][:15]"
      ]
    },
    {
      "cell_type": "code",
      "execution_count": 49,
      "metadata": {
        "id": "H59-VAGmDMVM"
      },
      "outputs": [
        {
          "name": "stdout",
          "output_type": "stream",
          "text": [
            "621\n",
            "449\n"
          ]
        },
        {
          "data": {
            "text/plain": [
              "['eric', 'walk', 'in', 'the', 'walk', 'in', 'the', 'walk', 'in', 'the']"
            ]
          },
          "execution_count": 49,
          "metadata": {},
          "output_type": "execute_result"
        }
      ],
      "source": [
        "# 2. Remove non-english words (+ to lower type)\n",
        "def removeNonEngWords(ldata):\n",
        "    eng_words = set(nltk.corpus.words.words())\n",
        "\n",
        "    tldata = []\n",
        "    print(len(ldata[1]))\n",
        "    for words in ldata:\n",
        "        # tldata.append(\" \".join(w for w in nltk.wordpunct_tokenize(item) if w.lower() in eng_words or not w.isalpha()))\n",
        "        tldata.append([w.lower() for w in words if w.lower() in eng_words or not w.isalpha()])\n",
        "        continue\n",
        "\n",
        "    return tldata\n",
        "\n",
        "# ldata = removeNonEngWords(ldata)\n",
        "\n",
        "eng_words = set(nltk.corpus.words.words())\n",
        "\n",
        "tldata = []\n",
        "print(len(ldata[1]))\n",
        "for words in ldata:\n",
        "    # tldata.append(\" \".join(w for w in nltk.wordpunct_tokenize(item) if w.lower() in eng_words or not w.isalpha()))\n",
        "    tldata.append([w for w in words if w in eng_words or not w.isalpha()])\n",
        "    \n",
        "ldata = tldata\n",
        "\n",
        "print(len(ldata[1]))\n",
        "ldata[1][:10]"
      ]
    },
    {
      "cell_type": "code",
      "execution_count": 50,
      "metadata": {},
      "outputs": [],
      "source": [
        "# ## its running more that 130 mins...\n",
        "# # 3. Remove stop-words\n",
        "\n",
        "# tldata = []\n",
        "# for words in ldata:\n",
        "#     print(len(words))\n",
        "#     tmp = [word for word in words if word not in stopwords.words()]\n",
        "#     tldata.append(tmp)\n",
        "#     continue\n",
        "\n",
        "# len(words)\n",
        "# ldata = tldata\n",
        "# ldata[1][:100]"
      ]
    },
    {
      "cell_type": "code",
      "execution_count": 51,
      "metadata": {},
      "outputs": [
        {
          "data": {
            "text/plain": [
              "['eric', 'walk', 'in', 'the', 'walk', 'in', 'the', 'walk', 'in', 'the']"
            ]
          },
          "execution_count": 51,
          "metadata": {},
          "output_type": "execute_result"
        }
      ],
      "source": [
        "# 4. Apply lemmatization / stemming\n",
        "def applyLemma(ldata):\n",
        "    lemmatizer = WordNetLemmatizer()\n",
        "\n",
        "    tldata = []\n",
        "    for words in ldata:\n",
        "        tldata.append([ i for i in [lemmatizer.lemmatize(i) for i in words] if i != '' and i != ' ' ])\n",
        "        continue\n",
        "\n",
        "    return tldata\n",
        "\n",
        "def applyStemm(ldata):\n",
        "    stemmer = PorterStemmer()\n",
        "\n",
        "    tldata = []\n",
        "    for words in ldata:\n",
        "        tldata.append([ i for i in [stemmer.stem(i) for i in words] if i != '' and i != ' ' ])\n",
        "        continue\n",
        "\n",
        "    return tldata\n",
        "\n",
        "ldata = applyLemma(ldata)\n",
        "\n",
        "\n",
        "# ldata = tldata\n",
        "ldata[1][:10]"
      ]
    },
    {
      "cell_type": "code",
      "execution_count": 52,
      "metadata": {},
      "outputs": [],
      "source": [
        "# 5. Additional processing\n"
      ]
    },
    {
      "cell_type": "markdown",
      "metadata": {
        "id": "_h_c-1kBDMVN"
      },
      "source": [
        "#### Vizualization"
      ]
    },
    {
      "cell_type": "markdown",
      "metadata": {
        "id": "HTu83iAWDMVN"
      },
      "source": [
        "As a visualisation, it is necessary to construct a frequency distribution of words (the 100 most common words), sorted by frequency. \n",
        "\n",
        "For visualization purposes we advice you to use plotly, but you are free to choose other libraries"
      ]
    },
    {
      "cell_type": "code",
      "execution_count": 53,
      "metadata": {
        "id": "bHX6IXcrDMVO"
      },
      "outputs": [],
      "source": [
        "# wordfreq1 = [[word, words.count(word)] for word in ldata]\n",
        "# wordfreq1[1][:10]"
      ]
    },
    {
      "cell_type": "code",
      "execution_count": 54,
      "metadata": {},
      "outputs": [],
      "source": [
        "def get_wordfreq(list, limit=100):\n",
        "    fwordfreq = []\n",
        "    for word in list:\n",
        "\n",
        "        fwordfreq.append([word, int(list.count(word))])\n",
        "\n",
        "        if(len(fwordfreq) >= limit):\n",
        "            break\n",
        "        \n",
        "        continue\n",
        "    \n",
        "    fwordfreq = pd.DataFrame(fwordfreq, columns=['word', 'freq'])\n",
        "    fwordfreq.drop_duplicates(inplace=True)\n",
        "\n",
        "    return fwordfreq"
      ]
    },
    {
      "cell_type": "code",
      "execution_count": 55,
      "metadata": {},
      "outputs": [],
      "source": [
        "# init flatten list of words\n",
        "fldata = []\n",
        "for sublist in ldata:\n",
        "    for item in sublist:\n",
        "        # if item not in fldata:\n",
        "        fldata.append(item)\n",
        "        continue\n",
        "    continue\n",
        "\n",
        "fwordfreq = get_wordfreq(fldata)\n",
        "# fwordfreq = fwordfreq[fwordfreq[:, 1].argsort()[::-1]]\n",
        "fwordfreq.sort_values(by=['freq', 'word'], ascending=False, inplace=True)\n",
        "# fwordfreq.head()"
      ]
    },
    {
      "cell_type": "code",
      "execution_count": 56,
      "metadata": {},
      "outputs": [
        {
          "data": {
            "image/png": "[encoded data removed]",
            "text/plain": [
              "<Figure size 3600x1440 with 1 Axes>"
            ]
          },
          "metadata": {
            "needs_background": "light"
          },
          "output_type": "display_data"
        }
      ],
      "source": [
        "import matplotlib.pyplot as plt\n",
        "\n",
        "def show_wordfreq(wordfreq, limit=100, bar_width=0.4):\n",
        "    data = wordfreq[:limit]\n",
        "    plt.figure(figsize=(50, 20))\n",
        "    # plt.bar(data['word'], data['freq'], bar_width)\n",
        "    plt.bar(data['word'], data['freq'])\n",
        "    plt.xlabel('Words')\n",
        "    plt.ylabel('Frequency')\n",
        "    plt.show()\n",
        "    pass\n",
        "\n",
        "\n",
        "show_wordfreq(fwordfreq)"
      ]
    },
    {
      "cell_type": "markdown",
      "metadata": {
        "id": "5ZxcPfLTDMVO"
      },
      "source": [
        "#### Provide examples of processed text (some parts)\n",
        "\n",
        "Is everything all right with the result of cleaning these examples? What kind of information was lost?"
      ]
    },
    {
      "cell_type": "markdown",
      "metadata": {},
      "source": [
        "# [10 points] Part 2. Duplicates detection. LSH"
      ]
    },
    {
      "cell_type": "markdown",
      "metadata": {
        "id": "ZuMBHSiDDMVR"
      },
      "source": [
        "#### Libraries you can use\n",
        "\n",
        "1. LSH - https://github.com/ekzhu/datasketch\n",
        "1. LSH - https://github.com/mattilyra/LSH\n",
        "1. Any other library on your choise"
      ]
    },
    {
      "cell_type": "markdown",
      "metadata": {
        "id": "uff5aBpgDMVR"
      },
      "source": [
        "1. Detect duplicated text (duplicates do not imply a complete word-to-word match, but texts that may contain a paraphrase, rearrangement of words, sentences)\n",
        "1. Make a plot dependency of duplicates on shingle size (with fixed minhash length) \n",
        "1. Make a plot dependency of duplicates on minhash length (with fixed shingle size)"
      ]
    },
    {
      "cell_type": "code",
      "execution_count": 1,
      "metadata": {},
      "outputs": [],
      "source": [
        "# raise Exception('nope')\n",
        "import datasketch\n",
        "from nltk import ngrams\n",
        "from datasketch import MinHash, MinHashLSH\n",
        "import matplotlib.pyplot as plt"
      ]
    },
    {
      "cell_type": "code",
      "execution_count": 2,
      "metadata": {
        "id": "QOFZ7AvyDMVS"
      },
      "outputs": [],
      "source": [
        "# 1. Detect duplicated text\n",
        "def duplicates_number_detection(perm=128, n_gr=2):\n",
        "  lsh = MinHashLSH(threshold=0.4, num_perm=perm)\n",
        "\n",
        "  # Create MinHash objects\n",
        "  minhashes = {}\n",
        "  for c, i in ldata:\n",
        "    minhash = MinHash(num_perm=perm)\n",
        "    #print(i)\n",
        "    for d in ngrams(i, n_gr):\n",
        "      #print(d)\n",
        "      minhash.update(\"\".join(d).encode('utf-8'))\n",
        "    lsh.insert(c, minhash)\n",
        "    minhashes[c] = minhash\n",
        "\n",
        "\n",
        "  dupl_pairs = 0\n",
        "  for i in range(len(minhashes.keys())):\n",
        "    result = lsh.query(minhashes[i])\n",
        "    dupl_pairs += len(result) -1\n",
        "  return dupl_pairs/2"
      ]
    },
    {
      "cell_type": "code",
      "execution_count": 3,
      "metadata": {},
      "outputs": [
        {
          "name": "stdout",
          "output_type": "stream",
          "text": [
            "40\n"
          ]
        },
        {
          "ename": "NameError",
          "evalue": "name 'data' is not defined",
          "output_type": "error",
          "traceback": [
            "\u001b[1;31m---------------------------------------------------------------------------\u001b[0m",
            "\u001b[1;31mNameError\u001b[0m                                 Traceback (most recent call last)",
            "\u001b[1;32m~\\AppData\\Local\\Temp\\ipykernel_13224\\1090074950.py\u001b[0m in \u001b[0;36m<module>\u001b[1;34m\u001b[0m\n\u001b[0;32m      5\u001b[0m     \u001b[0mprint\u001b[0m\u001b[1;33m(\u001b[0m\u001b[0mi\u001b[0m\u001b[1;33m)\u001b[0m\u001b[1;33m\u001b[0m\u001b[1;33m\u001b[0m\u001b[0m\n\u001b[0;32m      6\u001b[0m     \u001b[0mper_list\u001b[0m\u001b[1;33m.\u001b[0m\u001b[0mappend\u001b[0m\u001b[1;33m(\u001b[0m\u001b[0mi\u001b[0m\u001b[1;33m)\u001b[0m\u001b[1;33m\u001b[0m\u001b[1;33m\u001b[0m\u001b[0m\n\u001b[1;32m----> 7\u001b[1;33m     \u001b[0mduplicates_list\u001b[0m\u001b[1;33m.\u001b[0m\u001b[0mappend\u001b[0m\u001b[1;33m(\u001b[0m\u001b[0mduplicates_number_detection\u001b[0m\u001b[1;33m(\u001b[0m\u001b[0mi\u001b[0m\u001b[1;33m,\u001b[0m\u001b[1;36m3\u001b[0m\u001b[1;33m)\u001b[0m\u001b[1;33m)\u001b[0m\u001b[1;33m\u001b[0m\u001b[1;33m\u001b[0m\u001b[0m\n\u001b[0m",
            "\u001b[1;32m~\\AppData\\Local\\Temp\\ipykernel_13224\\1333278860.py\u001b[0m in \u001b[0;36mduplicates_number_detection\u001b[1;34m(perm, n_gr)\u001b[0m\n\u001b[0;32m      5\u001b[0m   \u001b[1;31m# Create MinHash objects\u001b[0m\u001b[1;33m\u001b[0m\u001b[1;33m\u001b[0m\u001b[1;33m\u001b[0m\u001b[0m\n\u001b[0;32m      6\u001b[0m   \u001b[0mminhashes\u001b[0m \u001b[1;33m=\u001b[0m \u001b[1;33m{\u001b[0m\u001b[1;33m}\u001b[0m\u001b[1;33m\u001b[0m\u001b[1;33m\u001b[0m\u001b[0m\n\u001b[1;32m----> 7\u001b[1;33m   \u001b[1;32mfor\u001b[0m \u001b[0mc\u001b[0m\u001b[1;33m,\u001b[0m \u001b[0mi\u001b[0m \u001b[1;32min\u001b[0m \u001b[0menumerate\u001b[0m\u001b[1;33m(\u001b[0m\u001b[0mdata\u001b[0m\u001b[1;33m[\u001b[0m\u001b[1;34m'tokens_ns'\u001b[0m\u001b[1;33m]\u001b[0m\u001b[1;33m)\u001b[0m\u001b[1;33m:\u001b[0m\u001b[1;33m\u001b[0m\u001b[1;33m\u001b[0m\u001b[0m\n\u001b[0m\u001b[0;32m      8\u001b[0m     \u001b[0mminhash\u001b[0m \u001b[1;33m=\u001b[0m \u001b[0mMinHash\u001b[0m\u001b[1;33m(\u001b[0m\u001b[0mnum_perm\u001b[0m\u001b[1;33m=\u001b[0m\u001b[0mperm\u001b[0m\u001b[1;33m)\u001b[0m\u001b[1;33m\u001b[0m\u001b[1;33m\u001b[0m\u001b[0m\n\u001b[0;32m      9\u001b[0m     \u001b[1;31m#print(i)\u001b[0m\u001b[1;33m\u001b[0m\u001b[1;33m\u001b[0m\u001b[1;33m\u001b[0m\u001b[0m\n",
            "\u001b[1;31mNameError\u001b[0m: name 'data' is not defined"
          ]
        }
      ],
      "source": [
        "per_list = []\n",
        "ngr_list = []\n",
        "duplicates_list = []\n",
        "for i in [40,60,80,100,128]:\n",
        "    print(i)\n",
        "    per_list.append(i)\n",
        "    duplicates_list.append(duplicates_number_detection(i,3))"
      ]
    },
    {
      "cell_type": "code",
      "execution_count": null,
      "metadata": {},
      "outputs": [],
      "source": [
        "duplicates_df = pd.DataFrame()\n",
        "duplicates_df['permutations'] = per_list\n",
        "duplicates_df['duplicates'] = list(map(int, duplicates_list))"
      ]
    },
    {
      "cell_type": "code",
      "execution_count": 59,
      "metadata": {
        "id": "HPonm9U3DMVS"
      },
      "outputs": [],
      "source": [
        "# 2. Make a plot dependency of duplicates on shingle size (with fixed minhash length) \n",
        "plt.bar([str(x) for x in duplicates_df['permutations']],duplicates_df['duplicates'])\n",
        "plt.xlabel('permutations')\n",
        "plt.ylabel('duplicates pairs')\n",
        "plt.title('Number of duplicated pairs with fixed number of ngrams = 3',pad=20)\n",
        "plt.show()"
      ]
    },
    {
      "cell_type": "code",
      "execution_count": 60,
      "metadata": {},
      "outputs": [],
      "source": [
        "# 3. Make a plot dependency of duplicates on minhash length\n",
        "ngr_list = []\n",
        "duplicates_list = []\n",
        "for i in [1,2,3,4,5]:\n",
        "    print(i)\n",
        "    ngr_list.append(i)\n",
        "    duplicates_list.append(duplicates_number_detection(128,i))\n",
        "\n",
        "plt.bar([str(x) for x in ngr_list],duplicates_list)\n",
        "plt.xlabel('ngrams')\n",
        "plt.ylabel('duplicates pairs')\n",
        "plt.title('Number of duplicated pairs with fixed number of permutations = 128',pad=20)\n",
        "plt.show()"
      ]
    },
    {
      "cell_type": "markdown",
      "metadata": {
        "id": "njdTa1daDMVS"
      },
      "source": [
        "# [Optional 10 points] Part 3. Topic model"
      ]
    },
    {
      "cell_type": "markdown",
      "metadata": {
        "id": "4BwJNkn2DMVT"
      },
      "source": [
        "In this part you will learn how to do topic modeling with common tools and assess the resulting quality of the models. "
      ]
    },
    {
      "cell_type": "code",
      "execution_count": 61,
      "metadata": {
        "id": "l0WcLMhHDMVT"
      },
      "outputs": [],
      "source": [
        "import pandas as pd\n",
        "\n",
        "path3 = './storage/hw1/data.csv'"
      ]
    },
    {
      "cell_type": "code",
      "execution_count": 62,
      "metadata": {},
      "outputs": [
        {
          "data": {
            "text/html": [
              "<div>\n",
              "<style scoped>\n",
              "    .dataframe tbody tr th:only-of-type {\n",
              "        vertical-align: middle;\n",
              "    }\n",
              "\n",
              "    .dataframe tbody tr th {\n",
              "        vertical-align: top;\n",
              "    }\n",
              "\n",
              "    .dataframe thead th {\n",
              "        text-align: right;\n",
              "    }\n",
              "</style>\n",
              "<table border=\"1\" class=\"dataframe\">\n",
              "  <thead>\n",
              "    <tr style=\"text-align: right;\">\n",
              "      <th></th>\n",
              "      <th>text</th>\n",
              "      <th>author</th>\n",
              "    </tr>\n",
              "    <tr>\n",
              "      <th>id</th>\n",
              "      <th></th>\n",
              "      <th></th>\n",
              "    </tr>\n",
              "  </thead>\n",
              "  <tbody>\n",
              "    <tr>\n",
              "      <th>id26305</th>\n",
              "      <td>This process, however, afforded me no means of...</td>\n",
              "      <td>EAP</td>\n",
              "    </tr>\n",
              "    <tr>\n",
              "      <th>id17569</th>\n",
              "      <td>It never once occurred to me that the fumbling...</td>\n",
              "      <td>HPL</td>\n",
              "    </tr>\n",
              "    <tr>\n",
              "      <th>id11008</th>\n",
              "      <td>In his left hand was a gold snuff box, from wh...</td>\n",
              "      <td>EAP</td>\n",
              "    </tr>\n",
              "    <tr>\n",
              "      <th>id27763</th>\n",
              "      <td>How lovely is spring As we looked from Windsor...</td>\n",
              "      <td>MWS</td>\n",
              "    </tr>\n",
              "    <tr>\n",
              "      <th>id12958</th>\n",
              "      <td>Finding nothing else, not even gold, the Super...</td>\n",
              "      <td>HPL</td>\n",
              "    </tr>\n",
              "  </tbody>\n",
              "</table>\n",
              "</div>"
            ],
            "text/plain": [
              "                                                      text author\n",
              "id                                                               \n",
              "id26305  This process, however, afforded me no means of...    EAP\n",
              "id17569  It never once occurred to me that the fumbling...    HPL\n",
              "id11008  In his left hand was a gold snuff box, from wh...    EAP\n",
              "id27763  How lovely is spring As we looked from Windsor...    MWS\n",
              "id12958  Finding nothing else, not even gold, the Super...    HPL"
            ]
          },
          "execution_count": 62,
          "metadata": {},
          "output_type": "execute_result"
        }
      ],
      "source": [
        "limit = 1000\n",
        "\n",
        "data3 = pd.read_csv(path3, nrows=limit, index_col='id')\n",
        "\n",
        "# for debug\n",
        "# data3 = data3.sample(1000)\n",
        "\n",
        "data3.head()"
      ]
    },
    {
      "cell_type": "markdown",
      "metadata": {
        "id": "WkNFzxqPDMVU"
      },
      "source": [
        "The provided data contain chunked stories by Edgar Allan Poe (EAP), Mary Shelley (MWS), and HP Lovecraft (HPL).\n",
        "\n",
        "The dataset can be downloaded here: `https://drive.google.com/file/d/14tAjAzHr6UmFVFV7ABTyNHBh-dWHAaLH/view?usp=sharing`"
      ]
    },
    {
      "cell_type": "markdown",
      "metadata": {
        "id": "5BNIa1miDMVU"
      },
      "source": [
        "#### Preprocess dataset with the functions from the Part 1"
      ]
    },
    {
      "cell_type": "code",
      "execution_count": 63,
      "metadata": {
        "id": "9B8PZNRyDMVV"
      },
      "outputs": [
        {
          "data": {
            "text/plain": [
              "('This process, however, afforded me no means of ascertaining the dimensions of my dungeon; as I might make its circuit, and return to the point whence I set out, without being aware of the fact; so per',\n",
              " 'He shall find that I can feel my injuries; he shall learn to dread my revenge\" A few days after he arrived.')"
            ]
          },
          "execution_count": 63,
          "metadata": {},
          "output_type": "execute_result"
        }
      ],
      "source": [
        "ldata3 = data3['text'].values.tolist()\n",
        "ldata3[0][:200], ldata3[10][:200]"
      ]
    },
    {
      "cell_type": "code",
      "execution_count": 64,
      "metadata": {},
      "outputs": [],
      "source": [
        "import nltk\n",
        "from nltk.corpus import stopwords\n",
        "from nltk.stem import PorterStemmer, WordNetLemmatizer\n",
        "from nltk.tokenize import TreebankWordTokenizer, WhitespaceTokenizer\n",
        "import re\n",
        "# nltk.download('words')\n",
        "# nltk.download('stopwords')\n",
        "# nltk.download(\"wordnet\")\n",
        "# nltk.download('omw-1.4')"
      ]
    },
    {
      "cell_type": "code",
      "execution_count": 65,
      "metadata": {},
      "outputs": [
        {
          "data": {
            "text/plain": [
              "'It never once occurred to me that the fumbling might be a mere mistake'"
            ]
          },
          "execution_count": 65,
          "metadata": {},
          "output_type": "execute_result"
        }
      ],
      "source": [
        "# 1. Remove html-tags\n",
        "lregexes = [\n",
        "    \"\\t\", \"\"\"[\\(\\):\"'=/><-\\?&\\\\#;_,.]\"\"\", \"  +\", \"\\r\", \"\\n\", \"nbsp;\"\n",
        "]\n",
        "ldata3 = removeByRegex(ldata3, lregexes)\n",
        "ldata3[1][:300]"
      ]
    },
    {
      "cell_type": "code",
      "execution_count": 66,
      "metadata": {},
      "outputs": [
        {
          "data": {
            "text/plain": [
              "['it',\n",
              " 'never',\n",
              " 'once',\n",
              " 'occurred',\n",
              " 'to',\n",
              " 'me',\n",
              " 'that',\n",
              " 'the',\n",
              " 'fumbling',\n",
              " 'might',\n",
              " 'be',\n",
              " 'a',\n",
              " 'mere',\n",
              " 'mistake']"
            ]
          },
          "execution_count": 66,
          "metadata": {},
          "output_type": "execute_result"
        }
      ],
      "source": [
        "## intermediate processing\n",
        "ldata3 = intermediateProccessing(ldata3)\n",
        "ldata3[1][:30]"
      ]
    },
    {
      "cell_type": "code",
      "execution_count": 67,
      "metadata": {},
      "outputs": [
        {
          "name": "stdout",
          "output_type": "stream",
          "text": [
            "14\n"
          ]
        },
        {
          "data": {
            "text/plain": [
              "13"
            ]
          },
          "execution_count": 67,
          "metadata": {},
          "output_type": "execute_result"
        }
      ],
      "source": [
        "# 2. Remove non-english words\n",
        "ldata3 = removeNonEngWords(ldata3)\n",
        "len(ldata3[1])"
      ]
    },
    {
      "cell_type": "code",
      "execution_count": 68,
      "metadata": {},
      "outputs": [],
      "source": [
        "# # 3. Remove stop-words\n",
        "# tldata = []\n",
        "\n",
        "# print(len(ldata[1]))\n",
        "\n",
        "# for words in ldata:\n",
        "#     tmp = [word for word in words if word not in stopwords.words()]\n",
        "#     tldata.append(tmp)\n",
        "#     continue\n",
        "\n",
        "# ldata = tldata\n",
        "# print(len(ldata[1]))"
      ]
    },
    {
      "cell_type": "code",
      "execution_count": 69,
      "metadata": {},
      "outputs": [
        {
          "data": {
            "text/plain": [
              "['it', 'never', 'once', 'to', 'me', 'that', 'the', 'fumbling', 'might', 'be']"
            ]
          },
          "execution_count": 69,
          "metadata": {},
          "output_type": "execute_result"
        }
      ],
      "source": [
        "# 4. Apply lemmatization / stemming\n",
        "ldata3 = applyLemma(ldata3)\n",
        "ldata3[1][:10]"
      ]
    },
    {
      "cell_type": "markdown",
      "metadata": {
        "id": "qKU2D29CDMVV"
      },
      "source": [
        "#### Quality estimation"
      ]
    },
    {
      "cell_type": "markdown",
      "metadata": {
        "id": "l6xfd3vpDMVW"
      },
      "source": [
        "Implement the following three quality fuctions: `coherence` (or `tf-idf coherence`), `normalized PMI`, `based on the distributed word representation`(you can use pretrained w2v vectors or some other model). You are free to use any libraries (for instance gensim) and components."
      ]
    },
    {
      "cell_type": "code",
      "execution_count": 70,
      "metadata": {},
      "outputs": [],
      "source": [
        "import math\n",
        "import numpy as np\n",
        "\n",
        "import gensim\n",
        "import gensim.corpora as corpora\n",
        "from gensim import topic_coherence\n",
        "from gensim.test.utils import common_corpus, common_dictionary\n",
        "from gensim.models import Word2Vec\n",
        "from gensim.models.ldamodel import LdaModel\n",
        "from gensim.models.coherencemodel import CoherenceModel\n",
        "from sklearn.metrics import normalized_mutual_info_score\n"
      ]
    },
    {
      "cell_type": "code",
      "execution_count": 71,
      "metadata": {},
      "outputs": [
        {
          "data": {
            "text/plain": [
              "-2.1017591012313366"
            ]
          },
          "execution_count": 71,
          "metadata": {},
          "output_type": "execute_result"
        }
      ],
      "source": [
        "# def coherence(x, y, fs=1.0):\n",
        "#     Pxy, Pxx, Pyy = 0, 0, 0\n",
        "#     Cxy = abs(Pxy)**2/(Pxx*Pyy)\n",
        "#     return Cxy\n",
        "\n",
        "def coherence(input_data, topics=ldata3):\n",
        "    id2word = corpora.Dictionary(input_data)\n",
        "    corpus = [id2word.doc2bow(text) for text in input_data]\n",
        "    # cm = CoherenceModel(topics=topics, corpus=common_corpus, dictionary=common_dictionary, coherence='u_mass')\n",
        "    cm = CoherenceModel(topics=topics, corpus=corpus,\n",
        "                        dictionary=id2word, coherence='u_mass')\n",
        "    coherence = cm.get_coherence()  # get coherence value\n",
        "    return coherence\n",
        "\n",
        "coherence(ldata3)"
      ]
    },
    {
      "cell_type": "code",
      "execution_count": 72,
      "metadata": {},
      "outputs": [
        {
          "data": {
            "text/plain": [
              "-0.1468022970444337"
            ]
          },
          "execution_count": 72,
          "metadata": {},
          "output_type": "execute_result"
        }
      ],
      "source": [
        "# https://towardsdatascience.com/word2vec-for-phrases-learning-embeddings-for-more-than-one-word-727b6cf723cf\n",
        "def npmi(x, y, input_data=ldata3):\n",
        "    def por(x, y): return sum([1 for words in input_data if x in words or y in words])\n",
        "    def p(x): return sum([1 for words in input_data if x in words])\n",
        "    npmi = ( np.log2( por(x, y) / ( p(x) * p(y) ) ) / -np.log(por(x, y)) )\n",
        "    return npmi\n",
        "\n",
        "npmi('walk', 'short')\n",
        "\n",
        "# def pmi(word1, word2, unigram_freq, bigram_freq):\n",
        "#     prob_word1 = unigram_freq[word1] / float(sum(unigram_freq.values()))\n",
        "#     prob_word2 = unigram_freq[word2] / float(sum(unigram_freq.values()))\n",
        "#     prob_word1_word2 = bigram_freq[\" \".join(\n",
        "#         [word1, word2])] / float(sum(bigram_freq.values()))\n",
        "#     return math.log(prob_word1_word2/float(prob_word1*prob_word2), 2)\n",
        "\n",
        "# https://scikit-learn.org/stable/modules/generated/sklearn.metrics.normalized_mutual_info_score.html\n",
        "# def npmi():\n",
        "#     res = normalized_mutual_info_score([0, 0, 1, 1], [0, 0, 1, 1])\n",
        "#     return res\n"
      ]
    },
    {
      "cell_type": "code",
      "execution_count": 73,
      "metadata": {},
      "outputs": [],
      "source": [
        "# https://towardsdatascience.com/word-representation-in-natural-language-processing-part-i-e4cd54fed3d4\n",
        "\n",
        "# https://www.geeksforgeeks.org/python-word-embedding-using-word2vec/\n",
        "\n",
        "# https://towardsdatascience.com/word-embeddings-exploration-explanation-and-exploitation-with-code-in-python-5dac99d5d795\n",
        "\n",
        "\n",
        "def representationDistr():\n",
        "    return"
      ]
    },
    {
      "cell_type": "markdown",
      "metadata": {
        "id": "Kp1jTJmPDMVX"
      },
      "source": [
        "### Topic modeling"
      ]
    },
    {
      "cell_type": "markdown",
      "metadata": {
        "id": "lgbVtgphDMVX"
      },
      "source": [
        "Read and preprocess the dataset, divide it into train and test parts `sklearn.model_selection.train_test_split`. Test part will be used in classification part. For simplicity we do not perform cross-validation here, but you should remember about it."
      ]
    },
    {
      "cell_type": "code",
      "execution_count": 74,
      "metadata": {},
      "outputs": [],
      "source": [
        "from sklearn.model_selection import train_test_split"
      ]
    },
    {
      "cell_type": "code",
      "execution_count": 75,
      "metadata": {},
      "outputs": [],
      "source": [
        "X = data3['text']\n",
        "y = data3['author']"
      ]
    },
    {
      "cell_type": "code",
      "execution_count": 76,
      "metadata": {
        "id": "_Uh0J_C8DMVY"
      },
      "outputs": [],
      "source": [
        "X_train, X_test, y_train, y_test = train_test_split(X, y, test_size=0.33, random_state=42)"
      ]
    },
    {
      "cell_type": "markdown",
      "metadata": {
        "id": "rNepVz1wDMVY"
      },
      "source": [
        "Plot the histogram of resulting tokens counts in the processed datasets."
      ]
    },
    {
      "cell_type": "code",
      "execution_count": 77,
      "metadata": {},
      "outputs": [],
      "source": [
        "import nltk\n",
        "from nltk.tokenize import TreebankWordTokenizer, WhitespaceTokenizer"
      ]
    },
    {
      "cell_type": "code",
      "execution_count": 78,
      "metadata": {
        "id": "L_7JVEfbDMVZ"
      },
      "outputs": [
        {
          "name": "stdout",
          "output_type": "stream",
          "text": [
            "['What', 'he', 'said', 'was', 'unintelligible', ',', 'but', 'words', 'were', 'uttered'] 16\n",
            "['Valdemar', ',', 'do', 'you', 'still', 'sleep', '?', \"''\"] 8\n"
          ]
        }
      ],
      "source": [
        "def getTokensAndCounts(data):\n",
        "    tokens = []\n",
        "    for item in data:\n",
        "        tokens.append([i for i in nltk.word_tokenize(item)])\n",
        "        continue\n",
        "    counts = []\n",
        "    for i in tokens:\n",
        "        counts.append(len(i))\n",
        "        continue\n",
        "    print(tokens[0][:10], counts[0])\n",
        "    return tokens, counts\n",
        "\n",
        "train_tokens, train_counts = getTokensAndCounts(X_train)\n",
        "test_tokens, test_counts = getTokensAndCounts(X_test)"
      ]
    },
    {
      "cell_type": "code",
      "execution_count": 79,
      "metadata": {},
      "outputs": [
        {
          "data": {
            "image/png": "[encoded data removed]",
            "text/plain": [
              "<Figure size 432x288 with 1 Axes>"
            ]
          },
          "metadata": {
            "needs_background": "light"
          },
          "output_type": "display_data"
        },
        {
          "data": {
            "image/png": "[encoded data removed]",
            "text/plain": [
              "<Figure size 432x288 with 1 Axes>"
            ]
          },
          "metadata": {
            "needs_background": "light"
          },
          "output_type": "display_data"
        }
      ],
      "source": [
        "def showTokensCounts(tokens, counts, title='Histogram of counts'):\n",
        "    plt.hist(counts)\n",
        "\n",
        "    plt.ylabel('amount')\n",
        "    # plt.xlabel('')\n",
        "\n",
        "    plt.title(title)\n",
        "    plt.show()\n",
        "    pass\n",
        "\n",
        "showTokensCounts(train_tokens, train_counts, title='Hist of train dataset')\n",
        "showTokensCounts(test_tokens, test_counts, title='Hist of test dataset')"
      ]
    },
    {
      "cell_type": "markdown",
      "metadata": {
        "id": "4N86AaGNDMVa"
      },
      "source": [
        "#### NMF"
      ]
    },
    {
      "cell_type": "markdown",
      "metadata": {
        "id": "kPelcAFQDMVa"
      },
      "source": [
        "Implement topic modeling with NMF (you can use `sklearn.decomposition.NMF`) and print out resulting topics. Try to change hyperparameters to better fit the dataset."
      ]
    },
    {
      "cell_type": "code",
      "execution_count": 80,
      "metadata": {
        "id": "DCPzCMMMDMVa"
      },
      "outputs": [],
      "source": [
        "from sklearn.decomposition import NMF"
      ]
    },
    {
      "cell_type": "code",
      "execution_count": 81,
      "metadata": {},
      "outputs": [],
      "source": [
        "import numpy as np\n",
        "X = np.array([[1, 1], [2, 1], [3, 1.2], [4, 1], [5, 0.8], [6, 1]])\n",
        "\n",
        "model = NMF(n_components=2, init='random', random_state=0)\n",
        "W = model.fit_transform(X)\n",
        "H = model.components_"
      ]
    },
    {
      "cell_type": "markdown",
      "metadata": {
        "id": "zuaKAGIWDMVb"
      },
      "source": [
        "#### LDA"
      ]
    },
    {
      "cell_type": "markdown",
      "metadata": {
        "id": "PAK_MfQxDMVb"
      },
      "source": [
        "Implement topic modeling with LDA (you can use gensim implementation) and print out resulting topics. Try to change hyperparameters to better fit the dataset."
      ]
    },
    {
      "cell_type": "code",
      "execution_count": 82,
      "metadata": {},
      "outputs": [],
      "source": [
        "# https://radimrehurek.com/gensim/models/ldamodel.html\n",
        "from gensim.models import ldamulticore\n",
        "from gensim.test.utils import common_texts\n",
        "from gensim.corpora.dictionary import Dictionary\n",
        "from gensim.test.utils import datapath"
      ]
    },
    {
      "cell_type": "code",
      "execution_count": 83,
      "metadata": {
        "id": "fdzopuCJDMVb"
      },
      "outputs": [],
      "source": [
        "# Create a corpus from a list of texts\n",
        "id2word = corpora.Dictionary(ldata3)\n",
        "corpus = [id2word.doc2bow(text) for text in ldata3]\n",
        "\n",
        "# Train the model on the corpus.\n",
        "lda = LdaModel(corpus, num_topics=10)"
      ]
    },
    {
      "cell_type": "markdown",
      "metadata": {
        "id": "vSF6fq0NDMVc"
      },
      "source": [
        "### Additive regularization of topic models "
      ]
    },
    {
      "cell_type": "markdown",
      "metadata": {
        "id": "tVcA4itQDMVc"
      },
      "source": [
        "Implement topic modeling with ARTM. You may use bigartm library (simple installation for linux: pip install bigartm) or TopicNet framework (`https://github.com/machine-intelligence-laboratory/TopicNet`)"
      ]
    },
    {
      "cell_type": "markdown",
      "metadata": {
        "id": "03xhr0PmDMVc"
      },
      "source": [
        "Create artm topic model fit it to the data. Try to change hyperparameters (number of specific and background topics) to better fit the dataset. Play with smoothing and sparsing coefficients (use grid), try to add decorrelator. Print out resulting topics."
      ]
    },
    {
      "cell_type": "code",
      "execution_count": null,
      "metadata": {
        "id": "tgv1qIUZDMVc"
      },
      "outputs": [],
      "source": [
        "from topicnet.cooking_machine.model_constructor import init_simple_default_model\n",
        "\n",
        "artm_model = init_simple_default_model(\n",
        "    dataset=data3,\n",
        "    modalities_to_use={'@lemmatized': 1.0, '@bigram': 0.5},\n",
        "    main_modality='@lemmatized',\n",
        "    specific_topics=14,\n",
        "    background_topics=1,\n",
        ")\n"
      ]
    },
    {
      "cell_type": "markdown",
      "metadata": {
        "id": "mteOYV8TDMVd"
      },
      "source": [
        "Write a function to convert new documents to topics probabilities vectors."
      ]
    },
    {
      "cell_type": "code",
      "execution_count": null,
      "metadata": {
        "id": "IGkD9YaxDMVd"
      },
      "outputs": [],
      "source": []
    },
    {
      "cell_type": "markdown",
      "metadata": {
        "id": "SPrNOdMLDMVd"
      },
      "source": [
        "Calculate the quality scores for each model. Make a barplot to compare the quality."
      ]
    },
    {
      "cell_type": "code",
      "execution_count": null,
      "metadata": {
        "id": "hQadAQCXDMVd"
      },
      "outputs": [],
      "source": []
    }
  ],
  "metadata": {
    "colab": {
      "name": "Copy of HW1.ipynb",
      "provenance": []
    },
    "kernelspec": {
      "display_name": "Python 3",
      "language": "python",
      "name": "python3"
    },
    "language_info": {
      "codemirror_mode": {
        "name": "ipython",
        "version": 3
      },
      "file_extension": ".py",
      "mimetype": "text/x-python",
      "name": "python",
      "nbconvert_exporter": "python",
      "pygments_lexer": "ipython3",
      "version": "3.7.9"
    }
  },
  "nbformat": 4,
  "nbformat_minor": 0
}

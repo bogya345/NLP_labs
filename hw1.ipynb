{
  "cells": [
    {
      "cell_type": "markdown",
      "metadata": {
        "id": "TEEKQwtYDMUz"
      },
      "source": [
        "**SOFT DEADLINE:** `20.03.2022 23:59 msk` "
      ]
    },
    {
      "cell_type": "markdown",
      "metadata": {
        "id": "g-IAo9sYDMU-"
      },
      "source": [
        "# [5 points] Part 1. Data cleaning"
      ]
    },
    {
      "cell_type": "markdown",
      "metadata": {
        "id": "-SNyjuGjDMU_"
      },
      "source": [
        "The task is to clear the text data of the crawled web-pages from different sites. \n",
        "\n",
        "It is necessary to ensure that the distribution of the 100 most frequent words includes only meaningful words in english language (not particles, conjunctions, prepositions, numbers, tags, symbols)."
      ]
    },
    {
      "cell_type": "markdown",
      "metadata": {
        "id": "TA4VkGl2DMVB"
      },
      "source": [
        "Determine the order of operations below and carry out the appropriate cleaning.\n",
        "\n",
        "1. Remove non-english words\n",
        "1. Remove html-tags (try to do it with regular expression, or play with beautifulsoap library)\n",
        "1. Apply lemmatization / stemming\n",
        "1. Remove stop-words\n",
        "1. Additional processing - At your own initiative, if this helps to obtain a better distribution"
      ]
    },
    {
      "cell_type": "markdown",
      "metadata": {},
      "source": [
        "The choosen order:\n",
        "1. Remove html-tags\n",
        "2. Remove non-english words\n",
        "3. Remove stop-words\n",
        "4. Apply lemmatization / stemming\n",
        "5. Additional processing"
      ]
    },
    {
      "cell_type": "markdown",
      "metadata": {
        "id": "hjLsB9pdDMVC"
      },
      "source": [
        "#### Hints"
      ]
    },
    {
      "cell_type": "markdown",
      "metadata": {
        "id": "mk6ZLncvDMVD"
      },
      "source": [
        "1. To do text processing you may use nltk and re libraries\n",
        "1. and / or any other libraries on your choise"
      ]
    },
    {
      "cell_type": "markdown",
      "metadata": {
        "id": "KCbTa1OiDMVE"
      },
      "source": [
        "#### Data reading"
      ]
    },
    {
      "cell_type": "markdown",
      "metadata": {
        "id": "cXbG649IDMVG"
      },
      "source": [
        "The dataset for this part can be downloaded here: `https://drive.google.com/file/d/1wLwo83J-ikCCZY2RAoYx8NghaSaQ-lBA/view?usp=sharing`"
      ]
    },
    {
      "cell_type": "code",
      "execution_count": 163,
      "metadata": {},
      "outputs": [],
      "source": [
        "import pandas as pd\n",
        "\n",
        "# path = './storage/hw1/train.csv'\n",
        "path = './storage/hw1/web_sites_data.csv'"
      ]
    },
    {
      "cell_type": "code",
      "execution_count": 164,
      "metadata": {
        "id": "HN8UxSDkDMVH"
      },
      "outputs": [
        {
          "data": {
            "text/html": [
              "<div>\n",
              "<style scoped>\n",
              "    .dataframe tbody tr th:only-of-type {\n",
              "        vertical-align: middle;\n",
              "    }\n",
              "\n",
              "    .dataframe tbody tr th {\n",
              "        vertical-align: top;\n",
              "    }\n",
              "\n",
              "    .dataframe thead th {\n",
              "        text-align: right;\n",
              "    }\n",
              "</style>\n",
              "<table border=\"1\" class=\"dataframe\">\n",
              "  <thead>\n",
              "    <tr style=\"text-align: right;\">\n",
              "      <th></th>\n",
              "      <th>text</th>\n",
              "    </tr>\n",
              "  </thead>\n",
              "  <tbody>\n",
              "    <tr>\n",
              "      <th>0</th>\n",
              "      <td>&lt;html&gt;\\n&lt;head profile=\"http://www.w3.org/2005/...</td>\n",
              "    </tr>\n",
              "    <tr>\n",
              "      <th>1</th>\n",
              "      <td>&lt;html&gt;\\n&lt;head profile=\"http://www.w3.org/2005/...</td>\n",
              "    </tr>\n",
              "    <tr>\n",
              "      <th>2</th>\n",
              "      <td>&lt;html&gt;\\n&lt;head profile=\"http://www.w3.org/2005/...</td>\n",
              "    </tr>\n",
              "    <tr>\n",
              "      <th>3</th>\n",
              "      <td>&lt;html&gt;\\n&lt;head profile=\"http://www.w3.org/2005/...</td>\n",
              "    </tr>\n",
              "    <tr>\n",
              "      <th>4</th>\n",
              "      <td>&lt;html&gt;\\n&lt;head profile=\"http://www.w3.org/2005/...</td>\n",
              "    </tr>\n",
              "    <tr>\n",
              "      <th>...</th>\n",
              "      <td>...</td>\n",
              "    </tr>\n",
              "    <tr>\n",
              "      <th>95</th>\n",
              "      <td>&lt;html&gt;\\n&lt;head profile=\"http://www.w3.org/2005/...</td>\n",
              "    </tr>\n",
              "    <tr>\n",
              "      <th>96</th>\n",
              "      <td>&lt;html&gt;\\n&lt;head profile=\"http://www.w3.org/2005/...</td>\n",
              "    </tr>\n",
              "    <tr>\n",
              "      <th>97</th>\n",
              "      <td>&lt;html&gt;\\n&lt;head profile=\"http://www.w3.org/2005/...</td>\n",
              "    </tr>\n",
              "    <tr>\n",
              "      <th>98</th>\n",
              "      <td>&lt;html&gt;\\n&lt;head profile=\"http://www.w3.org/2005/...</td>\n",
              "    </tr>\n",
              "    <tr>\n",
              "      <th>99</th>\n",
              "      <td>&lt;html&gt;\\n&lt;head profile=\"http://www.w3.org/2005/...</td>\n",
              "    </tr>\n",
              "  </tbody>\n",
              "</table>\n",
              "<p>100 rows × 1 columns</p>\n",
              "</div>"
            ],
            "text/plain": [
              "                                                 text\n",
              "0   <html>\\n<head profile=\"http://www.w3.org/2005/...\n",
              "1   <html>\\n<head profile=\"http://www.w3.org/2005/...\n",
              "2   <html>\\n<head profile=\"http://www.w3.org/2005/...\n",
              "3   <html>\\n<head profile=\"http://www.w3.org/2005/...\n",
              "4   <html>\\n<head profile=\"http://www.w3.org/2005/...\n",
              "..                                                ...\n",
              "95  <html>\\n<head profile=\"http://www.w3.org/2005/...\n",
              "96  <html>\\n<head profile=\"http://www.w3.org/2005/...\n",
              "97  <html>\\n<head profile=\"http://www.w3.org/2005/...\n",
              "98  <html>\\n<head profile=\"http://www.w3.org/2005/...\n",
              "99  <html>\\n<head profile=\"http://www.w3.org/2005/...\n",
              "\n",
              "[100 rows x 1 columns]"
            ]
          },
          "execution_count": 164,
          "metadata": {},
          "output_type": "execute_result"
        }
      ],
      "source": [
        "limit = 100\n",
        "\n",
        "data = pd.read_csv(path, nrows=limit)\n",
        "\n",
        "# for debug\n",
        "# data = data.sample(100)\n",
        "\n",
        "data"
      ]
    },
    {
      "cell_type": "code",
      "execution_count": 165,
      "metadata": {},
      "outputs": [
        {
          "data": {
            "text/plain": [
              "('<html>\\n<head profile=\"http://www.w3.org/2005/10/profile\">\\n<LINK REL=\"SHORTCUT ICON\" href=\"http://i.bookmooch.com/favicon.ico\"> \\n<link rel=\"icon\" type=\"image/png\" href=\"http://i.bookmooch.com/favicon.p',\n",
              " '<html>\\n<head profile=\"http://www.w3.org/2005/10/profile\">\\n<LINK REL=\"SHORTCUT ICON\" href=\"http://i.bookmooch.com/favicon.ico\"> \\n<link rel=\"icon\" type=\"image/png\" href=\"http://i.bookmooch.com/favicon.png\">\\n<title>Kevin J.Anderson : The X-Files (3) - Ground Zero</title>\\n<meta http-equiv=\"Content-Type\"')"
            ]
          },
          "execution_count": 165,
          "metadata": {},
          "output_type": "execute_result"
        }
      ],
      "source": [
        "ldata = data.values.tolist()\n",
        "ldata = [i[0] for i in ldata]\n",
        "ldata[0][:200], ldata[10][:300]"
      ]
    },
    {
      "cell_type": "markdown",
      "metadata": {
        "id": "fGBTg9g4DMVJ"
      },
      "source": [
        "#### Data processing"
      ]
    },
    {
      "cell_type": "code",
      "execution_count": 166,
      "metadata": {
        "id": "nbpM3QUwDMVK"
      },
      "outputs": [],
      "source": [
        "import nltk\n",
        "from nltk.corpus import stopwords\n",
        "from nltk.stem import PorterStemmer, WordNetLemmatizer\n",
        "from nltk.tokenize import TreebankWordTokenizer, WhitespaceTokenizer\n",
        "import re\n",
        "# nltk.download('words')\n",
        "# nltk.download('stopwords')\n",
        "# nltk.download(\"wordnet\")\n",
        "# nltk.download('omw-1.4') \n",
        "# nltk.download('punkt') "
      ]
    },
    {
      "cell_type": "code",
      "execution_count": 167,
      "metadata": {
        "id": "Hklvhb6RDMVL"
      },
      "outputs": [
        {
          "data": {
            "text/plain": [
              "' Eric Newby : Short Walk in the Hindu KushEric Newby : Short Walk in the Hindu Kush?                                                    Author:                        Eric Newby                                    Title:                        Short Walk in the Hindu Kush                            M'"
            ]
          },
          "execution_count": 167,
          "metadata": {},
          "output_type": "execute_result"
        }
      ],
      "source": [
        "# 1. Remove html-tags\n",
        "html_reg = \"\"\"<(\"[^\"]*\"|'[^']*'|[^'\">])*>\"\"\"\n",
        "other_reg = \"\"\n",
        "\n",
        "tldata = []\n",
        "for item in ldata:\n",
        "\n",
        "    nitem = item\n",
        "    nitem = re.sub(html_reg, \"\", nitem)\n",
        "    nitem = re.sub(\"\\t\", \"\", nitem)\n",
        "    nitem = re.sub(\"\\r\", \"\", nitem)\n",
        "    nitem = re.sub(\"\\n\", \"\", nitem)\n",
        "    nitem = re.sub(\"&nbsp;\", \"\", nitem)\n",
        "\n",
        "    tldata.append(nitem)\n",
        "    \n",
        "    continue\n",
        "\n",
        "ldata = tldata\n",
        "ldata[1][:300]\n"
      ]
    },
    {
      "cell_type": "code",
      "execution_count": 168,
      "metadata": {},
      "outputs": [
        {
          "data": {
            "text/plain": [
              "['eric',\n",
              " 'newby',\n",
              " ':',\n",
              " 'short',\n",
              " 'walk',\n",
              " 'in',\n",
              " 'the',\n",
              " 'hindu',\n",
              " 'kusheric',\n",
              " 'newby',\n",
              " ':',\n",
              " 'short',\n",
              " 'walk',\n",
              " 'in',\n",
              " 'the',\n",
              " 'hindu',\n",
              " 'kush',\n",
              " '?',\n",
              " 'author',\n",
              " ':',\n",
              " 'eric',\n",
              " 'newby',\n",
              " 'title',\n",
              " ':',\n",
              " 'short',\n",
              " 'walk',\n",
              " 'in',\n",
              " 'the',\n",
              " 'hindu',\n",
              " 'kush',\n",
              " 'moochablecopies',\n",
              " ':',\n",
              " 'no',\n",
              " 'copies',\n",
              " 'available',\n",
              " 'recommended',\n",
              " ':',\n",
              " 'the',\n",
              " 'trees',\n",
              " 'of',\n",
              " 'the',\n",
              " 'world',\n",
              " ':',\n",
              " 'a',\n",
              " 'dozen',\n",
              " 'padded',\n",
              " 'envelopesasne',\n",
              " 'seierstad',\n",
              " ':',\n",
              " 'the',\n",
              " 'bookseller',\n",
              " 'of',\n",
              " 'kabulalice',\n",
              " 'sebold',\n",
              " ':',\n",
              " 'the',\n",
              " 'lovely',\n",
              " 'bonesgreg',\n",
              " 'mortenson',\n",
              " 'and',\n",
              " 'david',\n",
              " 'o',\n",
              " '...',\n",
              " ':',\n",
              " 'three',\n",
              " 'cups',\n",
              " 'of',\n",
              " 'tea',\n",
              " ':',\n",
              " 'one',\n",
              " 'man',\n",
              " \"'s\",\n",
              " 'mission',\n",
              " '...',\n",
              " 'muriel',\n",
              " 'barbery',\n",
              " ':',\n",
              " 'the',\n",
              " 'elegance',\n",
              " 'of',\n",
              " 'the',\n",
              " 'hedgehogjon',\n",
              " 'krakauer',\n",
              " ':',\n",
              " 'under',\n",
              " 'the',\n",
              " 'banner',\n",
              " 'of',\n",
              " 'heaven',\n",
              " ':',\n",
              " 'a',\n",
              " 'story',\n",
              " '...',\n",
              " 'pat',\n",
              " 'parker',\n",
              " ':',\n",
              " 'unleashing',\n",
              " 'feminism',\n",
              " ':',\n",
              " 'critiquing']"
            ]
          },
          "execution_count": 168,
          "metadata": {},
          "output_type": "execute_result"
        }
      ],
      "source": [
        "## intermediate processing\n",
        "\n",
        "# to low each character\n",
        "tldata = []\n",
        "for item in ldata:\n",
        "    tldata.append(item.lower())\n",
        "    continue\n",
        "ldata = tldata\n",
        "\n",
        "# split string to words\n",
        "tldata = []\n",
        "for item in ldata:\n",
        "    # tldata.append(item.split(' '))\n",
        "    # tmp = []\n",
        "    tldata.append([i for i in nltk.word_tokenize(item)])\n",
        "\n",
        "    continue\n",
        "ldata = tldata\n",
        "\n",
        "# delete empty items\n",
        "tldata = []\n",
        "for words in ldata:\n",
        "    tldata.append([word for word in words if word != ''])\n",
        "    continue\n",
        "ldata = tldata\n",
        "\n",
        "tldata[1][:30]"
      ]
    },
    {
      "cell_type": "code",
      "execution_count": 169,
      "metadata": {
        "id": "H59-VAGmDMVM"
      },
      "outputs": [
        {
          "name": "stdout",
          "output_type": "stream",
          "text": [
            "874\n"
          ]
        },
        {
          "data": {
            "text/plain": [
              "874"
            ]
          },
          "execution_count": 169,
          "metadata": {},
          "output_type": "execute_result"
        }
      ],
      "source": [
        "# 2. Remove non-english words\n",
        "eng_words = set(nltk.corpus.words.words())\n",
        "\n",
        "tldata = []\n",
        "print(len(ldata[1]))\n",
        "for words in ldata:\n",
        "    # tldata.append(\" \".join(w for w in nltk.wordpunct_tokenize(item) if w.lower() in eng_words or not w.isalpha()))\n",
        "    tldata.append(w for w in words if w.lower() in eng_words or not w.isalpha())\n",
        "    continue\n",
        "\n",
        "ldata = tldata\n",
        "len(ldata[1])"
      ]
    },
    {
      "cell_type": "code",
      "execution_count": 170,
      "metadata": {},
      "outputs": [],
      "source": [
        "# # 3. Remove stop-words\n",
        "\n",
        "# tldata = []\n",
        "# for words in ldata:\n",
        "#     print(len(words))\n",
        "#     tmp = [word for word in words if word not in stopwords.words()]\n",
        "#     tldata.append(tmp)\n",
        "#     continue\n",
        "\n",
        "# len(words)\n",
        "# ldata = tldata\n",
        "# ldata[1][:100]"
      ]
    },
    {
      "cell_type": "code",
      "execution_count": 171,
      "metadata": {},
      "outputs": [
        {
          "data": {
            "text/plain": [
              "['eric',\n",
              " 'newby',\n",
              " ':',\n",
              " 'short',\n",
              " 'walk',\n",
              " 'in',\n",
              " 'the',\n",
              " 'hindu',\n",
              " 'kusheric',\n",
              " 'newby']"
            ]
          },
          "execution_count": 171,
          "metadata": {},
          "output_type": "execute_result"
        }
      ],
      "source": [
        "# 4. Apply lemmatization / stemming\n",
        "lemmatizer = WordNetLemmatizer()\n",
        "stemmer = PorterStemmer()\n",
        "\n",
        "tldata = []\n",
        "for words in ldata:\n",
        "    tldata.append([ i for i in [lemmatizer.lemmatize(i) for i in words] if i != '' ])\n",
        "    # [stemmer.stem(i) for i in words]\n",
        "    continue\n",
        "\n",
        "ldata = tldata\n",
        "ldata[1][:10]"
      ]
    },
    {
      "cell_type": "code",
      "execution_count": 172,
      "metadata": {},
      "outputs": [],
      "source": [
        "# 5. Additional processing\n"
      ]
    },
    {
      "cell_type": "markdown",
      "metadata": {
        "id": "_h_c-1kBDMVN"
      },
      "source": [
        "#### Vizualization"
      ]
    },
    {
      "cell_type": "markdown",
      "metadata": {
        "id": "HTu83iAWDMVN"
      },
      "source": [
        "As a visualisation, it is necessary to construct a frequency distribution of words (the 100 most common words), sorted by frequency. \n",
        "\n",
        "For visualization purposes we advice you to use plotly, but you are free to choose other libraries"
      ]
    },
    {
      "cell_type": "code",
      "execution_count": 174,
      "metadata": {
        "id": "bHX6IXcrDMVO"
      },
      "outputs": [
        {
          "data": {
            "text/plain": [
              "[['eric',\n",
              "  'newby',\n",
              "  ':',\n",
              "  'short',\n",
              "  'walk',\n",
              "  'in',\n",
              "  'the',\n",
              "  'hindu',\n",
              "  'kusheric',\n",
              "  'newby',\n",
              "  ':',\n",
              "  'short',\n",
              "  'walk',\n",
              "  'in',\n",
              "  'the',\n",
              "  'hindu',\n",
              "  'kush',\n",
              "  '?',\n",
              "  'author',\n",
              "  ':',\n",
              "  'eric',\n",
              "  'newby',\n",
              "  'title',\n",
              "  ':',\n",
              "  'short',\n",
              "  'walk',\n",
              "  'in',\n",
              "  'the',\n",
              "  'hindu',\n",
              "  'kush',\n",
              "  'moochablecopies',\n",
              "  ':',\n",
              "  'no',\n",
              "  'copy',\n",
              "  'available',\n",
              "  'recommended',\n",
              "  ':',\n",
              "  'the',\n",
              "  'tree',\n",
              "  'of',\n",
              "  'the',\n",
              "  'world',\n",
              "  ':',\n",
              "  'a',\n",
              "  'dozen',\n",
              "  'padded',\n",
              "  'envelopesasne',\n",
              "  'seierstad',\n",
              "  ':',\n",
              "  'the',\n",
              "  'bookseller',\n",
              "  'of',\n",
              "  'kabulalice',\n",
              "  'sebold',\n",
              "  ':',\n",
              "  'the',\n",
              "  'lovely',\n",
              "  'bonesgreg',\n",
              "  'mortenson',\n",
              "  'and',\n",
              "  'david',\n",
              "  'o',\n",
              "  '...',\n",
              "  ':',\n",
              "  'three',\n",
              "  'cup',\n",
              "  'of',\n",
              "  'tea',\n",
              "  ':',\n",
              "  'one',\n",
              "  'man',\n",
              "  \"'s\",\n",
              "  'mission',\n",
              "  '...',\n",
              "  'muriel',\n",
              "  'barbery',\n",
              "  ':',\n",
              "  'the',\n",
              "  'elegance',\n",
              "  'of',\n",
              "  'the',\n",
              "  'hedgehogjon',\n",
              "  'krakauer',\n",
              "  ':',\n",
              "  'under',\n",
              "  'the',\n",
              "  'banner',\n",
              "  'of',\n",
              "  'heaven',\n",
              "  ':',\n",
              "  'a',\n",
              "  'story',\n",
              "  '...',\n",
              "  'pat',\n",
              "  'parker',\n",
              "  ':',\n",
              "  'unleashing',\n",
              "  'feminism',\n",
              "  ':',\n",
              "  'critiquing',\n",
              "  'lesb',\n",
              "  '...',\n",
              "  'alexander',\n",
              "  'mccall',\n",
              "  'smith',\n",
              "  ':',\n",
              "  'tear',\n",
              "  'of',\n",
              "  'the',\n",
              "  'giraffedava',\n",
              "  'sobel',\n",
              "  ':',\n",
              "  'longitude',\n",
              "  ':',\n",
              "  'the',\n",
              "  'true',\n",
              "  'story',\n",
              "  'of',\n",
              "  'a',\n",
              "  'lone',\n",
              "  '...',\n",
              "  'joanne',\n",
              "  'harris',\n",
              "  ':',\n",
              "  'five',\n",
              "  'quarter',\n",
              "  'of',\n",
              "  'the',\n",
              "  'orange',\n",
              "  '--',\n",
              "  '-show',\n",
              "  'more',\n",
              "  'recommendation',\n",
              "  '...',\n",
              "  '>',\n",
              "  'topic',\n",
              "  ':',\n",
              "  'afghanistanasiabombaycalcuttadelhieducation',\n",
              "  '&',\n",
              "  'referenceessays',\n",
              "  '&',\n",
              "  'traveloguesindiareference',\n",
              "  '&',\n",
              "  'tipstravelwriting',\n",
              "  '>',\n",
              "  'publishedin',\n",
              "  ':',\n",
              "  'english',\n",
              "  'binding',\n",
              "  ':',\n",
              "  'audio',\n",
              "  'cassette',\n",
              "  'page',\n",
              "  ':',\n",
              "  'date',\n",
              "  ':',\n",
              "  '1995-10-23',\n",
              "  'isbn',\n",
              "  ':',\n",
              "  '0001049313',\n",
              "  'publisher',\n",
              "  ':',\n",
              "  'harpercollins',\n",
              "  'audio',\n",
              "  'weight:0.31',\n",
              "  'poundssize:4.17',\n",
              "  'x',\n",
              "  '5.28',\n",
              "  'x',\n",
              "  '0.71',\n",
              "  'inch',\n",
              "  'edition',\n",
              "  ':',\n",
              "  'abridged',\n",
              "  'amazonprices',\n",
              "  ':',\n",
              "  'wishlists',\n",
              "  ':',\n",
              "  '3margaret',\n",
              "  'h.',\n",
              "  '(',\n",
              "  'usa',\n",
              "  ':',\n",
              "  'nm',\n",
              "  ')',\n",
              "  ',',\n",
              "  'sara',\n",
              "  '(',\n",
              "  'singapore',\n",
              "  ')',\n",
              "  ',',\n",
              "  'cej10',\n",
              "  '(',\n",
              "  'usa',\n",
              "  ':',\n",
              "  'ia',\n",
              "  ')',\n",
              "  '.',\n",
              "  'description',\n",
              "  ':',\n",
              "  'product',\n",
              "  'descriptioneric',\n",
              "  'newby',\n",
              "  'describes',\n",
              "  'his',\n",
              "  'travel',\n",
              "  'in',\n",
              "  'the',\n",
              "  'mountain',\n",
              "  'of',\n",
              "  'afghanistan',\n",
              "  '.',\n",
              "  'he',\n",
              "  'ha',\n",
              "  'also',\n",
              "  'written',\n",
              "  '``',\n",
              "  'the',\n",
              "  'last',\n",
              "  'grain',\n",
              "  'race',\n",
              "  \"''\",\n",
              "  ',',\n",
              "  '``',\n",
              "  'slowly',\n",
              "  'down',\n",
              "  'the',\n",
              "  'ganges',\n",
              "  \"''\",\n",
              "  ',',\n",
              "  '``',\n",
              "  'love',\n",
              "  'and',\n",
              "  'war',\n",
              "  'in',\n",
              "  'the',\n",
              "  'apennines',\n",
              "  \"''\",\n",
              "  'and',\n",
              "  '``',\n",
              "  'on',\n",
              "  'the',\n",
              "  'shore',\n",
              "  'of',\n",
              "  'the',\n",
              "  'mediterranean',\n",
              "  \"''\",\n",
              "  '.amazon.com',\n",
              "  'reviewfor',\n",
              "  'more',\n",
              "  'than',\n",
              "  'a',\n",
              "  'decade',\n",
              "  'following',\n",
              "  'the',\n",
              "  'end',\n",
              "  'of',\n",
              "  'world',\n",
              "  'war',\n",
              "  'ii',\n",
              "  ',',\n",
              "  'eric',\n",
              "  'newby',\n",
              "  'toiled',\n",
              "  'away',\n",
              "  'in',\n",
              "  'the',\n",
              "  'british',\n",
              "  'fashion',\n",
              "  'industry',\n",
              "  ',',\n",
              "  'peddling',\n",
              "  'some',\n",
              "  'of',\n",
              "  'the',\n",
              "  'ugliest',\n",
              "  'clothes',\n",
              "  'on',\n",
              "  'the',\n",
              "  'planet',\n",
              "  '.',\n",
              "  '(',\n",
              "  'regarding',\n",
              "  'one',\n",
              "  'wafer-thin',\n",
              "  'model',\n",
              "  'in',\n",
              "  'her',\n",
              "  'runway',\n",
              "  'best',\n",
              "  ',',\n",
              "  'he',\n",
              "  'wa',\n",
              "  'reminded',\n",
              "  'of',\n",
              "  '``',\n",
              "  'those',\n",
              "  'flagpole',\n",
              "  'they',\n",
              "  'put',\n",
              "  'up',\n",
              "  'in',\n",
              "  'the',\n",
              "  'mall',\n",
              "  'when',\n",
              "  'the',\n",
              "  'queen',\n",
              "  'come',\n",
              "  'home',\n",
              "  '.',\n",
              "  \"''\",\n",
              "  ')',\n",
              "  'fortunately',\n",
              "  ',',\n",
              "  'newby',\n",
              "  'reached',\n",
              "  'the',\n",
              "  'end',\n",
              "  'his',\n",
              "  'haute-couture',\n",
              "  'tether',\n",
              "  'in',\n",
              "  '1956.',\n",
              "  'at',\n",
              "  'that',\n",
              "  'point',\n",
              "  ',',\n",
              "  'with',\n",
              "  'the',\n",
              "  'sort',\n",
              "  'of',\n",
              "  'sublime',\n",
              "  'impulsiveness',\n",
              "  'that',\n",
              "  \"'s\",\n",
              "  'forbidden',\n",
              "  'to',\n",
              "  'fictional',\n",
              "  'character',\n",
              "  'but',\n",
              "  'endemic',\n",
              "  'to',\n",
              "  'real',\n",
              "  'one',\n",
              "  ',',\n",
              "  'he',\n",
              "  'decided',\n",
              "  'to',\n",
              "  'visit',\n",
              "  'a',\n",
              "  'remote',\n",
              "  'corner',\n",
              "  'of',\n",
              "  'afghanistan',\n",
              "  ',',\n",
              "  'where',\n",
              "  'no',\n",
              "  'englishman',\n",
              "  'had',\n",
              "  'planted',\n",
              "  'his',\n",
              "  'brogan',\n",
              "  'for',\n",
              "  'at',\n",
              "  'least',\n",
              "  '50',\n",
              "  'year',\n",
              "  '.',\n",
              "  'what',\n",
              "  \"'s\",\n",
              "  'more',\n",
              "  ',',\n",
              "  'he',\n",
              "  'recorded',\n",
              "  'his',\n",
              "  'adventure',\n",
              "  'in',\n",
              "  'a',\n",
              "  'classic',\n",
              "  'narrative',\n",
              "  ',',\n",
              "  'a',\n",
              "  'short',\n",
              "  'walk',\n",
              "  'in',\n",
              "  'the',\n",
              "  'hindu',\n",
              "  'kush',\n",
              "  '.',\n",
              "  'the',\n",
              "  'title',\n",
              "  ',',\n",
              "  'of',\n",
              "  'course',\n",
              "  ',',\n",
              "  'is',\n",
              "  'a',\n",
              "  'fine',\n",
              "  'example',\n",
              "  'of',\n",
              "  'newby',\n",
              "  \"'s\",\n",
              "  'habitual',\n",
              "  'self-effacement',\n",
              "  ',',\n",
              "  'since',\n",
              "  'his',\n",
              "  'journey',\n",
              "  '--',\n",
              "  'which',\n",
              "  'included',\n",
              "  'a',\n",
              "  'near-ascent',\n",
              "  'of',\n",
              "  'the',\n",
              "  '19,800-foot',\n",
              "  'mir',\n",
              "  'samir',\n",
              "  '--',\n",
              "  'wa',\n",
              "  'anything',\n",
              "  'but',\n",
              "  'short',\n",
              "  '.',\n",
              "  'and',\n",
              "  'his',\n",
              "  'book',\n",
              "  'seems',\n",
              "  'to',\n",
              "  'furnish',\n",
              "  'a',\n",
              "  'missing',\n",
              "  'link',\n",
              "  'between',\n",
              "  'the',\n",
              "  'great',\n",
              "  'britannic',\n",
              "  'wanderer',\n",
              "  'of',\n",
              "  'the',\n",
              "  'victorian',\n",
              "  'era',\n",
              "  'and',\n",
              "  'such',\n",
              "  'contemporary',\n",
              "  'jungle',\n",
              "  'nut',\n",
              "  'a',\n",
              "  'redmond',\n",
              "  \"o'hanlon\",\n",
              "  '.',\n",
              "  'at',\n",
              "  'time',\n",
              "  'it',\n",
              "  'also',\n",
              "  'brings',\n",
              "  'to',\n",
              "  'mind',\n",
              "  'evelyn',\n",
              "  'waugh',\n",
              "  ',',\n",
              "  'who',\n",
              "  'contributed',\n",
              "  'the',\n",
              "  'preface',\n",
              "  '.',\n",
              "  'newby',\n",
              "  'is',\n",
              "  'a',\n",
              "  'le',\n",
              "  'acidulous',\n",
              "  'writer',\n",
              "  ',',\n",
              "  'to',\n",
              "  'be',\n",
              "  'sure',\n",
              "  ',',\n",
              "  'and',\n",
              "  'he',\n",
              "  'ha',\n",
              "  'little',\n",
              "  'interest',\n",
              "  'in',\n",
              "  'launching',\n",
              "  'the',\n",
              "  'sort',\n",
              "  'of',\n",
              "  'heat-seeking',\n",
              "  'satiric',\n",
              "  'missile',\n",
              "  'that',\n",
              "  'were',\n",
              "  'waugh',\n",
              "  \"'s\",\n",
              "  'specialty',\n",
              "  '.',\n",
              "  'still',\n",
              "  ',',\n",
              "  'a',\n",
              "  'short',\n",
              "  'walk',\n",
              "  'in',\n",
              "  'the',\n",
              "  'hindu',\n",
              "  'kush',\n",
              "  'is',\n",
              "  'a',\n",
              "  'hilarious',\n",
              "  'read',\n",
              "  '.',\n",
              "  'the',\n",
              "  'author',\n",
              "  'excels',\n",
              "  'at',\n",
              "  'the',\n",
              "  'dispiriting',\n",
              "  'snapshot',\n",
              "  ',',\n",
              "  'capturing',\n",
              "  ',',\n",
              "  'say',\n",
              "  ',',\n",
              "  'the',\n",
              "  'afghan',\n",
              "  'backwater',\n",
              "  'of',\n",
              "  'fariman',\n",
              "  'in',\n",
              "  'two',\n",
              "  'crisp',\n",
              "  'sentence',\n",
              "  ':',\n",
              "  '``',\n",
              "  'a',\n",
              "  'whole',\n",
              "  'gale',\n",
              "  'of',\n",
              "  'wind',\n",
              "  'wa',\n",
              "  'blowing',\n",
              "  ',',\n",
              "  'tearing',\n",
              "  'up',\n",
              "  'the',\n",
              "  'surface',\n",
              "  'of',\n",
              "  'the',\n",
              "  'main',\n",
              "  'street',\n",
              "  '.',\n",
              "  'except',\n",
              "  'for',\n",
              "  'two',\n",
              "  'policeman',\n",
              "  'holding',\n",
              "  'hand',\n",
              "  'and',\n",
              "  'a',\n",
              "  'dog',\n",
              "  'whose',\n",
              "  'hind',\n",
              "  'leg',\n",
              "  'were',\n",
              "  'paralysed',\n",
              "  'it',\n",
              "  'wa',\n",
              "  'deserted',\n",
              "  '.',\n",
              "  \"''\",\n",
              "  'his',\n",
              "  'capsule',\n",
              "  'history',\n",
              "  'of',\n",
              "  'nuristan',\n",
              "  'also',\n",
              "  'get',\n",
              "  'in',\n",
              "  'some',\n",
              "  'sly',\n",
              "  'dig',\n",
              "  'at',\n",
              "  'britain',\n",
              "  \"'s\",\n",
              "  'special',\n",
              "  'relationship',\n",
              "  'with',\n",
              "  'the',\n",
              "  'violence-prone',\n",
              "  'abdur',\n",
              "  'rahman',\n",
              "  ':',\n",
              "  'officially',\n",
              "  'his',\n",
              "  'subsidy',\n",
              "  'had',\n",
              "  'just',\n",
              "  'been',\n",
              "  'increased',\n",
              "  'from',\n",
              "  '12,000',\n",
              "  'to',\n",
              "  '16,000',\n",
              "  'lakh',\n",
              "  'of',\n",
              "  'rupee',\n",
              "  '.',\n",
              "  'to',\n",
              "  'the',\n",
              "  'british',\n",
              "  'he',\n",
              "  'had',\n",
              "  'fully',\n",
              "  'justified',\n",
              "  'their',\n",
              "  'selection',\n",
              "  'of',\n",
              "  'him',\n",
              "  'a',\n",
              "  'amir',\n",
              "  'of',\n",
              "  'afghanistan',\n",
              "  'and',\n",
              "  ',',\n",
              "  'apart',\n",
              "  'from',\n",
              "  'the',\n",
              "  'few',\n",
              "  'foible',\n",
              "  'remarked',\n",
              "  'by',\n",
              "  'lord',\n",
              "  'curzon',\n",
              "  ',',\n",
              "  'like',\n",
              "  'flaying',\n",
              "  'people',\n",
              "  'alive',\n",
              "  'who',\n",
              "  'displeased',\n",
              "  'him',\n",
              "  ',',\n",
              "  'blowing',\n",
              "  'them',\n",
              "  'from',\n",
              "  'the',\n",
              "  'mouth',\n",
              "  'of',\n",
              "  'cannon',\n",
              "  ',',\n",
              "  'or',\n",
              "  'standing',\n",
              "  'them',\n",
              "  'up',\n",
              "  'to',\n",
              "  'the',\n",
              "  'neck',\n",
              "  'in',\n",
              "  'pool',\n",
              "  'of',\n",
              "  'water',\n",
              "  'on',\n",
              "  'the',\n",
              "  'summit',\n",
              "  'of',\n",
              "  'high',\n",
              "  'mountain',\n",
              "  'and',\n",
              "  'letting',\n",
              "  'them',\n",
              "  'freeze',\n",
              "  'solid',\n",
              "  ',',\n",
              "  'he',\n",
              "  'had',\n",
              "  'done',\n",
              "  'nothing',\n",
              "  'to',\n",
              "  'which',\n",
              "  'exception',\n",
              "  'could',\n",
              "  'be',\n",
              "  'taken',\n",
              "  '.',\n",
              "  'newby',\n",
              "  'also',\n",
              "  'surpasses',\n",
              "  'waugh',\n",
              "  '--',\n",
              "  'and',\n",
              "  'indeed',\n",
              "  ',',\n",
              "  'most',\n",
              "  'other',\n",
              "  'travel',\n",
              "  'writer',\n",
              "  '--',\n",
              "  'in',\n",
              "  'another',\n",
              "  'important',\n",
              "  'respect',\n",
              "  ':',\n",
              "  'he',\n",
              "  \"'s\",\n",
              "  'miraculously',\n",
              "  'free',\n",
              "  'of',\n",
              "  'solipsism',\n",
              "  '.',\n",
              "  'even',\n",
              "  'the',\n",
              "  'keenest',\n",
              "  'literary',\n",
              "  'voyager',\n",
              "  'tend',\n",
              "  'to',\n",
              "  'be',\n",
              "  ',',\n",
              "  'in',\n",
              "  'the',\n",
              "  'purest',\n",
              "  'sense',\n",
              "  'of',\n",
              "  'the',\n",
              "  'term',\n",
              "  ',',\n",
              "  'self-centered',\n",
              "  '.',\n",
              "  'but',\n",
              "  'a',\n",
              "  'short',\n",
              "  'walk',\n",
              "  'in',\n",
              "  'the',\n",
              "  'hindu',\n",
              "  'kush',\n",
              "  'includes',\n",
              "  'wonderfully',\n",
              "  'oblique',\n",
              "  'portrait',\n",
              "  'of',\n",
              "  'the',\n",
              "  'author',\n",
              "  \"'s\",\n",
              "  'travel',\n",
              "  'companion',\n",
              "  ',',\n",
              "  'hugh',\n",
              "  'carless',\n",
              "  ',',\n",
              "  'and',\n",
              "  'his',\n",
              "  'wife',\n",
              "  ',',\n",
              "  'wanda',\n",
              "  '(',\n",
              "  'who',\n",
              "  'play',\n",
              "  'a',\n",
              "  'starring',\n",
              "  'role',\n",
              "  'in',\n",
              "  'such',\n",
              "  'subsequent',\n",
              "  'chronicle',\n",
              "  'a',\n",
              "  'slowly',\n",
              "  'down',\n",
              "  'the',\n",
              "  'ganges',\n",
              "  ')',\n",
              "  '.',\n",
              "  'there',\n",
              "  'are',\n",
              "  'also',\n",
              "  'dozen',\n",
              "  'of',\n",
              "  'brilliant',\n",
              "  'cameo',\n",
              "  'part',\n",
              "  ',',\n",
              "  'and',\n",
              "  'an',\n",
              "  'indelible',\n",
              "  'record',\n",
              "  'of',\n",
              "  'a',\n",
              "  'stunning',\n",
              "  'landscape',\n",
              "  '.',\n",
              "  'the',\n",
              "  'roof',\n",
              "  'of',\n",
              "  'the',\n",
              "  'world',\n",
              "  'is',\n",
              "  ',',\n",
              "  'in',\n",
              "  'newby',\n",
              "  \"'s\",\n",
              "  'rendering',\n",
              "  ',',\n",
              "  'both',\n",
              "  'an',\n",
              "  'absolute',\n",
              "  'heaven',\n",
              "  'and',\n",
              "  'a',\n",
              "  'low-oxygen',\n",
              "  'hell',\n",
              "  '.',\n",
              "  'yet',\n",
              "  'the',\n",
              "  'author',\n",
              "  'never',\n",
              "  'pretend',\n",
              "  'to',\n",
              "  'pit',\n",
              "  'himself',\n",
              "  'against',\n",
              "  'a',\n",
              "  'malicious',\n",
              "  'nature',\n",
              "  '--',\n",
              "  'his',\n",
              "  'mountain',\n",
              "  'are',\n",
              "  ',',\n",
              "  'in',\n",
              "  'frost',\n",
              "  \"'s\",\n",
              "  'memorable',\n",
              "  'phrase',\n",
              "  ',',\n",
              "  'too',\n",
              "  'lofty',\n",
              "  'and',\n",
              "  'original',\n",
              "  'to',\n",
              "  'rage',\n",
              "  '.',\n",
              "  'which',\n",
              "  'is',\n",
              "  'yet',\n",
              "  'another',\n",
              "  'reason',\n",
              "  'to',\n",
              "  'call',\n",
              "  'this',\n",
              "  'little',\n",
              "  'masterpiece',\n",
              "  'a',\n",
              "  'peak',\n",
              "  'performance',\n",
              "  '.',\n",
              "  '--',\n",
              "  'james',\n",
              "  'marcus',\n",
              "  'url',\n",
              "  ':',\n",
              "  'http',\n",
              "  ':',\n",
              "  '//bookmooch.com/0001049313',\n",
              "  'wishlistadd',\n",
              "  '>',\n",
              "  'saveforlater',\n",
              "  '>',\n",
              "  'amazon',\n",
              "  '>',\n",
              "  'otherwebsites',\n",
              "  '>',\n",
              "  'relatededitions',\n",
              "  '>',\n",
              "  'recommend',\n",
              "  '>'],\n",
              " 0]"
            ]
          },
          "execution_count": 174,
          "metadata": {},
          "output_type": "execute_result"
        }
      ],
      "source": [
        "wordfreq1 = [[word, words.count(word)] for word in ldata ]\n",
        "wordfreq1[1][:10]"
      ]
    },
    {
      "cell_type": "code",
      "execution_count": 179,
      "metadata": {},
      "outputs": [],
      "source": [
        "def get_wordfreq(list, limit=100):\n",
        "    fwordfreq = []\n",
        "    for word in list:\n",
        "\n",
        "        fwordfreq.append([word, int(list.count(word))])\n",
        "\n",
        "        if(len(fwordfreq) >= limit):\n",
        "            break\n",
        "        \n",
        "        continue\n",
        "    \n",
        "    fwordfreq = pd.DataFrame(fwordfreq, columns=['word', 'freq'])\n",
        "    fwordfreq.drop_duplicates(inplace=True)\n",
        "\n",
        "    return fwordfreq"
      ]
    },
    {
      "cell_type": "code",
      "execution_count": 180,
      "metadata": {},
      "outputs": [
        {
          "data": {
            "text/html": [
              "<div>\n",
              "<style scoped>\n",
              "    .dataframe tbody tr th:only-of-type {\n",
              "        vertical-align: middle;\n",
              "    }\n",
              "\n",
              "    .dataframe tbody tr th {\n",
              "        vertical-align: top;\n",
              "    }\n",
              "\n",
              "    .dataframe thead th {\n",
              "        text-align: right;\n",
              "    }\n",
              "</style>\n",
              "<table border=\"1\" class=\"dataframe\">\n",
              "  <thead>\n",
              "    <tr style=\"text-align: right;\">\n",
              "      <th></th>\n",
              "      <th>word</th>\n",
              "      <th>freq</th>\n",
              "    </tr>\n",
              "  </thead>\n",
              "  <tbody>\n",
              "    <tr>\n",
              "      <th>2</th>\n",
              "      <td>:</td>\n",
              "      <td>2023</td>\n",
              "    </tr>\n",
              "    <tr>\n",
              "      <th>59</th>\n",
              "      <td>&gt;</td>\n",
              "      <td>764</td>\n",
              "    </tr>\n",
              "    <tr>\n",
              "      <th>7</th>\n",
              "      <td>the</td>\n",
              "      <td>557</td>\n",
              "    </tr>\n",
              "    <tr>\n",
              "      <th>78</th>\n",
              "      <td>&amp;</td>\n",
              "      <td>418</td>\n",
              "    </tr>\n",
              "    <tr>\n",
              "      <th>49</th>\n",
              "      <td>of</td>\n",
              "      <td>403</td>\n",
              "    </tr>\n",
              "    <tr>\n",
              "      <th>...</th>\n",
              "      <td>...</td>\n",
              "      <td>...</td>\n",
              "    </tr>\n",
              "    <tr>\n",
              "      <th>86</th>\n",
              "      <td>frontedition</td>\n",
              "      <td>1</td>\n",
              "    </tr>\n",
              "    <tr>\n",
              "      <th>90</th>\n",
              "      <td>europeflorencehiroshima</td>\n",
              "      <td>1</td>\n",
              "    </tr>\n",
              "    <tr>\n",
              "      <th>85</th>\n",
              "      <td>cassetteeastern</td>\n",
              "      <td>1</td>\n",
              "    </tr>\n",
              "    <tr>\n",
              "      <th>8</th>\n",
              "      <td>apennineseric</td>\n",
              "      <td>1</td>\n",
              "    </tr>\n",
              "    <tr>\n",
              "      <th>77</th>\n",
              "      <td>abridgedancientasiaaudiobooksbiographies</td>\n",
              "      <td>1</td>\n",
              "    </tr>\n",
              "  </tbody>\n",
              "</table>\n",
              "<p>61 rows × 2 columns</p>\n",
              "</div>"
            ],
            "text/plain": [
              "                                        word  freq\n",
              "2                                          :  2023\n",
              "59                                         >   764\n",
              "7                                        the   557\n",
              "78                                         &   418\n",
              "49                                        of   403\n",
              "..                                       ...   ...\n",
              "86                              frontedition     1\n",
              "90                   europeflorencehiroshima     1\n",
              "85                           cassetteeastern     1\n",
              "8                              apennineseric     1\n",
              "77  abridgedancientasiaaudiobooksbiographies     1\n",
              "\n",
              "[61 rows x 2 columns]"
            ]
          },
          "execution_count": 180,
          "metadata": {},
          "output_type": "execute_result"
        }
      ],
      "source": [
        "# init flatten list of words\n",
        "fldata = []\n",
        "for sublist in ldata:\n",
        "    for item in sublist:\n",
        "        # if item not in fldata:\n",
        "        fldata.append(item)\n",
        "        continue\n",
        "    continue\n",
        "\n",
        "fwordfreq = get_wordfreq(fldata)\n",
        "# fwordfreq = fwordfreq[fwordfreq[:, 1].argsort()[::-1]]\n",
        "fwordfreq.sort_values(by=['freq', 'word'], ascending=False, inplace=True)\n",
        "fwordfreq"
      ]
    },
    {
      "cell_type": "code",
      "execution_count": 227,
      "metadata": {},
      "outputs": [
        {
          "data": {
            "image/png": "[encoded data removed]",
            "text/plain": [
              "<Figure size 432x288 with 1 Axes>"
            ]
          },
          "metadata": {
            "needs_background": "light"
          },
          "output_type": "display_data"
        }
      ],
      "source": [
        "import matplotlib.pyplot as plt\n",
        "\n",
        "def show_wordfreq(wordfreq, limit=30):\n",
        "\n",
        "    data = wordfreq[:limit]\n",
        "    # print(data)\n",
        "\n",
        "    # df = pd.DataFrame({'c1':['apple','banana','banana'],'c2':['orange','apple','apple'],'c3':['banana','date','orange']})\n",
        "    # df_stack = wordfreq.stack()\n",
        "    # counter = df_stack.value_counts() # set top 10: df_stack.value_counts()[0:10]\n",
        "    # plt.bar(counter.index, counter.values)\n",
        "\n",
        "    # plt.hist(wordfreq)\n",
        "    # plt.barh(wordfreq['freq'], width=2000, height=100)\n",
        "\n",
        "    # fig = plt.figure(figsize=(20,5))\n",
        "    # ax = fig.add_subplot(1,1,1)\n",
        "    # # ax.set_xticks([0,5,10])\n",
        "    # # ax.set_xticklabels([0,5,10])\n",
        "    # # ax.set_yticks([0,1])\n",
        "    # ax.set_yticklabels(wordfreq['word'])\n",
        "    # wordfreq['freq'].hist(ax=ax,orientation='horizontal')\n",
        "    # fig.tight_layout()  # Improves appearance a bit.\n",
        "\n",
        "    # Plot the figure.\n",
        "    # ax = plt.subplot(1,1,1)\n",
        "    ax = data.plot(kind=\"bar\")\n",
        "    # ax.plot(wordfreq.plot(kind=\"bar\"))\n",
        "    ax.set_title(\"Amount Frequency\")\n",
        "    ax.set_xlabel(\"Words\")\n",
        "    ax.set_ylabel(\"Frequency\")\n",
        "    ax.set_xticklabels(data['word'])\n",
        "    plt.show()\n",
        "    pass\n",
        "\n",
        "\n",
        "show_wordfreq(fwordfreq)\n"
      ]
    },
    {
      "cell_type": "markdown",
      "metadata": {
        "id": "5ZxcPfLTDMVO"
      },
      "source": [
        "#### Provide examples of processed text (some parts)\n",
        "\n",
        "Is everything all right with the result of cleaning these examples? What kind of information was lost?"
      ]
    },
    {
      "cell_type": "code",
      "execution_count": null,
      "metadata": {
        "id": "2BSMfa9lDMVP"
      },
      "outputs": [],
      "source": []
    },
    {
      "cell_type": "code",
      "execution_count": null,
      "metadata": {
        "id": "0xn6XK7UDMVP"
      },
      "outputs": [],
      "source": []
    },
    {
      "cell_type": "markdown",
      "metadata": {
        "id": "IlSeYg4sDMVQ"
      },
      "source": [
        "# [10 points] Part 2. Duplicates detection. LSH"
      ]
    },
    {
      "cell_type": "markdown",
      "metadata": {
        "id": "ZuMBHSiDDMVR"
      },
      "source": [
        "#### Libraries you can use\n",
        "\n",
        "1. LSH - https://github.com/ekzhu/datasketch\n",
        "1. LSH - https://github.com/mattilyra/LSH\n",
        "1. Any other library on your choise"
      ]
    },
    {
      "cell_type": "markdown",
      "metadata": {
        "id": "uff5aBpgDMVR"
      },
      "source": [
        "1. Detect duplicated text (duplicates do not imply a complete word-to-word match, but texts that may contain a paraphrase, rearrangement of words, sentences)\n",
        "1. Make a plot dependency of duplicates on shingle size (with fixed minhash length) \n",
        "1. Make a plot dependency of duplicates on minhash length (with fixed shingle size)"
      ]
    },
    {
      "cell_type": "code",
      "execution_count": 220,
      "metadata": {
        "id": "QOFZ7AvyDMVS"
      },
      "outputs": [
        {
          "name": "stdout",
          "output_type": "stream",
          "text": [
            "Approximate neighbours with Jaccard similarity > 0.5 []\n"
          ]
        }
      ],
      "source": [
        "# raise Exception('nope')\n",
        "import datasketch\n",
        "from datasketch import MinHash, MinHashLSH\n",
        "\n",
        "# 1. Detect duplicated text\n",
        "m1 = MinHash(num_perm=128)\n",
        "for word in fldata:\n",
        "    m1.update(word.encode('utf8'))\n",
        "    continue\n",
        "\n",
        "# Create LSH index\n",
        "lsh = MinHashLSH(threshold=0.5, num_perm=128)\n",
        "result = lsh.query(m1)\n",
        "print(\"Approximate neighbours with Jaccard similarity > 0.5\", result)"
      ]
    },
    {
      "cell_type": "code",
      "execution_count": null,
      "metadata": {
        "id": "HPonm9U3DMVS"
      },
      "outputs": [],
      "source": [
        "# 2. Make a plot dependency of duplicates on shingle size (with fixed minhash length) \n"
      ]
    },
    {
      "cell_type": "code",
      "execution_count": null,
      "metadata": {},
      "outputs": [],
      "source": [
        "# 3. Make a plot dependency of duplicates on minhash length\n"
      ]
    },
    {
      "cell_type": "markdown",
      "metadata": {
        "id": "njdTa1daDMVS"
      },
      "source": [
        "# [Optional 10 points] Part 3. Topic model"
      ]
    },
    {
      "cell_type": "markdown",
      "metadata": {
        "id": "4BwJNkn2DMVT"
      },
      "source": [
        "In this part you will learn how to do topic modeling with common tools and assess the resulting quality of the models. "
      ]
    },
    {
      "cell_type": "code",
      "execution_count": 235,
      "metadata": {
        "id": "l0WcLMhHDMVT"
      },
      "outputs": [],
      "source": [
        "import pandas as pd\n",
        "\n",
        "path3 = './storage/hw1/data.csv'"
      ]
    },
    {
      "cell_type": "code",
      "execution_count": 236,
      "metadata": {},
      "outputs": [
        {
          "data": {
            "text/html": [
              "<div>\n",
              "<style scoped>\n",
              "    .dataframe tbody tr th:only-of-type {\n",
              "        vertical-align: middle;\n",
              "    }\n",
              "\n",
              "    .dataframe tbody tr th {\n",
              "        vertical-align: top;\n",
              "    }\n",
              "\n",
              "    .dataframe thead th {\n",
              "        text-align: right;\n",
              "    }\n",
              "</style>\n",
              "<table border=\"1\" class=\"dataframe\">\n",
              "  <thead>\n",
              "    <tr style=\"text-align: right;\">\n",
              "      <th></th>\n",
              "      <th>id</th>\n",
              "      <th>text</th>\n",
              "      <th>author</th>\n",
              "    </tr>\n",
              "  </thead>\n",
              "  <tbody>\n",
              "    <tr>\n",
              "      <th>5321</th>\n",
              "      <td>id16606</td>\n",
              "      <td>The story is that there's a whole legion of de...</td>\n",
              "      <td>HPL</td>\n",
              "    </tr>\n",
              "    <tr>\n",
              "      <th>5208</th>\n",
              "      <td>id19501</td>\n",
              "      <td>The wild eyes blazed with a too too glorious e...</td>\n",
              "      <td>EAP</td>\n",
              "    </tr>\n",
              "    <tr>\n",
              "      <th>11243</th>\n",
              "      <td>id19312</td>\n",
              "      <td>We resided principally in the latter, and the ...</td>\n",
              "      <td>MWS</td>\n",
              "    </tr>\n",
              "    <tr>\n",
              "      <th>19183</th>\n",
              "      <td>id01039</td>\n",
              "      <td>He wrote this in a very ancient hand, and when...</td>\n",
              "      <td>HPL</td>\n",
              "    </tr>\n",
              "    <tr>\n",
              "      <th>12846</th>\n",
              "      <td>id14532</td>\n",
              "      <td>Their number was past guessing.</td>\n",
              "      <td>HPL</td>\n",
              "    </tr>\n",
              "    <tr>\n",
              "      <th>...</th>\n",
              "      <td>...</td>\n",
              "      <td>...</td>\n",
              "      <td>...</td>\n",
              "    </tr>\n",
              "    <tr>\n",
              "      <th>11568</th>\n",
              "      <td>id07523</td>\n",
              "      <td>\"Your affectionate and afflicted father, \"Alph...</td>\n",
              "      <td>MWS</td>\n",
              "    </tr>\n",
              "    <tr>\n",
              "      <th>3506</th>\n",
              "      <td>id07133</td>\n",
              "      <td>If we survive this coming summer, I will not s...</td>\n",
              "      <td>MWS</td>\n",
              "    </tr>\n",
              "    <tr>\n",
              "      <th>8352</th>\n",
              "      <td>id11358</td>\n",
              "      <td>This was precisely what had formed the subject...</td>\n",
              "      <td>EAP</td>\n",
              "    </tr>\n",
              "    <tr>\n",
              "      <th>16365</th>\n",
              "      <td>id21231</td>\n",
              "      <td>By the time that it wanted only three minutes ...</td>\n",
              "      <td>EAP</td>\n",
              "    </tr>\n",
              "    <tr>\n",
              "      <th>10606</th>\n",
              "      <td>id02509</td>\n",
              "      <td>My father, his face lined with sorrow, stood b...</td>\n",
              "      <td>HPL</td>\n",
              "    </tr>\n",
              "  </tbody>\n",
              "</table>\n",
              "<p>1000 rows × 3 columns</p>\n",
              "</div>"
            ],
            "text/plain": [
              "            id                                               text author\n",
              "5321   id16606  The story is that there's a whole legion of de...    HPL\n",
              "5208   id19501  The wild eyes blazed with a too too glorious e...    EAP\n",
              "11243  id19312  We resided principally in the latter, and the ...    MWS\n",
              "19183  id01039  He wrote this in a very ancient hand, and when...    HPL\n",
              "12846  id14532                    Their number was past guessing.    HPL\n",
              "...        ...                                                ...    ...\n",
              "11568  id07523  \"Your affectionate and afflicted father, \"Alph...    MWS\n",
              "3506   id07133  If we survive this coming summer, I will not s...    MWS\n",
              "8352   id11358  This was precisely what had formed the subject...    EAP\n",
              "16365  id21231  By the time that it wanted only three minutes ...    EAP\n",
              "10606  id02509  My father, his face lined with sorrow, stood b...    HPL\n",
              "\n",
              "[1000 rows x 3 columns]"
            ]
          },
          "execution_count": 236,
          "metadata": {},
          "output_type": "execute_result"
        }
      ],
      "source": [
        "data3 = pd.read_csv(path3)\n",
        "\n",
        "# for debug\n",
        "data3 = data3.sample(1000)\n",
        "\n",
        "data3"
      ]
    },
    {
      "cell_type": "markdown",
      "metadata": {
        "id": "WkNFzxqPDMVU"
      },
      "source": [
        "The provided data contain chunked stories by Edgar Allan Poe (EAP), Mary Shelley (MWS), and HP Lovecraft (HPL).\n",
        "\n",
        "The dataset can be downloaded here: `https://drive.google.com/file/d/14tAjAzHr6UmFVFV7ABTyNHBh-dWHAaLH/view?usp=sharing`"
      ]
    },
    {
      "cell_type": "markdown",
      "metadata": {
        "id": "5BNIa1miDMVU"
      },
      "source": [
        "#### Preprocess dataset with the functions from the Part 1"
      ]
    },
    {
      "cell_type": "code",
      "execution_count": 239,
      "metadata": {
        "id": "9B8PZNRyDMVV"
      },
      "outputs": [
        {
          "data": {
            "text/plain": [
              "(\"The story is that there's a whole legion of devils seen sometimes on that reef sprawled about, or darting in and out of some kind of caves near the top.\",\n",
              " 'Neither did his old physician Dr. Davis, who died years ago.')"
            ]
          },
          "execution_count": 239,
          "metadata": {},
          "output_type": "execute_result"
        }
      ],
      "source": [
        "ldata3 = data3['text'].values.tolist()\n",
        "ldata3[0][:200], ldata3[10][:200]"
      ]
    },
    {
      "cell_type": "code",
      "execution_count": 240,
      "metadata": {},
      "outputs": [],
      "source": [
        "import nltk\n",
        "from nltk.corpus import stopwords\n",
        "from nltk.stem import PorterStemmer, WordNetLemmatizer\n",
        "from nltk.tokenize import TreebankWordTokenizer, WhitespaceTokenizer\n",
        "import re\n",
        "# nltk.download('words')\n",
        "# nltk.download('stopwords')\n",
        "# nltk.download(\"wordnet\")\n",
        "# nltk.download('omw-1.4')"
      ]
    },
    {
      "cell_type": "code",
      "execution_count": 241,
      "metadata": {},
      "outputs": [
        {
          "data": {
            "text/plain": [
              "'The wild eyes blazed with a too too glorious effulgence; the pale fingers became of the transparent waxen hue of the grave, and the blue veins upon the lofty forehead swelled and sank impetuously with the tides of the gentle emotion.'"
            ]
          },
          "execution_count": 241,
          "metadata": {},
          "output_type": "execute_result"
        }
      ],
      "source": [
        "# 1. Remove html-tags\n",
        "html_reg = \"\"\"<(\"[^\"]*\"|'[^']*'|[^'\">])*>\"\"\"\n",
        "other_reg = \"\"\n",
        "\n",
        "tldata = []\n",
        "for item in ldata3:\n",
        "\n",
        "    nitem = item\n",
        "    nitem = re.sub(html_reg, \"\", nitem)\n",
        "    nitem = re.sub(\"\\t\", \"\", nitem)\n",
        "    nitem = re.sub(\"\\r\", \"\", nitem)\n",
        "    nitem = re.sub(\"\\n\", \"\", nitem)\n",
        "    nitem = re.sub(\"&nbsp;\", \"\", nitem)\n",
        "\n",
        "    tldata.append(nitem)\n",
        "    \n",
        "    continue\n",
        "\n",
        "ldata3 = tldata\n",
        "ldata3[1][:300]"
      ]
    },
    {
      "cell_type": "code",
      "execution_count": 242,
      "metadata": {},
      "outputs": [
        {
          "data": {
            "text/plain": [
              "['the',\n",
              " 'wild',\n",
              " 'eyes',\n",
              " 'blazed',\n",
              " 'with',\n",
              " 'a',\n",
              " 'too',\n",
              " 'too',\n",
              " 'glorious',\n",
              " 'effulgence',\n",
              " ';',\n",
              " 'the',\n",
              " 'pale',\n",
              " 'fingers',\n",
              " 'became',\n",
              " 'of',\n",
              " 'the',\n",
              " 'transparent',\n",
              " 'waxen',\n",
              " 'hue',\n",
              " 'of',\n",
              " 'the',\n",
              " 'grave',\n",
              " ',',\n",
              " 'and',\n",
              " 'the',\n",
              " 'blue',\n",
              " 'veins',\n",
              " 'upon',\n",
              " 'the']"
            ]
          },
          "execution_count": 242,
          "metadata": {},
          "output_type": "execute_result"
        }
      ],
      "source": [
        "## intermediate processing\n",
        "\n",
        "# to low each character\n",
        "tldata = []\n",
        "for item in ldata3:\n",
        "    tldata.append(item.lower())\n",
        "    continue\n",
        "ldata3 = tldata\n",
        "\n",
        "# split string to words\n",
        "tldata = []\n",
        "for item in ldata3:\n",
        "    # tldata.append(item.split(' '))\n",
        "    # tmp = []\n",
        "    tldata.append([i for i in nltk.word_tokenize(item)])\n",
        "\n",
        "    continue\n",
        "ldata3 = tldata\n",
        "\n",
        "# delete empty items\n",
        "tldata = []\n",
        "for words in ldata3:\n",
        "    tldata.append([word for word in words if word != ''])\n",
        "    continue\n",
        "ldata3 = tldata\n",
        "\n",
        "ldata3[1][:30]"
      ]
    },
    {
      "cell_type": "code",
      "execution_count": 243,
      "metadata": {},
      "outputs": [
        {
          "name": "stdout",
          "output_type": "stream",
          "text": [
            "44\n"
          ]
        },
        {
          "data": {
            "text/plain": [
              "44"
            ]
          },
          "execution_count": 243,
          "metadata": {},
          "output_type": "execute_result"
        }
      ],
      "source": [
        "# 2. Remove non-english words\n",
        "eng_words = set(nltk.corpus.words.words())\n",
        "\n",
        "tldata = []\n",
        "print(len(ldata3[1]))\n",
        "for words in ldata3:\n",
        "    # tldata.append(\" \".join(w for w in nltk.wordpunct_tokenize(item) if w.lower() in eng_words or not w.isalpha()))\n",
        "    tldata.append(w for w in words if w.lower() in eng_words or not w.isalpha())\n",
        "    continue\n",
        "\n",
        "ldata3 = ldata3\n",
        "len(ldata3[1])"
      ]
    },
    {
      "cell_type": "code",
      "execution_count": 244,
      "metadata": {},
      "outputs": [
        {
          "data": {
            "text/plain": [
              "366"
            ]
          },
          "execution_count": 244,
          "metadata": {},
          "output_type": "execute_result"
        }
      ],
      "source": [
        "# 3. Remove stop-words\n",
        "tldata = []\n",
        "for words in ldata:\n",
        "    tmp = [word for word in words if word not in stopwords.words()]\n",
        "    tldata.append(tmp)\n",
        "    continue\n",
        "\n",
        "len(words)"
      ]
    },
    {
      "cell_type": "code",
      "execution_count": null,
      "metadata": {},
      "outputs": [
        {
          "ename": "IndexError",
          "evalue": "list index out of range",
          "output_type": "error",
          "traceback": [
            "\u001b[1;31m---------------------------------------------------------------------------\u001b[0m",
            "\u001b[1;31mIndexError\u001b[0m                                Traceback (most recent call last)",
            "\u001b[1;32m~\\AppData\\Local\\Temp\\ipykernel_9460\\4285249919.py\u001b[0m in \u001b[0;36m<module>\u001b[1;34m\u001b[0m\n\u001b[0;32m     10\u001b[0m \u001b[1;33m\u001b[0m\u001b[0m\n\u001b[0;32m     11\u001b[0m \u001b[0mldata\u001b[0m \u001b[1;33m=\u001b[0m \u001b[0mtldata\u001b[0m\u001b[1;33m\u001b[0m\u001b[1;33m\u001b[0m\u001b[0m\n\u001b[1;32m---> 12\u001b[1;33m \u001b[0mldata\u001b[0m\u001b[1;33m[\u001b[0m\u001b[1;36m1\u001b[0m\u001b[1;33m]\u001b[0m\u001b[1;33m[\u001b[0m\u001b[1;36m100\u001b[0m\u001b[1;33m]\u001b[0m\u001b[1;33m\u001b[0m\u001b[1;33m\u001b[0m\u001b[0m\n\u001b[0m",
            "\u001b[1;31mIndexError\u001b[0m: list index out of range"
          ]
        }
      ],
      "source": [
        "# 4. Apply lemmatization / stemming\n",
        "lemmatizer = WordNetLemmatizer()\n",
        "stemmer = PorterStemmer()\n",
        "\n",
        "tldata = []\n",
        "for words in ldata:\n",
        "    tldata.append([lemmatizer.lemmatize(i) for i in words])\n",
        "    # [stemmer.stem(i) for i in words]\n",
        "    continue\n",
        "\n",
        "ldata = tldata\n",
        "ldata[1][100]"
      ]
    },
    {
      "cell_type": "markdown",
      "metadata": {
        "id": "qKU2D29CDMVV"
      },
      "source": [
        "#### Quality estimation"
      ]
    },
    {
      "cell_type": "markdown",
      "metadata": {
        "id": "l6xfd3vpDMVW"
      },
      "source": [
        "Implement the following three quality fuctions: `coherence` (or `tf-idf coherence`), `normalized PMI`, `based on the distributed word representation`(you can use pretrained w2v vectors or some other model). You are free to use any libraries (for instance gensim) and components."
      ]
    },
    {
      "cell_type": "code",
      "execution_count": 246,
      "metadata": {},
      "outputs": [],
      "source": [
        "from gensim import topic_coherence\n",
        "from gensim.test.utils import common_corpus, common_dictionary\n",
        "from gensim.models.ldamodel import LdaModel\n",
        "from gensim.models.coherencemodel import CoherenceModel\n",
        "\n"
      ]
    },
    {
      "cell_type": "code",
      "execution_count": 248,
      "metadata": {
        "id": "AEtv-gWcDMVW"
      },
      "outputs": [],
      "source": [
        "# def coherence(x, y, fs=1.0):\n",
        "#     Pxy, Pxx, Pyy = 0, 0, 0\n",
        "#     Cxy = abs(Pxy)**2/(Pxx*Pyy)\n",
        "#     return Cxy\n",
        "\n",
        "def coherence(topics):\n",
        "    cm = CoherenceModel(topics=topics, corpus=common_corpus, dictionary=common_dictionary, coherence='u_mass')\n",
        "    coherence = cm.get_coherence()  # get coherence value\n",
        "    return coherence\n",
        "\n",
        "# coherence(ldata[0])"
      ]
    },
    {
      "cell_type": "code",
      "execution_count": null,
      "metadata": {},
      "outputs": [],
      "source": [
        "def normalizedPMI():\n",
        "    return"
      ]
    },
    {
      "cell_type": "code",
      "execution_count": null,
      "metadata": {},
      "outputs": [
        {
          "ename": "SyntaxError",
          "evalue": "unexpected EOF while parsing (3674980287.py, line 1)",
          "output_type": "error",
          "traceback": [
            "\u001b[1;36m  File \u001b[1;32m\"C:\\Users\\bogya\\AppData\\Local\\Temp\\ipykernel_14444\\3674980287.py\"\u001b[1;36m, line \u001b[1;32m1\u001b[0m\n\u001b[1;33m    def representationDistr():\u001b[0m\n\u001b[1;37m                              ^\u001b[0m\n\u001b[1;31mSyntaxError\u001b[0m\u001b[1;31m:\u001b[0m unexpected EOF while parsing\n"
          ]
        }
      ],
      "source": [
        "def representationDistr():\n",
        "    return"
      ]
    },
    {
      "cell_type": "markdown",
      "metadata": {
        "id": "Kp1jTJmPDMVX"
      },
      "source": [
        "### Topic modeling"
      ]
    },
    {
      "cell_type": "markdown",
      "metadata": {
        "id": "lgbVtgphDMVX"
      },
      "source": [
        "Read and preprocess the dataset, divide it into train and test parts `sklearn.model_selection.train_test_split`. Test part will be used in classification part. For simplicity we do not perform cross-validation here, but you should remember about it."
      ]
    },
    {
      "cell_type": "code",
      "execution_count": null,
      "metadata": {},
      "outputs": [],
      "source": [
        "from sklearn.model_selection import train_test_split"
      ]
    },
    {
      "cell_type": "code",
      "execution_count": null,
      "metadata": {},
      "outputs": [],
      "source": []
    },
    {
      "cell_type": "code",
      "execution_count": null,
      "metadata": {
        "id": "_Uh0J_C8DMVY"
      },
      "outputs": [],
      "source": [
        "X_train, X_test, y_train, y_test = train_test_split(X, y, test_size=0.33, random_state=42)"
      ]
    },
    {
      "cell_type": "markdown",
      "metadata": {
        "id": "rNepVz1wDMVY"
      },
      "source": [
        "Plot the histogram of resulting tokens counts in the processed datasets."
      ]
    },
    {
      "cell_type": "code",
      "execution_count": null,
      "metadata": {
        "id": "L_7JVEfbDMVZ"
      },
      "outputs": [],
      "source": []
    },
    {
      "cell_type": "markdown",
      "metadata": {
        "id": "ulOjNL9vDMVZ"
      },
      "source": [
        "Plot the histogram of resulting tokens counts in the processed datasets."
      ]
    },
    {
      "cell_type": "code",
      "execution_count": null,
      "metadata": {
        "id": "HAse0LBvDMVa"
      },
      "outputs": [],
      "source": []
    },
    {
      "cell_type": "markdown",
      "metadata": {
        "id": "4N86AaGNDMVa"
      },
      "source": [
        "#### NMF"
      ]
    },
    {
      "cell_type": "markdown",
      "metadata": {
        "id": "kPelcAFQDMVa"
      },
      "source": [
        "Implement topic modeling with NMF (you can use `sklearn.decomposition.NMF`) and print out resulting topics. Try to change hyperparameters to better fit the dataset."
      ]
    },
    {
      "cell_type": "code",
      "execution_count": 249,
      "metadata": {
        "id": "DCPzCMMMDMVa"
      },
      "outputs": [],
      "source": [
        "from sklearn.decomposition import NMF"
      ]
    },
    {
      "cell_type": "code",
      "execution_count": 250,
      "metadata": {},
      "outputs": [],
      "source": [
        "import numpy as np\n",
        "X = np.array([[1, 1], [2, 1], [3, 1.2], [4, 1], [5, 0.8], [6, 1]])\n",
        "\n",
        "model = NMF(n_components=2, init='random', random_state=0)\n",
        "W = model.fit_transform(X)\n",
        "H = model.components_"
      ]
    },
    {
      "cell_type": "markdown",
      "metadata": {
        "id": "zuaKAGIWDMVb"
      },
      "source": [
        "#### LDA"
      ]
    },
    {
      "cell_type": "markdown",
      "metadata": {
        "id": "PAK_MfQxDMVb"
      },
      "source": [
        "Implement topic modeling with LDA (you can use gensim implementation) and print out resulting topics. Try to change hyperparameters to better fit the dataset."
      ]
    },
    {
      "cell_type": "code",
      "execution_count": 251,
      "metadata": {},
      "outputs": [],
      "source": [
        "# https://radimrehurek.com/gensim/models/ldamodel.html\n",
        "from gensim.models import ldamulticore\n",
        "from gensim.test.utils import common_texts\n",
        "from gensim.corpora.dictionary import Dictionary\n",
        "from gensim.test.utils import datapath"
      ]
    },
    {
      "cell_type": "code",
      "execution_count": null,
      "metadata": {
        "id": "fdzopuCJDMVb"
      },
      "outputs": [],
      "source": [
        "# Create a corpus from a list of texts\n",
        "common_dictionary = Dictionary(common_texts)\n",
        "common_corpus = [common_dictionary.doc2bow(text) for text in common_texts]\n",
        "\n",
        "# Train the model on the corpus.\n",
        "lda = LdaModel(common_corpus, num_topics=10)"
      ]
    },
    {
      "cell_type": "markdown",
      "metadata": {
        "id": "vSF6fq0NDMVc"
      },
      "source": [
        "### Additive regularization of topic models "
      ]
    },
    {
      "cell_type": "markdown",
      "metadata": {
        "id": "tVcA4itQDMVc"
      },
      "source": [
        "Implement topic modeling with ARTM. You may use bigartm library (simple installation for linux: pip install bigartm) or TopicNet framework (`https://github.com/machine-intelligence-laboratory/TopicNet`)"
      ]
    },
    {
      "cell_type": "markdown",
      "metadata": {
        "id": "03xhr0PmDMVc"
      },
      "source": [
        "Create artm topic model fit it to the data. Try to change hyperparameters (number of specific and background topics) to better fit the dataset. Play with smoothing and sparsing coefficients (use grid), try to add decorrelator. Print out resulting topics."
      ]
    },
    {
      "cell_type": "code",
      "execution_count": null,
      "metadata": {
        "id": "tgv1qIUZDMVc"
      },
      "outputs": [],
      "source": []
    },
    {
      "cell_type": "markdown",
      "metadata": {
        "id": "mteOYV8TDMVd"
      },
      "source": [
        "Write a function to convert new documents to topics probabilities vectors."
      ]
    },
    {
      "cell_type": "code",
      "execution_count": null,
      "metadata": {
        "id": "IGkD9YaxDMVd"
      },
      "outputs": [],
      "source": []
    },
    {
      "cell_type": "markdown",
      "metadata": {
        "id": "SPrNOdMLDMVd"
      },
      "source": [
        "Calculate the quality scores for each model. Make a barplot to compare the quality."
      ]
    },
    {
      "cell_type": "code",
      "execution_count": null,
      "metadata": {
        "id": "hQadAQCXDMVd"
      },
      "outputs": [],
      "source": []
    }
  ],
  "metadata": {
    "colab": {
      "name": "Copy of HW1.ipynb",
      "provenance": []
    },
    "kernelspec": {
      "display_name": "Python 3",
      "language": "python",
      "name": "python3"
    },
    "language_info": {
      "codemirror_mode": {
        "name": "ipython",
        "version": 3
      },
      "file_extension": ".py",
      "mimetype": "text/x-python",
      "name": "python",
      "nbconvert_exporter": "python",
      "pygments_lexer": "ipython3",
      "version": "3.7.9"
    }
  },
  "nbformat": 4,
  "nbformat_minor": 0
}

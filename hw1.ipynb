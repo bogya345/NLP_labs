{
  "cells": [
    {
      "cell_type": "markdown",
      "metadata": {
        "id": "TEEKQwtYDMUz"
      },
      "source": [
        "**SOFT DEADLINE:** `20.03.2022 23:59 msk` "
      ]
    },
    {
      "cell_type": "markdown",
      "metadata": {
        "id": "g-IAo9sYDMU-"
      },
      "source": [
        "# [5 points] Part 1. Data cleaning"
      ]
    },
    {
      "cell_type": "markdown",
      "metadata": {
        "id": "-SNyjuGjDMU_"
      },
      "source": [
        "The task is to clear the text data of the crawled web-pages from different sites. \n",
        "\n",
        "It is necessary to ensure that the distribution of the 100 most frequent words includes only meaningful words in english language (not particles, conjunctions, prepositions, numbers, tags, symbols)."
      ]
    },
    {
      "cell_type": "markdown",
      "metadata": {
        "id": "TA4VkGl2DMVB"
      },
      "source": [
        "Determine the order of operations below and carry out the appropriate cleaning.\n",
        "\n",
        "1. Remove non-english words\n",
        "1. Remove html-tags (try to do it with regular expression, or play with beautifulsoap library)\n",
        "1. Apply lemmatization / stemming\n",
        "1. Remove stop-words\n",
        "1. Additional processing - At your own initiative, if this helps to obtain a better distribution"
      ]
    },
    {
      "cell_type": "markdown",
      "metadata": {},
      "source": [
        "The choosen order:\n",
        "1. Remove html-tags\n",
        "2. Remove non-english words\n",
        "3. Remove stop-words\n",
        "4. Apply lemmatization / stemming\n",
        "5. Additional processing"
      ]
    },
    {
      "cell_type": "markdown",
      "metadata": {
        "id": "hjLsB9pdDMVC"
      },
      "source": [
        "#### Hints"
      ]
    },
    {
      "cell_type": "markdown",
      "metadata": {
        "id": "mk6ZLncvDMVD"
      },
      "source": [
        "1. To do text processing you may use nltk and re libraries\n",
        "1. and / or any other libraries on your choise"
      ]
    },
    {
      "cell_type": "markdown",
      "metadata": {
        "id": "KCbTa1OiDMVE"
      },
      "source": [
        "#### Data reading"
      ]
    },
    {
      "cell_type": "markdown",
      "metadata": {
        "id": "cXbG649IDMVG"
      },
      "source": [
        "The dataset for this part can be downloaded here: `https://drive.google.com/file/d/1wLwo83J-ikCCZY2RAoYx8NghaSaQ-lBA/view?usp=sharing`"
      ]
    },
    {
      "cell_type": "code",
      "execution_count": 1,
      "metadata": {},
      "outputs": [],
      "source": [
        "import pandas as pd\n",
        "\n",
        "# path = './storage/hw1/train.csv'\n",
        "path = './storage/hw1/web_sites_data.csv'"
      ]
    },
    {
      "cell_type": "code",
      "execution_count": 2,
      "metadata": {
        "id": "HN8UxSDkDMVH"
      },
      "outputs": [
        {
          "data": {
            "text/html": [
              "<div>\n",
              "<style scoped>\n",
              "    .dataframe tbody tr th:only-of-type {\n",
              "        vertical-align: middle;\n",
              "    }\n",
              "\n",
              "    .dataframe tbody tr th {\n",
              "        vertical-align: top;\n",
              "    }\n",
              "\n",
              "    .dataframe thead th {\n",
              "        text-align: right;\n",
              "    }\n",
              "</style>\n",
              "<table border=\"1\" class=\"dataframe\">\n",
              "  <thead>\n",
              "    <tr style=\"text-align: right;\">\n",
              "      <th></th>\n",
              "      <th>text</th>\n",
              "    </tr>\n",
              "  </thead>\n",
              "  <tbody>\n",
              "    <tr>\n",
              "      <th>0</th>\n",
              "      <td>&lt;html&gt;\\n&lt;head profile=\"http://www.w3.org/2005/...</td>\n",
              "    </tr>\n",
              "    <tr>\n",
              "      <th>1</th>\n",
              "      <td>&lt;html&gt;\\n&lt;head profile=\"http://www.w3.org/2005/...</td>\n",
              "    </tr>\n",
              "    <tr>\n",
              "      <th>2</th>\n",
              "      <td>&lt;html&gt;\\n&lt;head profile=\"http://www.w3.org/2005/...</td>\n",
              "    </tr>\n",
              "    <tr>\n",
              "      <th>3</th>\n",
              "      <td>&lt;html&gt;\\n&lt;head profile=\"http://www.w3.org/2005/...</td>\n",
              "    </tr>\n",
              "    <tr>\n",
              "      <th>4</th>\n",
              "      <td>&lt;html&gt;\\n&lt;head profile=\"http://www.w3.org/2005/...</td>\n",
              "    </tr>\n",
              "  </tbody>\n",
              "</table>\n",
              "</div>"
            ],
            "text/plain": [
              "                                                text\n",
              "0  <html>\\n<head profile=\"http://www.w3.org/2005/...\n",
              "1  <html>\\n<head profile=\"http://www.w3.org/2005/...\n",
              "2  <html>\\n<head profile=\"http://www.w3.org/2005/...\n",
              "3  <html>\\n<head profile=\"http://www.w3.org/2005/...\n",
              "4  <html>\\n<head profile=\"http://www.w3.org/2005/..."
            ]
          },
          "execution_count": 2,
          "metadata": {},
          "output_type": "execute_result"
        }
      ],
      "source": [
        "# limit = None\n",
        "limit = 1000\n",
        "\n",
        "data = pd.read_csv(path, nrows=limit)\n",
        "\n",
        "# for debug\n",
        "# data = data.sample(100)\n",
        "\n",
        "data.head()"
      ]
    },
    {
      "cell_type": "code",
      "execution_count": 3,
      "metadata": {},
      "outputs": [
        {
          "data": {
            "text/plain": [
              "('<html>\\n<head profile=\"http://www.w3.org/2005/10/profile\">\\n<LINK REL=\"SHORTCUT ICON\" href=\"http://i.bookmooch.com/favicon.ico\"> \\n<link rel=\"icon\" type=\"image/png\" href=\"http://i.bookmooch.com/favicon.p',\n",
              " '<html>\\n<head profile=\"http://www.w3.org/2005/10/profile\">\\n<LINK REL=\"SHORTCUT ICON\" href=\"http://i.bookmooch.com/favicon.ico\"> \\n<link rel=\"icon\" type=\"image/png\" href=\"http://i.bookmooch.com/favicon.png\">\\n<title>Kevin J.Anderson : The X-Files (3) - Ground Zero</title>\\n<meta http-equiv=\"Content-Type\"')"
            ]
          },
          "execution_count": 3,
          "metadata": {},
          "output_type": "execute_result"
        }
      ],
      "source": [
        "ldata = data.values.tolist()\n",
        "ldata = [i[0] for i in ldata]\n",
        "ldata[0][:200], ldata[10][:300]"
      ]
    },
    {
      "cell_type": "markdown",
      "metadata": {
        "id": "fGBTg9g4DMVJ"
      },
      "source": [
        "#### Data processing"
      ]
    },
    {
      "cell_type": "code",
      "execution_count": 4,
      "metadata": {
        "id": "nbpM3QUwDMVK"
      },
      "outputs": [],
      "source": [
        "import nltk\n",
        "from nltk.corpus import stopwords\n",
        "from nltk.stem import PorterStemmer, WordNetLemmatizer\n",
        "from nltk.tokenize import TreebankWordTokenizer, WhitespaceTokenizer\n",
        "import re\n",
        "# nltk.download('words')\n",
        "# nltk.download('stopwords')\n",
        "# nltk.download(\"wordnet\")\n",
        "# nltk.download('omw-1.4') \n",
        "# nltk.download('punkt') \n"
      ]
    },
    {
      "cell_type": "code",
      "execution_count": 5,
      "metadata": {},
      "outputs": [],
      "source": [
        "html_reg = \"\"\"<(\"[^\"]*\"|'[^']*'|[^'\">])*>\"\"\"\n",
        "other_reg = \"\"\n",
        "\n",
        "tldata = []\n",
        "for item in ldata:\n",
        "\n",
        "    nitem = item\n",
        "    nitem = re.sub(html_reg, \"\", nitem)\n",
        "    nitem = re.sub(\"\\t\", \"\", nitem)\n",
        "    nitem = re.sub(\"\\r\", \"\", nitem)\n",
        "    nitem = re.sub(\"\\n\", \"\", nitem)\n",
        "    nitem = re.sub(\"\"\"[\\(\\):\"'=/><-\\?&\\\\#;_,.]\"\"\", \"\", nitem)\n",
        "    nitem = re.sub(\"nbsp;\", \"\", nitem)\n",
        "    nitem = re.sub(\"  +\", \"\", nitem)\n",
        "\n",
        "    tldata.append(nitem)\n",
        "    \n",
        "    continue\n",
        "\n",
        "ldata = tldata"
      ]
    },
    {
      "cell_type": "code",
      "execution_count": 6,
      "metadata": {
        "id": "Hklvhb6RDMVL"
      },
      "outputs": [],
      "source": [
        "# # 1. Remove html-tags\n",
        "# def removeByRegex(ldata, lregexes, replaceValue=\"\"):\n",
        "#     tldata = []\n",
        "\n",
        "#     for item in ldata:\n",
        "\n",
        "#         nitem = item\n",
        "#         for reg in lregexes:\n",
        "#             nitem = re.sub(reg, replaceValue, nitem)\n",
        "#             continue\n",
        "\n",
        "#         tldata.append(nitem)\n",
        "#         continue\n",
        "\n",
        "#     return tldata\n",
        "\n",
        "# lregexes = [\n",
        "#     \"\"\"<(\"[^\"]*\"|'[^']*'|[^'\">])*>\"\"\", \"\\t\", \"\"\"[\\(\\):\"'=/><-\\?&\\\\#;_,.]\"\"\", \"  +\", \"\\r\", \"\\n\", \"nbsp;\"\n",
        "# ]\n",
        "\n",
        "# ldata = removeByRegex(ldata, lregexes)\n",
        "# ldata[1]\n"
      ]
    },
    {
      "cell_type": "code",
      "execution_count": 7,
      "metadata": {},
      "outputs": [
        {
          "data": {
            "text/plain": [
              "' eric newbyshort walk in the h'"
            ]
          },
          "execution_count": 7,
          "metadata": {},
          "output_type": "execute_result"
        }
      ],
      "source": [
        "## intermediate processing\n",
        "def intermediateProccessing(ldata):\n",
        "\n",
        "    # to low each character\n",
        "    tldata = []\n",
        "    for item in ldata:\n",
        "        tldata.append(item.lower())\n",
        "        continue\n",
        "    # ldata = tldata\n",
        "\n",
        "    # split string to words\n",
        "    # tldata = []\n",
        "    for item in ldata:\n",
        "        # tldata.append(item.split(' '))\n",
        "        # tmp = []\n",
        "        tldata.append([i for i in nltk.word_tokenize(item)])\n",
        "\n",
        "        continue\n",
        "    # ldata = tldata\n",
        "\n",
        "    # delete empty items\n",
        "    # tldata = []\n",
        "    for words in ldata:\n",
        "        tldata.append([word for word in words if word != ''])\n",
        "        continue\n",
        "    # ldata = tldata\n",
        "\n",
        "    return tldata\n",
        "\n",
        "ldata = intermediateProccessing(ldata)\n",
        "ldata[1][:30]"
      ]
    },
    {
      "cell_type": "code",
      "execution_count": 8,
      "metadata": {
        "id": "H59-VAGmDMVM"
      },
      "outputs": [
        {
          "name": "stdout",
          "output_type": "stream",
          "text": [
            "4390\n"
          ]
        },
        {
          "data": {
            "text/plain": [
              "4390"
            ]
          },
          "execution_count": 8,
          "metadata": {},
          "output_type": "execute_result"
        }
      ],
      "source": [
        "# 2. Remove non-english words (+ to lower type)\n",
        "def removeNonEngWords(ldata):\n",
        "    eng_words = set(nltk.corpus.words.words())\n",
        "\n",
        "    tldata = []\n",
        "    print(len(ldata[1]))\n",
        "    for words in ldata:\n",
        "        # tldata.append(\" \".join(w for w in nltk.wordpunct_tokenize(item) if w.lower() in eng_words or not w.isalpha()))\n",
        "        tldata.append([w.lower() for w in words if w.lower() in eng_words or not w.isalpha()])\n",
        "        continue\n",
        "\n",
        "    return tldata\n",
        "\n",
        "# ldata = removeNonEngWords(ldata)\n",
        "\n",
        "eng_words = set(nltk.corpus.words.words())\n",
        "\n",
        "tldata = []\n",
        "print(len(ldata[1]))\n",
        "for words in ldata:\n",
        "    # tldata.append(\" \".join(w for w in nltk.wordpunct_tokenize(item) if w.lower() in eng_words or not w.isalpha()))\n",
        "    tldata.append([w.lower() for w in words if w.lower() in eng_words or not w.isalpha()])\n",
        "    \n",
        "ldata = tldata\n",
        "\n",
        "len(ldata[1])"
      ]
    },
    {
      "cell_type": "code",
      "execution_count": 9,
      "metadata": {},
      "outputs": [],
      "source": [
        "# ## its running more that 130 mins...\n",
        "# # 3. Remove stop-words\n",
        "\n",
        "# tldata = []\n",
        "# for words in ldata:\n",
        "#     print(len(words))\n",
        "#     tmp = [word for word in words if word not in stopwords.words()]\n",
        "#     tldata.append(tmp)\n",
        "#     continue\n",
        "\n",
        "# len(words)\n",
        "# ldata = tldata\n",
        "# ldata[1][:100]"
      ]
    },
    {
      "cell_type": "code",
      "execution_count": 10,
      "metadata": {},
      "outputs": [
        {
          "data": {
            "text/plain": [
              "[' ', 'e', 'r', 'i', 'c', ' ', 'n', 'e', 'w', 'b']"
            ]
          },
          "execution_count": 10,
          "metadata": {},
          "output_type": "execute_result"
        }
      ],
      "source": [
        "# 4. Apply lemmatization / stemming\n",
        "def applyLemma(ldata):\n",
        "    lemmatizer = WordNetLemmatizer()\n",
        "\n",
        "    tldata = []\n",
        "    for words in ldata:\n",
        "        tldata.append([ i for i in [lemmatizer.lemmatize(i) for i in words] if i != '' ])\n",
        "        continue\n",
        "\n",
        "    return tldata\n",
        "\n",
        "def applyStemm(ldata):\n",
        "    stemmer = PorterStemmer()\n",
        "\n",
        "    tldata = []\n",
        "    for words in ldata:\n",
        "        tldata.append([stemmer.stem(i) for i in words])\n",
        "        continue\n",
        "\n",
        "    return tldata\n",
        "\n",
        "# ldata = applyLemma(ldata)\n",
        "\n",
        "lemmatizer = WordNetLemmatizer()\n",
        "\n",
        "tldata = []\n",
        "for words in ldata:\n",
        "    tldata.append([ i for i in [lemmatizer.lemmatize(i) for i in words] if i != '' ])\n",
        "    continue\n",
        "\n",
        "ldata = tldata\n",
        "ldata[1][:10]"
      ]
    },
    {
      "cell_type": "code",
      "execution_count": 11,
      "metadata": {},
      "outputs": [],
      "source": [
        "# 5. Additional processing\n"
      ]
    },
    {
      "cell_type": "markdown",
      "metadata": {
        "id": "_h_c-1kBDMVN"
      },
      "source": [
        "#### Vizualization"
      ]
    },
    {
      "cell_type": "markdown",
      "metadata": {
        "id": "HTu83iAWDMVN"
      },
      "source": [
        "As a visualisation, it is necessary to construct a frequency distribution of words (the 100 most common words), sorted by frequency. \n",
        "\n",
        "For visualization purposes we advice you to use plotly, but you are free to choose other libraries"
      ]
    },
    {
      "cell_type": "code",
      "execution_count": 12,
      "metadata": {
        "id": "bHX6IXcrDMVO"
      },
      "outputs": [],
      "source": [
        "# wordfreq1 = [[word, words.count(word)] for word in ldata]\n",
        "# wordfreq1[1][:10]"
      ]
    },
    {
      "cell_type": "code",
      "execution_count": 13,
      "metadata": {},
      "outputs": [],
      "source": [
        "def get_wordfreq(list, limit=100):\n",
        "    fwordfreq = []\n",
        "    for word in list:\n",
        "\n",
        "        fwordfreq.append([word, int(list.count(word))])\n",
        "\n",
        "        if(len(fwordfreq) >= limit):\n",
        "            break\n",
        "        \n",
        "        continue\n",
        "    \n",
        "    fwordfreq = pd.DataFrame(fwordfreq, columns=['word', 'freq'])\n",
        "    fwordfreq.drop_duplicates(inplace=True)\n",
        "\n",
        "    return fwordfreq"
      ]
    },
    {
      "cell_type": "code",
      "execution_count": 14,
      "metadata": {},
      "outputs": [],
      "source": [
        "# init flatten list of words\n",
        "fldata = []\n",
        "for sublist in ldata:\n",
        "    for item in sublist:\n",
        "        # if item not in fldata:\n",
        "        fldata.append(item)\n",
        "        continue\n",
        "    continue\n",
        "\n",
        "fwordfreq = get_wordfreq(fldata)\n",
        "# fwordfreq = fwordfreq[fwordfreq[:, 1].argsort()[::-1]]\n",
        "fwordfreq.sort_values(by=['freq', 'word'], ascending=False, inplace=True)\n",
        "# fwordfreq.head()"
      ]
    },
    {
      "cell_type": "code",
      "execution_count": 15,
      "metadata": {},
      "outputs": [
        {
          "data": {
            "image/png": "[encoded data removed]",
            "text/plain": [
              "<Figure size 3600x1440 with 1 Axes>"
            ]
          },
          "metadata": {
            "needs_background": "light"
          },
          "output_type": "display_data"
        }
      ],
      "source": [
        "import matplotlib.pyplot as plt\n",
        "\n",
        "def show_wordfreq(wordfreq, limit=100, bar_width=0.4):\n",
        "    data = wordfreq[:limit]\n",
        "    plt.figure(figsize=(50, 20))\n",
        "    # plt.bar(data['word'], data['freq'], bar_width)\n",
        "    plt.bar(data['word'], data['freq'])\n",
        "    plt.xlabel('Words')\n",
        "    plt.ylabel('Frequency')\n",
        "    plt.show()\n",
        "    pass\n",
        "\n",
        "\n",
        "show_wordfreq(fwordfreq)"
      ]
    },
    {
      "cell_type": "markdown",
      "metadata": {
        "id": "5ZxcPfLTDMVO"
      },
      "source": [
        "#### Provide examples of processed text (some parts)\n",
        "\n",
        "Is everything all right with the result of cleaning these examples? What kind of information was lost?"
      ]
    },
    {
      "cell_type": "code",
      "execution_count": null,
      "metadata": {
        "id": "2BSMfa9lDMVP"
      },
      "outputs": [],
      "source": []
    },
    {
      "cell_type": "markdown",
      "metadata": {
        "id": "IlSeYg4sDMVQ"
      },
      "source": [
        "# [10 points] Part 2. Duplicates detection. LSH"
      ]
    },
    {
      "cell_type": "markdown",
      "metadata": {
        "id": "ZuMBHSiDDMVR"
      },
      "source": [
        "#### Libraries you can use\n",
        "\n",
        "1. LSH - https://github.com/ekzhu/datasketch\n",
        "1. LSH - https://github.com/mattilyra/LSH\n",
        "1. Any other library on your choise"
      ]
    },
    {
      "cell_type": "markdown",
      "metadata": {
        "id": "uff5aBpgDMVR"
      },
      "source": [
        "1. Detect duplicated text (duplicates do not imply a complete word-to-word match, but texts that may contain a paraphrase, rearrangement of words, sentences)\n",
        "1. Make a plot dependency of duplicates on shingle size (with fixed minhash length) \n",
        "1. Make a plot dependency of duplicates on minhash length (with fixed shingle size)"
      ]
    },
    {
      "cell_type": "code",
      "execution_count": 16,
      "metadata": {},
      "outputs": [],
      "source": [
        "# raise Exception('nope')\n",
        "import datasketch\n",
        "from datasketch import MinHash, MinHashLSH"
      ]
    },
    {
      "cell_type": "code",
      "execution_count": 17,
      "metadata": {
        "id": "QOFZ7AvyDMVS"
      },
      "outputs": [
        {
          "name": "stdout",
          "output_type": "stream",
          "text": [
            "Approximate neighbours with Jaccard similarity > 0.5\n",
            " ['m475', 'm766', 'm1320', 'm2623', 'm714', 'm629', 'm1675', 'm2386', 'm1714', 'm251', 'm1702', 'm2805', 'm2406', 'm910', 'm569', 'm322', 'm2242', 'm150', 'm2855', 'm799', 'm2790', 'm2445', 'm496', 'm1173', 'm2253', 'm2960', 'm1237', 'm2227', 'm2777', 'm2194', 'm1810', 'm448', 'm1661', 'm2537', 'm1777', 'm1335', 'm427', 'm84', 'm73', 'm2473', 'm1282', 'm579', 'm2359', 'm1797', 'm387', 'm282', 'm2219', 'm385', 'm2527', 'm35', 'm664', 'm2807', 'm1652', 'm1556', 'm2775', 'm2398', 'm2791', 'm631', 'm598', 'm843', 'm1790', 'm2708', 'm2279', 'm2995', 'm909', 'm83', 'm963', 'm2278', 'm2252', 'm2143', 'm2026', 'm2087', 'm949', 'm2182', 'm2997', 'm246', 'm2025', 'm1799', 'm23', 'm703', 'm423', 'm2448', 'm2808', 'm1189', 'm674', 'm2317', 'm2098', 'm2774', 'm589', 'm2097', 'm2134', 'm2700', 'm4', 'm1504', 'm2773', 'm2201', 'm2880', 'm2865', 'm188', 'm2431', 'm500', 'm2634', 'm719', 'm2226', 'm2569', 'm2433', 'm945', 'm162', 'm1666', 'm2363', 'm2200', 'm186', 'm1814', 'm600', 'm2444', 'm696', 'm105', 'm1808', 'm2833', 'm947', 'm1741', 'm455', 'm591', 'm2417', 'm601', 'm2312', 'm2946', 'm2825', 'm863', 'm1803', 'm1739', 'm2963', 'm2677', 'm370', 'm2229', 'm931', 'm789', 'm602', 'm478', 'm1765', 'm2114', 'm1824', 'm2305', 'm2396', 'm2165', 'm2216', 'm2988', 'm401', 'm2275', 'm171', 'm2465', 'm271', 'm2688', 'm2627', 'm1261', 'm829', 'm2849', 'm2675', 'm2037', 'm693', 'm2255', 'm2092', 'm2349', 'm1196', 'm2217', 'm2373', 'm723', 'm2741', 'm2121', 'm2173', 'm211', 'm961', 'm2662', 'm2857', 'm978', 'm2309', 'm2293', 'm866', 'm2345', 'm594', 'm421', 'm2471', 'm1757', 'm2485', 'm2570', 'm2645', 'm270', 'm207', 'm273', 'm2966', 'm756', 'm1146', 'm950', 'm684', 'm2564', 'm327', 'm702', 'm1258', 'm360', 'm816', 'm2620', 'm2903', 'm935', 'm1718', 'm2685', 'm305', 'm2093', 'm708', 'm1263', 'm2221', 'm413', 'm623', 'm2721', 'm1343', 'm1314', 'm375', 'm2844', 'm785', 'm710', 'm215', 'm2772', 'm1809', 'm29', 'm2999', 'm680', 'm337', 'm2263', 'm2513', 'm2258', 'm354', 'm2789', 'm2286', 'm120', 'm583', 'm257', 'm2083', 'm2094', 'm979', 'm1224', 'm653', 'm1193', 'm2896', 'm2955', 'm2091', 'm76', 'm827', 'm1295', 'm396', 'm2524', 'm2705', 'm2814', 'm2339', 'm717', 'm650', 'm2719', 'm1208', 'm11', 'm2794', 'm1247', 'm1296', 'm2233', 'm2646', 'm1711', 'm904', 'm2680', 'm2927', 'm2842', 'm1535', 'm122', 'm1234', 'm1179', 'm1329', 'm2411', 'm704', 'm300', 'm27', 'm1191', 'm2288', 'm2655', 'm85', 'm566', 'm1715', 'm2056', 'm791', 'm2438', 'm1744', 'm91', 'm675', 'm2364', 'm938', 'm1202', 'm46', 'm2215', 'm2351', 'm2321', 'm165', 'm928', 'm78', 'm2534', 'm82', 'm545', 'm140', 'm2738', 'm1228', 'm312', 'm539', 'm457', 'm2463', 'm520', 'm1643', 'm2760', 'm1255', 'm568', 'm2664', 'm1184', 'm137', 'm328', 'm1693', 'm123', 'm2231', 'm1517', 'm2498', 'm2383', 'm348', 'm2943', 'm2819', 'm201', 'm1292', 'm2421', 'm67', 'm1183', 'm56', 'm1526', 'm2879', 'm842', 'm677', 'm1795', 'm2196', 'm275', 'm2701', 'm1303', 'm151', 'm14', 'm2661', 'm1330', 'm47', 'm369', 'm414', 'm1707', 'm980', 'm746', 'm2169', 'm2617', 'm2248', 'm856', 'm408', 'm2784', 'm324', 'm997', 'm3', 'm2330', 'm767', 'm377', 'm94', 'm411', 'm2420', 'm2954', 'm2397', 'm716', 'm244', 'm489', 'm495', 'm2851', 'm2336', 'm2905', 'm2517', 'm2757', 'm39', 'm948', 'm2000', 'm1662', 'm937', 'm2060', 'm2486', 'm452', 'm2362', 'm2472', 'm15', 'm185', 'm2109', 'm124', 'm286', 'm1178', 'm173', 'm2625', 'm2034', 'm2136', 'm2811', 'm2241', 'm918', 'm2447', 'm2066', 'm648', 'm1598', 'm103', 'm2931', 'm982', 'm1022', 'm2938', 'm86', 'm2886', 'm252', 'm2454', 'm2475', 'm1233', 'm1528', 'm881', 'm2266', 'm417', 'm2964', 'm280', 'm2357', 'm231', 'm562', 'm2976', 'm2898', 'm372', 'm783', 'm1181', 'm2982', 'm2666', 'm2223', 'm2911', 'm2379', 'm1806', 'm977', 'm1496', 'm1786', 'm2442', 'm2848', 'm850', 'm608', 'm2027', 'm477', 'm2032', 'm1665', 'm261', 'm2152', 'm2402', 'm2809', 'm1272', 'm891', 'm2975', 'm382', 'm1663', 'm117', 'm695', 'm793', 'm1698', 'm2668', 'm213', 'm995', 'm2615', 'm1730', 'm1768', 'm195', 'm2737', 'm2716', 'm450', 'm1305', 'm59', 'm762', 'm2041', 'm1214', 'm911', 'm2361', 'm1686', 'm2102', 'm2392', 'm2430', 'm2206', 'm2762', 'm1278', 'm641', 'm2613', 'm1339', 'm642', 'm2491', 'm622', 'm296', 'm549', 'm2933', 'm941', 'm2572', 'm321', 'm1687', 'm1039', 'm596', 'm1655', 'm808', 'm2853', 'm2874', 'm465', 'm357', 'm498', 'm2505', 'm2387', 'm1805', 'm53', 'm344', 'm2562', 'm1656', 'm358', 'm2598', 'm2835', 'm984', 'm2199', 'm1187', 'm818', 'm689', 'm2614', 'm2553', 'm2594', 'm1752', 'm2110', 'm2619', 'm643', 'm2457', 'm2096', 'm2495', 'm2912', 'm350', 'm309', 'm420', 'm2462', 'm2778', 'm2042', 'm1285', 'm2458', 'm511', 'm1505', 'm293', 'm2920', 'm2023', 'm1070', 'm916', 'm43', 'm936', 'm415', 'm1788', 'm431', 'm194', 'm232', 'm2541', 'm1726', 'm686', 'm2761', 'm2533', 'm2776', 'm2162', 'm1731', 'm287', 'm613', 'm989', 'm1256', 'm255', 'm1355', 'm2428', 'm2891', 'm216', 'm2832', 'm2422', 'm1353', 'm655', 'm2698', 'm224', 'm777', 'm2771', 'm2796', 'm889', 'm1696', 'm313', 'm2904', 'm2455', 'm1721', 'm429', 'm518', 'm44', 'm546', 'm1174', 'm2866', 'm2764', 'm1313', 'm2856', 'm732', 'm281', 'm2400', 'm366', 'm779', 'm399', 'm292', 'm2722', 'm812', 'm755', 'm901', 'm1722', 'm2520', 'm2001', 'm2543', 'm2003', 'm1787', 'm741', 'm2423', 'm2247', 'm796', 'm2956', 'm2652', 'm1159', 'm2140', 'm2800', 'm800', 'm1684', 'm2225', 'm2311', 'm2418', 'm585', 'm2916', 'm2591', 'm2779', 'm2124', 'm934', 'm1681', 'm2885', 'm197', 'm2560', 'm2230', 'm1664', 'm2062', 'm2332', 'm2616', 'm1286', 'm2111', 'm2817', 'm2450', 'm2184', 'm2072', 'm2081', 'm2419', 'm449', 'm2595', 'm1265', 'm720', 'm2713', 'm2706', 'm2257', 'm2872', 'm48', 'm998', 'm1230', 'm2039', 'm2977', 'm2630', 'm1743', 'm116', 'm383', 'm191', 'm437', 'm727', 'm364', 'm2972', 'm519', 'm1050', 'm700', 'm2125', 'm876', 'm2834', 'm2639', 'm1648', 'm2118', 'm2236', 'm2262', 'm884', 'm2854', 'm2787', 'm841', 'm1645', 'm2033', 'm2476', 'm2101', 'm2127', 'm2729', 'm2088', 'm2198', 'm106', 'm419', 'm2239', 'm1719', 'm274', 'm1705', 'm1003', 'm604', 'm2089', 'm815', 'm2816', 'm2367', 'm2018', 'm1129', 'm662', 'm994', 'm181', 'm285', 'm161', 'm2932', 'm972', 'm208', 'm1315', 'm347', 'm1657', 'm90', 'm1262', 'm1231', 'm2493', 'm1747', 'm483', 'm2529', 'm581', 'm5', 'm2641', 'm482', 'm19', 'm1048', 'm2640', 'm1240', 'm416', 'm2508', 'm2846', 'm2333', 'm558', 'm1283', 'm555', 'm2075', 'm516', 'm2301', 'm774', 'm573', 'm2600', 'm466', 'm2441', 'm2902', 'm2893', 'm447', 'm1', 'm513', 'm2104', 'm2781', 'm2509', 'm1817', 'm2022', 'm1755', 'm1267', 'm238', 'm2480', 'm2815', 'm1628', 'm277', 'm1061', 'm635', 'm2673', 'm1667', 'm2117', 'm2456', 'm2024', 'm1248', 'm319', 'm381', 'm2151', 'm269', 'm93', 'm242', 'm1215', 'm2176', 'm2374', 'm1243', 'm2841', 'm1737', 'm660', 'm1207', 'm262', 'm329', 'm2424', 'm2070', 'm2338', 'm787', 'm2707', 'm235', 'm2494', 'm425', 'm905', 'm2650', 'm2331', 'm1769', 'm432', 'm445', 'm1166', 'm1560', 'm599', 'm2945', 'm1232', 'm2281', 'm1302', 'm617', 'm1279', 'm30', 'm221', 'm2758', 'm436', 'm1271', 'm451', 'm501', 'm230', 'm673', 'm25', 'm2681', 'm1723', 'm2870', 'm2403', 'm435', 'm1194', 'm915', 'm1275', 'm2015', 'm135', 'm2561', 'm335', 'm397', 'm2228', 'm811', 'm386', 'm886', 'm1670', 'm2287', 'm2753', 'm739', 'm2979', 'm836', 'm403', 'm2515', 'm2702', 'm2202', 'm1615', 'm557', 'm616', 'm410', 'm2141', 'm24', 'm1516', 'm572', 'm1199', 'm737', 'm2076', 'm2401', 'm908', 'm402', 'm1691', 'm1035', 'm637', 'm1534', 'm34', 'm1176', 'm2251', 'm1204', 'm2254', 'm987', 'm611', 'm2065', 'm338', 'm2983', 'm2985', 'm487', 'm155', 'm942', 'm1246', 'm773', 'm2268', 'm2315', 'm2404', 'm1822', 'm2044', 'm2069', 'm2159', 'm2980', 'm771', 'm1220', 'm160', 'm2461', 'm632', 'm745', 'm907', 'm805', 'm2658', 'm2415', 'm1304', 'm2384', 'm2272', 'm685', 'm2748', 'm1683', 'm2436', 'm1704', 'm2187', 'm294', 'm1733', 'm146', 'm2840', 'm2010', 'm2207', 'm2929', 'm1350', 'm111', 'm2804', 'm2055', 'm1249', 'm20', 'm1254', 'm2674', 'm524', 'm2765', 'm940', 'm2899', 'm40', 'm2370', 'm2405', 'm2550', 'm2786', 'm647', 'm553', 'm2256', 'm2951', 'm1269', 'm2621', 'm2603', 'm2224', 'm1659', 'm736', 'm1251', 'm422', 'm1324', 'm264', 'm326', 'm131', 'm515', 'm2197', 'm1653', 'm379', 'm2335', 'm1182', 'm734', 'm1716', 'm45', 'm474', 'm2828', 'm661', 'm854', 'm960', 'm2736', 'm1695', 'm2555', 'm1784', 'm253', 'm895', 'm862', 'm2350', 'm2578', 'm2756', 'm1654', 'm580', 'm138', 'm1212', 'm776', 'm882', 'm2452', 'm1738', 'm2274', 'm2514', 'm433', 'm526', 'm748', 'm1680', 'm222', 'm218', 'm2910', 'm284', 'm2308', 'm893', 'm690', 'm2961', 'm395', 'm2245', 'm705', 'm2316', 'm2596', 'm2189', 'm2012', 'm2299', 'm2153', 'm331', 'm1010', 'm214', 'm869', 'm2908', 'm74', 'm62', 'm64', 'm365', 'm2823', 'm376', 'm2547', 'm418', 'm178', 'm728', 'm2382', 'm128', 'm2209', 'm2499', 'm985', 'm1188', 'm2322', 'm2602', 'm2250', 'm2377', 'm1197', 'm794', 'm993', 'm1041', 'm247', 'm390', 'm1065', 'm2391', 'm831', 'm115', 'm158', 'm456', 'm1239', 'm2054', 'm118', 'm2451', 'm2647', 'm775', 'm2213', 'm2191', 'm1342', 'm2633', 'm508', 'm847', 'm473', 'm152', 'm351', 'm532', 'm2183', 'm1700', 'm751', 'm384', 'm567', 'm1519', 'm2950', 'm243', 'm2909', 'm530', 'm2261', 'm2477', 'm898', 'm104', 'm2348', 'm2588', 'm2237', 'm378', 'm823', 'm249', 'm2157', 'm1301', 'm32', 'm2653', 'm1229', 'm1491', 'm1706', 'm874', 'm163', 'm2496', 'm134', 'm170', 'm132', 'm890', 'm1058', 'm1043', 'm873', 'm349', 'm718', 'm603', 'm1778', 'm2585', 'm2019', 'm2818', 'm2080', 'm1079', 'm2106', 'm2057', 'm2439', 'm444', 'm2500', 'm2030', 'm837', 'm2703', 'm2606', 'm2205', 'm330', 'm692', 'm2712', 'm2889', 'm2936', 'm10', 'm669', 'm2631', 'm2137', 'm943', 'm2123', 'm16', 'm1558', 'm75', 'm1724', 'm851', 'm439', 'm725', 'm2306', 'm2149', 'm2186', 'm2068', 'm2581', 'm2878', 'm871', 'm2277', 'm8', 'm2154', 'm2356', 'm467', 'm506', 'm2895', 'm50', 'm2222', 'm2694', 'm2353', 'm1180', 'm510', 'm2739', 'm2079', 'm971', 'm240', 'm803', 'm885', 'm145', 'm1650', 'm256', 'm2195', 'm107', 'm939', 'm1697', 'm2408', 'm2939', 'm1782', 'm1503', 'm832', 'm182', 'm633', 'm2622', 'm865', 'm2132', 'm2812', 'm352', 'm2862', 'm2559', 'm404', 'm2563', 'm169', 'm914', 'm2732', 'm1186', 'm2751', 'm1759', 'm2926', 'm656', 'm807', 'm792', 'm2488', 'm2478', 'm2605', 'm2579', 'm2468', 'm49', 'm2120', 'm628', 'm154', 'm1328', 'm2597', 'm1340', 'm7', 'm316', 'm407', 'm595', 'm527', 'm729', 'm66', 'm290', 'm593', 'm973', 'm2801', 'm2313', 'm2952', 'm2660', 'm488', 'm1776', 'm2894', 'm2161', 'm2526', 'm512', 'm840', 'm2792', 'm804', 'm2283', 'm28', 'm541', 'm2921', 'm220', 'm2766', 'm2144', 'm1273', 'm468', 'm742', 'm2061', 'm2530', 'm2611', 'm726', 'm315', 'm2174', 'm1277', 'm2298', 'm867', 'm2145', 'm634', 'm2589', 'm2107', 'm492', 'm2994', 'm986', 'm645', 'm2029', 'm2446', 'm582', 'm2319', 'm2970', 'm1175', 'm1816', 'm1673', 'm951', 'm2876', 'm133', 'm2300', 'm237', 'm1326', 'm233', 'm63', 'm200', 'm1753', 'm342', 'm2166', 'm2259', 'm2556', 'm2518', 'm750', 'm933', 'm2190', 'm2507', 'm534', 'm2810', 'm2085', 'm206', 'm323', 'm618', 'm460', 'm2425', 'm2942', 'm855', 'm2580', 'm2965', 'm2798', 'm1807', 'm346', 'm17', 'm888', 'm58', 'm2859', 'm374', 'm2704', 'm864', 'm900', 'm1812', 'm1668', 'm2670', 'm2185', 'm1764', 'm393', 'm1284', 'm2318', 'm276', 'm405', 'm1270', 'm2329', 'm183', 'm490', 'm112', 'm1709', 'm2234', 'm2696', 'm2745', 'm1727', 'm970', 'm2131', 'm2782', 'm2877', 'm2440', 'm229', 'm1034', 'm209', 'm2715', 'm2295', 'm1257', 'm2116', 'm2368', 'm198', 'm2390', 'm586', 'm2521', 'm2679', 'm2609', 'm962', 'm2806', 'm336', 'm2663', 'm636', 'm1345', 'm99', 'm1736', 'm1218', 'm2644', 'm564', 'm1754', 'm2847', 'm2709', 'm509', 'm119', 'm2522', 'm1291', 'm343', 'm834', 'm446', 'm859', 'm101', 'm2178', 'm2150', 'm179', 'm544', 'm2612', 'm956', 'm2959', 'm517', 'm1091', 'm577', 'm1211', 'm2243', 'm250', 'm2654', 'm1749', 'm2618', 'm234', 'm724', 'm2535', 'm1772', 'm2142', 'm2380', 'm400', 'm2130', 'm1206', 'm896', 'm2090', 'm2573', 'm1674', 'm2167', 'm2913', 'm2947', 'm1201', 'm96', 'm638', 'm899', 'm2460', 'm2467', 'm2740', 'm2388', 'm2567', 'm1798', 'm2171', 'm2426', 'm1060', 'm652', 'm894', 'm880', 'm2940', 'm426', 'm2582', 'm1818', 'm698', 'm590', 'm303', 'm295', 'm872', 'm1245', 'm2799', 'm944', 'm676', 'm2820', 'm471', 'm2974', 'm1337', 'm2310', 'm340', 'm2830', 'm175', 'm1047', 'm990', 'm822', 'm2378', 'm2770', 'm2973', 'm646', 'm817', 'm469', 'm2780', 'm1332', 'm919', 'm6', 'm2566', 'm1349', 'm1699', 'm784', 'm2516', 'm2375', 'm1242', 'm55', 'm1327', 'm2181', 'm752', 'm2469', 'm917', 'm184', 'm853', 'm735', 'm1472', 'm2058', 'm2133', 'm552', 'm1789', 'm52', 'm2126', 'm925', 'm368', 'm2822', 'm2506', 'm480', 'm2759', 'm1221', 'm2922', 'm1352', 'm189', 'm2608', 'm1479', 'm2372', 'm2028', 'm946', 'm2285', 'm1177', 'm835', 'm1066', 'm2053', 'm1064', 'm2839', 'm747', 'm2135', 'm844', 'm503', 'm2059', 'm205', 'm1311', 'm2888', 'm168', 'm654', 'm2006', 'm2697', 'm2734', 'm2610', 'm314', 'm2269', 'm2352', 'm2014', 'm2220', 'm2691', 'm2532', 'm2624', 'm576', 'm1801', 'm2710', 'm193', 'm610', 'm2045', 'm540', 'm2', 'm2592', 'm320', 'm626', 'm298', 'm2020', 'm883', 'm2991', 'm1825', 'm1250', 'm1626', 'm788', 'm1480', 'm2890', 'm241', 'm2690', 'm2413', 'm310', 'm542', 'm2539', 'm2577', 'm712', 'm701', 'm824', 'm2009', 'm1157', 'm196', 'm2179', 'm955', 'm2971', 'm1773', 'm1510', 'm2510', 'm624', 'm860', 'm913', 'm311', 'm681', 'm87', 'm922', 'm2474', 'm1740', 'm1356', 'm2536', 'm2549', 'm1682', 'm2993', 'm491', 'm1660', 'm849', 'm2604', 'm559', 'm921', 'm2852', 'm1751', 'm1820', 'm1318', 'm1690', 'm1223', 'm459', 'm109', 'm858', 'm2046', 'm1333', 'm371', 'm2953', 'm897', 'm1190', 'm1793', 'm578', 'm72', 'm1185', 'm363', 'm2007', 'm691', 'm2291', 'm2996', 'm2119', 'm359', 'm2682', 'm798', 'm2998', 'm2958', 'm879', 'm2490', 'm649', 'm306', 'm2264', 'm2084', 'm988', 'm265', 'm98', 'm678', 'm2294', 'm2948', 'm2270', 'm210', 'm2864', 'm2099', 'm394', 'm1771', 'm2512', 'm391', 'm2115', 'm9', 'm148', 'm228', 'm2328', 'm2711', 'm2676', 'm743', 'm108', 'm2735', 'm507', 'm666', 'm967', 'm100', 'm2599', 'm2193', 'm1216', 'm2669', 'm442', 'm1651', 'm2747', 'm164', 'm2546', 'm2637', 'm2155', 'm930', 'm780', 'm2837', 'm356', 'm2340', 'm289', 'm18', 'm1195', 'm1226', 'm2906', 'm2188', 'm97', 'm136', 'm493', 'm2626', 'm278', 'm156', 'm1717', 'm2836', 'm1238', 'm2635', 'm147', 'm1530', 'm2112', 'm801', 'm2002', 'm1527', 'm476', 'm2158', 'm2900', 'm1649', 'm172', 'm279', 'm353', 'm877', 'm2858', 'm588', 'm428', 'm2341', 'm2449', 'm2105', 'm2699', 'm2414', 'm711', 'm1198', 'm1821', 'm535', 'm887', 'm2574', 'm2881', 'm769', 'm1646', 'm744', 'm430', 'm2113', 'm334', 'm2482', 'm307', 'm658', 'm731', 'm2917', 'm2850', 'm2052', 'm2723', 'm283', 'm291', 'm565', 'm1347', 'm245', 'm1307', 'm2082', 'm2453', 'm1811', 'm1710', 'm453', 'm1745', 'm892', 'm2067', 'm786', 'm1268', 'm125', 'm60', 'm69', 'm609', 'm2548', 'm912', 'm825', 'm54', 'm2244', 'm1742', 'm2544', 'm1712', 'm2992', 'm2868', 'm2795', 'm2297', 'm772', 'm640', 'm1334', 'm2365', 'm2843', 'm1288', 'm2593', 'm2768', 'm1512', 'm959', 'm26', 'm2040', 'm2665', 'm619', 'm1344', 'm2733', 'm1804', 'm392', 'm1647', 'm2492', 'm765', 'm538', 'm2047', 'm1309', 'm2941', 'm2296', 'm454', 'm981', 'm2897', 'm697', 'm485', 'm2208', 'm2479', 'm2078', 'm2064', 'm2767', 'm2148', 'm486', 'm2557', 'm612', 'm143', 'm2785', 'm679', 'm826', 'm848', 'm2385', 'm2990', 'm574', 'm481', 'm2303', 'm1351', 'm2632', 'm782', 'm130', 'm547', 'm268', 'm551', 'm1746', 'm2692', 'm671', 'm2586', 'm730', 'm2156', 'm1253', 'm768', 'm1274', 'm484', 'm2871', 'm2523', 'm80', 'm2160', 'm592', 'm176', 'm438', 'm2304', 'm2718', 'm440', 'm2590', 'm2821', 'm2369', 'm1205', 'm174', 'm996', 'm659', 'm2568', 'm1748', 'm1679', 'm2726', 'm373', 'm2170', 'm345', 'm2271', 'm2343', 'm2763', 'm819', 'm61', 'm409', 'm667', 'm1669', 'm288', 'm706', 'm2749', 'm2302', 'm2601', 'm2035', 'm2656', 'm2554', 'm754', 'm2671', 'm983', 'm563', 'm70', 'm2793', 'm2481', 'm2935', 'm2074', 'm2984', 'm219', 'm204', 'm1766', 'm1548', 'm992', 'm2412', 'm929', 'm2695', 'm12', 'm2168', 'm2968', 'm833', 'm166', 'm2824', 'm2755', 'm870', 'm761', 'm2008', 'm838', 'm2986', 'm721', 'm713', 'm2326', 'm2887', 'm142', 'm203', 'm1734', 'm1200', 'm260', 'm472', 'm2004', 'm1780', 'm952', 'm458', 'm621', 'm1213', 'm2829', 'm1336', 'm536', 'm2260', 'm2063', 'm1209', 'm521', 'm2501', 'm639', 'm129', 'm2981', 'm809', 'm528', 'm1489', 'm1725', 'm464', 'm2360', 'm709', 'm57', 'm2962', 'm2484', 'm537', 'm687', 'm1678', 'm758', 'm2128', 'm1059', 'm2571', 'm13', 'm763', 'm2232', 'm505', 'm89', 'm71', 'm406', 'm2051', 'm861', 'm2967', 'm412', 'm607', 'm715', 'm965', 'm159', 'm903', 'm584', 'm2861', 'm126', 'm2575', 'm2845', 'm2320', 'm2672', 'm2036', 'm2629', 'm525', 'm2783', 'm1819', 'm2683', 'm1087', 'm1642', 'm958', 'm2325', 'm688', 'm657', 'm968', 'm2289', 'm620', 'm2934', 'm1761', 'm1689', 'm341', 'm802', 'm1241', 'm587', 'm297', 'm2129', 'm2273', 'm2978', 'm2483', 'm2659', 'm920', 'm266', 'm2525', 'm2728', 'm2863', 'm389', 'm2395', 'm571', 'm1266', 'm672', 'm2884', 'm2497', 'm663', 'm1259', 'm2290', 'm21', 'm2873', 'm2860', 'm333', 'm969', 'm2754', 'm1319', 'm113', 'm254', 'm976', 'm2192', 'm2502', 'm1287', 'm41', 'm749', 'm2139', 'm2648', 'm857', 'm2923', 'm434', 'm2429', 'm781', 'm2867', 'm1317', 'm65', 'm2038', 'm830', 'm2892', 'm177', 'm2355', 'm302', 'm227', 'm2077', 'm2346', 'm560', 'm522', 'm999', 'm2587', 'm2693', 'm2314', 'm625', 'm1796', 'm2031', 'm806', 'm2826', 'm2122', 'm212', 'm2883', 'm239', 'm2528', 'm380', 'm683', 'm770', 'm2344', 'm820', 'm299', 'm1341', 'm223', 'm2831', 'm2827', 'm502', 'm2427', 'm77', 'm236', 'm225', 'm463', 'm2869', 'm2347', 'm2016', 'm2371', 'm670', 'm301', 'm2276', 'm217', 'm1708', 'm846', 'm2511', 'm1325', 'm2987', 'm355', 'm2399', 'm957', 'm2649', 'm740', 'm1281', 'm2930', 'm199', 'm2050', 'm2725', 'm2914', 'm1774', 'm1011', 'm1635', 'm2005', 'm813', 'm1529', 'm1236', 'm2172', 'm570', 'm2175', 'm2218', 'm22', 'm615', 'm2969', 'm2443', 'm2667', 'm192', 'm2928', 'm2334', 'm2358', 'm139', 'm443', 'm1644', 'm1290', 'm1701', 'm543', 'm1192', 'm1703', 'm2989', 'm202', 'm1658', 'm2235', 'm2540', 'm2638', 'm1338', 'm1297', 'm2337', 'm2434', 'm1252', 'm2769', 'm2138', 'm1539', 'm2924', 'm1235', 'm561', 'm153', 'm554', 'm1300', 'm2323', 'm1756', 'm651', 'm1027', 'm975', 'm2678', 'm1671', 'm531', 'm2017', 'm2280', 'm1222', 'm441', 'm2284', 'm504', 'm2437', 'm226', 'm2838', 'm733', 'm36', 'm550', 'm2073', 'm575', 'm760', 'm2240', 'm2628', 'm682', 'm2071', 'm2551', 'm180', 'm2542', 'm2180', 'm795', 'm144', 'm497', 'm2459', 'm2803', 'm1227', 'm533', 'm79', 'm2538', 'm2584', 'm1217', 'm2813', 'm1728', 'm361', 'm932', 'm149', 'm2435', 'm267', 'm2684', 'm367', 'm2686', 'm68', 'm2944', 'm2470', 'm523', 'm1057', 'm2576', 'm614', 'm263', 'm2108', 'm2204', 'm424', 'm2714', 'm2744', 'm665', 'm2376', 'm2389', 'm845', 'm606', 'm51', 'm2918', 'm2742', 'm627', 'm906', 'm2048', 'm810', 'm1735', 'm2327', 'm2282', 'm2393', 'm790', 'm1732', 'm630', 'm753', 'm2925', 'm1610', 'm2503', 'm2212', 'm110', 'm470', 'm926', 'm2957', 'm1783', 'm388', 'm2416', 'm875', 'm304', 'm2504', 'm797', 'm2267', 'm2265', 'm2210', 'm2552', 'm2565', 'm2366', 'm259', 'm167', 'm2802', 'm157', 'm644', 'm707', 'm991', 'm902', 'm2394', 'm2919', 'm1813', 'm2657', 'm1280', 'm1677', 'm878', 'm1802', 'm2643', 'm2043', 'm308', 'm2147', 'm325', 'm2103', 'm2519', 'm2607', 'm2021', 'm2246', 'm1533', 'm927', 'm2642', 'm2324', 'm2689', 'm1308', 'm37', 'm1321', 'm332', 'm2432', 'm778', 'm2464', 'm722', 'm759', 'm81', 'm814', 'm92', 'm398', 'm2354', 'm1676', 'm1760', 'm2013', 'm318', 'm694', 'm2731', 'm127', 'm258', 'm597', 'm2203', 'm2214', 'm2409', 'm31', 'm461', 'm2724', 'm699', 'm2487', 'm2583', 'm2238', 'm2545', 'm2949', 'm1210', 'm2163', 'm362', 'm95', 'm190', 'm839', 'm924', 'm923', 'm1508', 'm2636', 'm462', 'm605', 'm187', 'm2717', 'm2489', 'm974', 'm2720', 'm868', 'm556', 'm1692', 'm499', 'm1348', 'm2466', 'm121', 'm272', 'm2752', 'm1089', 'm2164', 'm1264', 'm2746', 'm1685', 'm38', 'm479', 'm33', 'm764', 'm2901', 'm494', 'm88', 'm2651', 'm2049', 'm953', 'm1036', 'm954', 'm2743', 'm2750', 'm757', 'm1276', 'm1299', 'm2095', 'm339', 'm141', 'm2146', 'm2797', 'm2307', 'm42', 'm821', 'm2531', 'm2727', 'm248', 'm2730', 'm2937', 'm2177', 'm668', 'm2915', 'm2410', 'm2875', 'm2086', 'm2100', 'm2788', 'm964', 'm2687', 'm2558', 'm514', 'm852', 'm1750', 'm317', 'm1720', 'm548', 'm1770', 'm1794', 'm2407', 'm102', 'm1141', 'm2011', 'm738', 'm966', 'm1020', 'm2211', 'm828', 'm2381', 'm2907', 'm2882', 'm2342', 'm2249', 'm2292', 'm529', 'm114']\n"
          ]
        }
      ],
      "source": [
        "# 1. Detect duplicated text\n",
        "size = len(ldata)\n",
        "ms = [MinHash(num_perm=128) for _ in range(0, size)]\n",
        "\n",
        "for words, index in zip(ldata, range(0, size)):\n",
        "    for word in words:\n",
        "        ms[index].update(word.encode('utf8'))\n",
        "        continue\n",
        "    continue\n",
        "\n",
        "# Create LSH index\n",
        "lsh = MinHashLSH(threshold=0.05, num_perm=128)\n",
        "\n",
        "for m, index in zip(ms, range(0, size)):\n",
        "    if index == 0:\n",
        "        continue\n",
        "    lsh.insert(f\"m{index}\", m)\n",
        "    continue\n",
        "\n",
        "result = lsh.query(ms[0])\n",
        "\n",
        "print(\"Approximate neighbours with Jaccard similarity > 0.5\\n\", result)"
      ]
    },
    {
      "cell_type": "code",
      "execution_count": 18,
      "metadata": {
        "id": "HPonm9U3DMVS"
      },
      "outputs": [],
      "source": [
        "# 2. Make a plot dependency of duplicates on shingle size (with fixed minhash length) \n"
      ]
    },
    {
      "cell_type": "code",
      "execution_count": 19,
      "metadata": {},
      "outputs": [],
      "source": [
        "# 3. Make a plot dependency of duplicates on minhash length\n"
      ]
    },
    {
      "cell_type": "markdown",
      "metadata": {
        "id": "njdTa1daDMVS"
      },
      "source": [
        "# [Optional 10 points] Part 3. Topic model"
      ]
    },
    {
      "cell_type": "markdown",
      "metadata": {
        "id": "4BwJNkn2DMVT"
      },
      "source": [
        "In this part you will learn how to do topic modeling with common tools and assess the resulting quality of the models. "
      ]
    },
    {
      "cell_type": "code",
      "execution_count": 20,
      "metadata": {
        "id": "l0WcLMhHDMVT"
      },
      "outputs": [],
      "source": [
        "import pandas as pd\n",
        "\n",
        "path3 = './storage/hw1/data.csv'"
      ]
    },
    {
      "cell_type": "code",
      "execution_count": 21,
      "metadata": {},
      "outputs": [
        {
          "data": {
            "text/html": [
              "<div>\n",
              "<style scoped>\n",
              "    .dataframe tbody tr th:only-of-type {\n",
              "        vertical-align: middle;\n",
              "    }\n",
              "\n",
              "    .dataframe tbody tr th {\n",
              "        vertical-align: top;\n",
              "    }\n",
              "\n",
              "    .dataframe thead th {\n",
              "        text-align: right;\n",
              "    }\n",
              "</style>\n",
              "<table border=\"1\" class=\"dataframe\">\n",
              "  <thead>\n",
              "    <tr style=\"text-align: right;\">\n",
              "      <th></th>\n",
              "      <th>text</th>\n",
              "      <th>author</th>\n",
              "    </tr>\n",
              "    <tr>\n",
              "      <th>id</th>\n",
              "      <th></th>\n",
              "      <th></th>\n",
              "    </tr>\n",
              "  </thead>\n",
              "  <tbody>\n",
              "    <tr>\n",
              "      <th>id26305</th>\n",
              "      <td>This process, however, afforded me no means of...</td>\n",
              "      <td>EAP</td>\n",
              "    </tr>\n",
              "    <tr>\n",
              "      <th>id17569</th>\n",
              "      <td>It never once occurred to me that the fumbling...</td>\n",
              "      <td>HPL</td>\n",
              "    </tr>\n",
              "    <tr>\n",
              "      <th>id11008</th>\n",
              "      <td>In his left hand was a gold snuff box, from wh...</td>\n",
              "      <td>EAP</td>\n",
              "    </tr>\n",
              "    <tr>\n",
              "      <th>id27763</th>\n",
              "      <td>How lovely is spring As we looked from Windsor...</td>\n",
              "      <td>MWS</td>\n",
              "    </tr>\n",
              "    <tr>\n",
              "      <th>id12958</th>\n",
              "      <td>Finding nothing else, not even gold, the Super...</td>\n",
              "      <td>HPL</td>\n",
              "    </tr>\n",
              "  </tbody>\n",
              "</table>\n",
              "</div>"
            ],
            "text/plain": [
              "                                                      text author\n",
              "id                                                               \n",
              "id26305  This process, however, afforded me no means of...    EAP\n",
              "id17569  It never once occurred to me that the fumbling...    HPL\n",
              "id11008  In his left hand was a gold snuff box, from wh...    EAP\n",
              "id27763  How lovely is spring As we looked from Windsor...    MWS\n",
              "id12958  Finding nothing else, not even gold, the Super...    HPL"
            ]
          },
          "execution_count": 21,
          "metadata": {},
          "output_type": "execute_result"
        }
      ],
      "source": [
        "limit = 1000\n",
        "\n",
        "data3 = pd.read_csv(path3, nrows=limit, index_col='id')\n",
        "\n",
        "# for debug\n",
        "# data3 = data3.sample(1000)\n",
        "\n",
        "data3.head()"
      ]
    },
    {
      "cell_type": "markdown",
      "metadata": {
        "id": "WkNFzxqPDMVU"
      },
      "source": [
        "The provided data contain chunked stories by Edgar Allan Poe (EAP), Mary Shelley (MWS), and HP Lovecraft (HPL).\n",
        "\n",
        "The dataset can be downloaded here: `https://drive.google.com/file/d/14tAjAzHr6UmFVFV7ABTyNHBh-dWHAaLH/view?usp=sharing`"
      ]
    },
    {
      "cell_type": "markdown",
      "metadata": {
        "id": "5BNIa1miDMVU"
      },
      "source": [
        "#### Preprocess dataset with the functions from the Part 1"
      ]
    },
    {
      "cell_type": "code",
      "execution_count": 22,
      "metadata": {
        "id": "9B8PZNRyDMVV"
      },
      "outputs": [
        {
          "data": {
            "text/plain": [
              "('This process, however, afforded me no means of ascertaining the dimensions of my dungeon; as I might make its circuit, and return to the point whence I set out, without being aware of the fact; so per',\n",
              " 'He shall find that I can feel my injuries; he shall learn to dread my revenge\" A few days after he arrived.')"
            ]
          },
          "execution_count": 22,
          "metadata": {},
          "output_type": "execute_result"
        }
      ],
      "source": [
        "ldata3 = data3['text'].values.tolist()\n",
        "ldata3[0][:200], ldata3[10][:200]"
      ]
    },
    {
      "cell_type": "code",
      "execution_count": 23,
      "metadata": {},
      "outputs": [],
      "source": [
        "import nltk\n",
        "from nltk.corpus import stopwords\n",
        "from nltk.stem import PorterStemmer, WordNetLemmatizer\n",
        "from nltk.tokenize import TreebankWordTokenizer, WhitespaceTokenizer\n",
        "import re\n",
        "# nltk.download('words')\n",
        "# nltk.download('stopwords')\n",
        "# nltk.download(\"wordnet\")\n",
        "# nltk.download('omw-1.4')"
      ]
    },
    {
      "cell_type": "code",
      "execution_count": 24,
      "metadata": {},
      "outputs": [
        {
          "ename": "NameError",
          "evalue": "name 'removeByRegex' is not defined",
          "output_type": "error",
          "traceback": [
            "\u001b[1;31m---------------------------------------------------------------------------\u001b[0m",
            "\u001b[1;31mNameError\u001b[0m                                 Traceback (most recent call last)",
            "\u001b[1;32m~\\AppData\\Local\\Temp\\ipykernel_16240\\624946443.py\u001b[0m in \u001b[0;36m<module>\u001b[1;34m\u001b[0m\n\u001b[0;32m      3\u001b[0m     \u001b[1;34m\"\\t\"\u001b[0m\u001b[1;33m,\u001b[0m \u001b[1;34m\"\"\"[\\(\\):\"'=/><-\\?&\\\\#;_,.]\"\"\"\u001b[0m\u001b[1;33m,\u001b[0m \u001b[1;34m\"  +\"\u001b[0m\u001b[1;33m,\u001b[0m \u001b[1;34m\"\\r\"\u001b[0m\u001b[1;33m,\u001b[0m \u001b[1;34m\"\\n\"\u001b[0m\u001b[1;33m,\u001b[0m \u001b[1;34m\"nbsp;\"\u001b[0m\u001b[1;33m\u001b[0m\u001b[1;33m\u001b[0m\u001b[0m\n\u001b[0;32m      4\u001b[0m ]\n\u001b[1;32m----> 5\u001b[1;33m \u001b[0mldata3\u001b[0m \u001b[1;33m=\u001b[0m \u001b[0mremoveByRegex\u001b[0m\u001b[1;33m(\u001b[0m\u001b[0mldata3\u001b[0m\u001b[1;33m,\u001b[0m \u001b[0mlregexes\u001b[0m\u001b[1;33m)\u001b[0m\u001b[1;33m\u001b[0m\u001b[1;33m\u001b[0m\u001b[0m\n\u001b[0m\u001b[0;32m      6\u001b[0m \u001b[0mldata3\u001b[0m\u001b[1;33m[\u001b[0m\u001b[1;36m1\u001b[0m\u001b[1;33m]\u001b[0m\u001b[1;33m[\u001b[0m\u001b[1;33m:\u001b[0m\u001b[1;36m300\u001b[0m\u001b[1;33m]\u001b[0m\u001b[1;33m\u001b[0m\u001b[1;33m\u001b[0m\u001b[0m\n",
            "\u001b[1;31mNameError\u001b[0m: name 'removeByRegex' is not defined"
          ]
        }
      ],
      "source": [
        "# 1. Remove html-tags\n",
        "lregexes = [\n",
        "    \"\\t\", \"\"\"[\\(\\):\"'=/><-\\?&\\\\#;_,.]\"\"\", \"  +\", \"\\r\", \"\\n\", \"nbsp;\"\n",
        "]\n",
        "ldata3 = removeByRegex(ldata3, lregexes)\n",
        "ldata3[1][:300]"
      ]
    },
    {
      "cell_type": "code",
      "execution_count": null,
      "metadata": {},
      "outputs": [
        {
          "data": {
            "text/plain": [
              "['it',\n",
              " 'never',\n",
              " 'once',\n",
              " 'occurred',\n",
              " 'to',\n",
              " 'me',\n",
              " 'that',\n",
              " 'the',\n",
              " 'fumbling',\n",
              " 'might',\n",
              " 'be',\n",
              " 'a',\n",
              " 'mere',\n",
              " 'mistake',\n",
              " '.']"
            ]
          },
          "execution_count": 61,
          "metadata": {},
          "output_type": "execute_result"
        }
      ],
      "source": [
        "## intermediate processing\n",
        "ldata3 = intermediateProccessing(ldata3)\n",
        "ldata3[1][:30]"
      ]
    },
    {
      "cell_type": "code",
      "execution_count": null,
      "metadata": {},
      "outputs": [
        {
          "name": "stdout",
          "output_type": "stream",
          "text": [
            "15\n"
          ]
        },
        {
          "data": {
            "text/plain": [
              "15"
            ]
          },
          "execution_count": 62,
          "metadata": {},
          "output_type": "execute_result"
        }
      ],
      "source": [
        "# 2. Remove non-english words\n",
        "ldata3 = removeNonEngWords(ldata3)\n",
        "len(ldata3[1])"
      ]
    },
    {
      "cell_type": "code",
      "execution_count": null,
      "metadata": {},
      "outputs": [
        {
          "name": "stdout",
          "output_type": "stream",
          "text": [
            "712\n",
            "421\n"
          ]
        }
      ],
      "source": [
        "# 3. Remove stop-words\n",
        "tldata = []\n",
        "\n",
        "print(len(ldata[1]))\n",
        "\n",
        "for words in ldata:\n",
        "    tmp = [word for word in words if word not in stopwords.words()]\n",
        "    tldata.append(tmp)\n",
        "    continue\n",
        "\n",
        "ldata = tldata\n",
        "print(len(ldata[1]))"
      ]
    },
    {
      "cell_type": "code",
      "execution_count": null,
      "metadata": {},
      "outputs": [
        {
          "data": {
            "text/plain": [
              "['eric', ':', 'short', 'walk', ':', 'short', 'walk', '?', 'author', ':']"
            ]
          },
          "execution_count": 64,
          "metadata": {},
          "output_type": "execute_result"
        }
      ],
      "source": [
        "# 4. Apply lemmatization / stemming\n",
        "ldata3 = applyLemma(ldata3)\n",
        "ldata3[1][:10]"
      ]
    },
    {
      "cell_type": "markdown",
      "metadata": {
        "id": "qKU2D29CDMVV"
      },
      "source": [
        "#### Quality estimation"
      ]
    },
    {
      "cell_type": "markdown",
      "metadata": {
        "id": "l6xfd3vpDMVW"
      },
      "source": [
        "Implement the following three quality fuctions: `coherence` (or `tf-idf coherence`), `normalized PMI`, `based on the distributed word representation`(you can use pretrained w2v vectors or some other model). You are free to use any libraries (for instance gensim) and components."
      ]
    },
    {
      "cell_type": "code",
      "execution_count": null,
      "metadata": {},
      "outputs": [],
      "source": [
        "import math\n",
        "import numpy as np\n",
        "\n",
        "import gensim\n",
        "import gensim.corpora as corpora\n",
        "from gensim import topic_coherence\n",
        "from gensim.test.utils import common_corpus, common_dictionary\n",
        "from gensim.models import Word2Vec\n",
        "from gensim.models.ldamodel import LdaModel\n",
        "from gensim.models.coherencemodel import CoherenceModel\n",
        "from sklearn.metrics import normalized_mutual_info_score\n"
      ]
    },
    {
      "cell_type": "code",
      "execution_count": null,
      "metadata": {},
      "outputs": [
        {
          "data": {
            "text/plain": [
              "-1.9318913437263427"
            ]
          },
          "execution_count": 87,
          "metadata": {},
          "output_type": "execute_result"
        }
      ],
      "source": [
        "# def coherence(x, y, fs=1.0):\n",
        "#     Pxy, Pxx, Pyy = 0, 0, 0\n",
        "#     Cxy = abs(Pxy)**2/(Pxx*Pyy)\n",
        "#     return Cxy\n",
        "\n",
        "def coherence(input_data, topics=ldata3):\n",
        "    id2word = corpora.Dictionary(input_data)\n",
        "    corpus = [id2word.doc2bow(text) for text in input_data]\n",
        "    # cm = CoherenceModel(topics=topics, corpus=common_corpus, dictionary=common_dictionary, coherence='u_mass')\n",
        "    cm = CoherenceModel(topics=topics, corpus=corpus,\n",
        "                        dictionary=id2word, coherence='u_mass')\n",
        "    coherence = cm.get_coherence()  # get coherence value\n",
        "    return coherence\n",
        "\n",
        "coherence(ldata3)"
      ]
    },
    {
      "cell_type": "code",
      "execution_count": null,
      "metadata": {},
      "outputs": [
        {
          "data": {
            "text/plain": [
              "-0.1468022970444337"
            ]
          },
          "execution_count": 89,
          "metadata": {},
          "output_type": "execute_result"
        }
      ],
      "source": [
        "# https://towardsdatascience.com/word2vec-for-phrases-learning-embeddings-for-more-than-one-word-727b6cf723cf\n",
        "def npmi(x, y, input_data=ldata3):\n",
        "    def por(x, y): return sum([1 for words in input_data if x in words or y in words])\n",
        "    def p(x): return sum([1 for words in input_data if x in words])\n",
        "    npmi = ( np.log2( por(x, y) / ( p(x) * p(y) ) ) / -np.log(por(x, y)) )\n",
        "    return npmi\n",
        "\n",
        "npmi('walk', 'short')\n",
        "\n",
        "# def pmi(word1, word2, unigram_freq, bigram_freq):\n",
        "#     prob_word1 = unigram_freq[word1] / float(sum(unigram_freq.values()))\n",
        "#     prob_word2 = unigram_freq[word2] / float(sum(unigram_freq.values()))\n",
        "#     prob_word1_word2 = bigram_freq[\" \".join(\n",
        "#         [word1, word2])] / float(sum(bigram_freq.values()))\n",
        "#     return math.log(prob_word1_word2/float(prob_word1*prob_word2), 2)\n",
        "\n",
        "# https://scikit-learn.org/stable/modules/generated/sklearn.metrics.normalized_mutual_info_score.html\n",
        "# def npmi():\n",
        "#     res = normalized_mutual_info_score([0, 0, 1, 1], [0, 0, 1, 1])\n",
        "#     return res\n"
      ]
    },
    {
      "cell_type": "code",
      "execution_count": null,
      "metadata": {},
      "outputs": [
        {
          "ename": "SyntaxError",
          "evalue": "unexpected EOF while parsing (3674980287.py, line 1)",
          "output_type": "error",
          "traceback": [
            "\u001b[1;36m  File \u001b[1;32m\"C:\\Users\\bogya\\AppData\\Local\\Temp\\ipykernel_14444\\3674980287.py\"\u001b[1;36m, line \u001b[1;32m1\u001b[0m\n\u001b[1;33m    def representationDistr():\u001b[0m\n\u001b[1;37m                              ^\u001b[0m\n\u001b[1;31mSyntaxError\u001b[0m\u001b[1;31m:\u001b[0m unexpected EOF while parsing\n"
          ]
        }
      ],
      "source": [
        "# https://towardsdatascience.com/word-representation-in-natural-language-processing-part-i-e4cd54fed3d4\n",
        "\n",
        "# https://www.geeksforgeeks.org/python-word-embedding-using-word2vec/\n",
        "\n",
        "# https://towardsdatascience.com/word-embeddings-exploration-explanation-and-exploitation-with-code-in-python-5dac99d5d795\n",
        "\n",
        "\n",
        "def representationDistr():\n",
        "    return"
      ]
    },
    {
      "cell_type": "markdown",
      "metadata": {
        "id": "Kp1jTJmPDMVX"
      },
      "source": [
        "### Topic modeling"
      ]
    },
    {
      "cell_type": "markdown",
      "metadata": {
        "id": "lgbVtgphDMVX"
      },
      "source": [
        "Read and preprocess the dataset, divide it into train and test parts `sklearn.model_selection.train_test_split`. Test part will be used in classification part. For simplicity we do not perform cross-validation here, but you should remember about it."
      ]
    },
    {
      "cell_type": "code",
      "execution_count": null,
      "metadata": {},
      "outputs": [],
      "source": [
        "from sklearn.model_selection import train_test_split"
      ]
    },
    {
      "cell_type": "code",
      "execution_count": null,
      "metadata": {},
      "outputs": [],
      "source": [
        "X = data3['text']\n",
        "y = data3['author']"
      ]
    },
    {
      "cell_type": "code",
      "execution_count": null,
      "metadata": {
        "id": "_Uh0J_C8DMVY"
      },
      "outputs": [],
      "source": [
        "X_train, X_test, y_train, y_test = train_test_split(X, y, test_size=0.33, random_state=42)"
      ]
    },
    {
      "cell_type": "markdown",
      "metadata": {
        "id": "rNepVz1wDMVY"
      },
      "source": [
        "Plot the histogram of resulting tokens counts in the processed datasets."
      ]
    },
    {
      "cell_type": "code",
      "execution_count": null,
      "metadata": {},
      "outputs": [],
      "source": [
        "import nltk\n",
        "from nltk.tokenize import TreebankWordTokenizer, WhitespaceTokenizer"
      ]
    },
    {
      "cell_type": "code",
      "execution_count": null,
      "metadata": {
        "id": "L_7JVEfbDMVZ"
      },
      "outputs": [
        {
          "name": "stdout",
          "output_type": "stream",
          "text": [
            "['What', 'he', 'said', 'was', 'unintelligible', ',', 'but', 'words', 'were', 'uttered'] 16\n",
            "['Valdemar', ',', 'do', 'you', 'still', 'sleep', '?', \"''\"] 8\n"
          ]
        }
      ],
      "source": [
        "def getTokensAndCounts(data):\n",
        "    tokens = []\n",
        "    for item in data:\n",
        "        tokens.append([i for i in nltk.word_tokenize(item)])\n",
        "        continue\n",
        "    counts = []\n",
        "    for i in tokens:\n",
        "        counts.append(len(i))\n",
        "        continue\n",
        "    print(tokens[0][:10], counts[0])\n",
        "    return tokens, counts\n",
        "\n",
        "train_tokens, train_counts = getTokensAndCounts(X_train)\n",
        "test_tokens, test_counts = getTokensAndCounts(X_test)"
      ]
    },
    {
      "cell_type": "code",
      "execution_count": null,
      "metadata": {},
      "outputs": [
        {
          "data": {
            "image/png": "[encoded data removed]",
            "text/plain": [
              "<Figure size 432x288 with 1 Axes>"
            ]
          },
          "metadata": {
            "needs_background": "light"
          },
          "output_type": "display_data"
        },
        {
          "data": {
            "image/png": "[encoded data removed]",
            "text/plain": [
              "<Figure size 432x288 with 1 Axes>"
            ]
          },
          "metadata": {
            "needs_background": "light"
          },
          "output_type": "display_data"
        }
      ],
      "source": [
        "def showTokensCounts(tokens, counts, title='Histogram of counts'):\n",
        "    plt.hist(counts)\n",
        "\n",
        "    plt.ylabel('amount')\n",
        "    # plt.xlabel('')\n",
        "\n",
        "    plt.title(title)\n",
        "    plt.show()\n",
        "    pass\n",
        "\n",
        "showTokensCounts(train_tokens, train_counts, title='Hist of train dataset')\n",
        "showTokensCounts(test_tokens, test_counts, title='Hist of test dataset')"
      ]
    },
    {
      "cell_type": "markdown",
      "metadata": {
        "id": "4N86AaGNDMVa"
      },
      "source": [
        "#### NMF"
      ]
    },
    {
      "cell_type": "markdown",
      "metadata": {
        "id": "kPelcAFQDMVa"
      },
      "source": [
        "Implement topic modeling with NMF (you can use `sklearn.decomposition.NMF`) and print out resulting topics. Try to change hyperparameters to better fit the dataset."
      ]
    },
    {
      "cell_type": "code",
      "execution_count": null,
      "metadata": {
        "id": "DCPzCMMMDMVa"
      },
      "outputs": [],
      "source": [
        "from sklearn.decomposition import NMF"
      ]
    },
    {
      "cell_type": "code",
      "execution_count": null,
      "metadata": {},
      "outputs": [],
      "source": [
        "import numpy as np\n",
        "X = np.array([[1, 1], [2, 1], [3, 1.2], [4, 1], [5, 0.8], [6, 1]])\n",
        "\n",
        "model = NMF(n_components=2, init='random', random_state=0)\n",
        "W = model.fit_transform(X)\n",
        "H = model.components_"
      ]
    },
    {
      "cell_type": "markdown",
      "metadata": {
        "id": "zuaKAGIWDMVb"
      },
      "source": [
        "#### LDA"
      ]
    },
    {
      "cell_type": "markdown",
      "metadata": {
        "id": "PAK_MfQxDMVb"
      },
      "source": [
        "Implement topic modeling with LDA (you can use gensim implementation) and print out resulting topics. Try to change hyperparameters to better fit the dataset."
      ]
    },
    {
      "cell_type": "code",
      "execution_count": null,
      "metadata": {},
      "outputs": [],
      "source": [
        "# https://radimrehurek.com/gensim/models/ldamodel.html\n",
        "from gensim.models import ldamulticore\n",
        "from gensim.test.utils import common_texts\n",
        "from gensim.corpora.dictionary import Dictionary\n",
        "from gensim.test.utils import datapath"
      ]
    },
    {
      "cell_type": "code",
      "execution_count": null,
      "metadata": {
        "id": "fdzopuCJDMVb"
      },
      "outputs": [],
      "source": [
        "# Create a corpus from a list of texts\n",
        "id2word = corpora.Dictionary(ldata3)\n",
        "corpus = [id2word.doc2bow(text) for text in ldata3]\n",
        "\n",
        "# Train the model on the corpus.\n",
        "lda = LdaModel(corpus, num_topics=10)"
      ]
    },
    {
      "cell_type": "markdown",
      "metadata": {
        "id": "vSF6fq0NDMVc"
      },
      "source": [
        "### Additive regularization of topic models "
      ]
    },
    {
      "cell_type": "markdown",
      "metadata": {
        "id": "tVcA4itQDMVc"
      },
      "source": [
        "Implement topic modeling with ARTM. You may use bigartm library (simple installation for linux: pip install bigartm) or TopicNet framework (`https://github.com/machine-intelligence-laboratory/TopicNet`)"
      ]
    },
    {
      "cell_type": "markdown",
      "metadata": {
        "id": "03xhr0PmDMVc"
      },
      "source": [
        "Create artm topic model fit it to the data. Try to change hyperparameters (number of specific and background topics) to better fit the dataset. Play with smoothing and sparsing coefficients (use grid), try to add decorrelator. Print out resulting topics."
      ]
    },
    {
      "cell_type": "code",
      "execution_count": null,
      "metadata": {
        "id": "tgv1qIUZDMVc"
      },
      "outputs": [
        {
          "ename": "ModuleNotFoundError",
          "evalue": "No module named 'artm'",
          "output_type": "error",
          "traceback": [
            "\u001b[1;31m---------------------------------------------------------------------------\u001b[0m",
            "\u001b[1;31mModuleNotFoundError\u001b[0m                       Traceback (most recent call last)",
            "\u001b[1;32m~\\AppData\\Local\\Temp\\ipykernel_6124\\2282481034.py\u001b[0m in \u001b[0;36m<module>\u001b[1;34m\u001b[0m\n\u001b[1;32m----> 1\u001b[1;33m \u001b[1;32mfrom\u001b[0m \u001b[0mtopicnet\u001b[0m\u001b[1;33m.\u001b[0m\u001b[0mcooking_machine\u001b[0m\u001b[1;33m.\u001b[0m\u001b[0mmodel_constructor\u001b[0m \u001b[1;32mimport\u001b[0m \u001b[0minit_simple_default_model\u001b[0m\u001b[1;33m\u001b[0m\u001b[1;33m\u001b[0m\u001b[0m\n\u001b[0m\u001b[0;32m      2\u001b[0m \u001b[1;33m\u001b[0m\u001b[0m\n\u001b[0;32m      3\u001b[0m artm_model = init_simple_default_model(\n\u001b[0;32m      4\u001b[0m     \u001b[0mdataset\u001b[0m\u001b[1;33m=\u001b[0m\u001b[0mdata3\u001b[0m\u001b[1;33m,\u001b[0m\u001b[1;33m\u001b[0m\u001b[1;33m\u001b[0m\u001b[0m\n\u001b[0;32m      5\u001b[0m     \u001b[0mmodalities_to_use\u001b[0m\u001b[1;33m=\u001b[0m\u001b[1;33m{\u001b[0m\u001b[1;34m'@lemmatized'\u001b[0m\u001b[1;33m:\u001b[0m \u001b[1;36m1.0\u001b[0m\u001b[1;33m,\u001b[0m \u001b[1;34m'@bigram'\u001b[0m\u001b[1;33m:\u001b[0m\u001b[1;36m0.5\u001b[0m\u001b[1;33m}\u001b[0m\u001b[1;33m,\u001b[0m\u001b[1;33m\u001b[0m\u001b[1;33m\u001b[0m\u001b[0m\n",
            "\u001b[1;32m~\\AppData\\Roaming\\Python\\Python37\\site-packages\\topicnet\\cooking_machine\\__init__.py\u001b[0m in \u001b[0;36m<module>\u001b[1;34m\u001b[0m\n\u001b[1;32m----> 1\u001b[1;33m \u001b[1;32mfrom\u001b[0m \u001b[1;33m.\u001b[0m\u001b[0mdataset\u001b[0m \u001b[1;32mimport\u001b[0m \u001b[0mDataset\u001b[0m\u001b[1;33m\u001b[0m\u001b[1;33m\u001b[0m\u001b[0m\n\u001b[0m\u001b[0;32m      2\u001b[0m \u001b[1;32mfrom\u001b[0m \u001b[1;33m.\u001b[0m\u001b[0mdataset\u001b[0m \u001b[1;32mimport\u001b[0m \u001b[0mBaseDataset\u001b[0m\u001b[1;33m\u001b[0m\u001b[1;33m\u001b[0m\u001b[0m\n\u001b[0;32m      3\u001b[0m \u001b[1;32mfrom\u001b[0m \u001b[1;33m.\u001b[0m\u001b[0mexperiment\u001b[0m \u001b[1;32mimport\u001b[0m \u001b[0mExperiment\u001b[0m\u001b[1;33m\u001b[0m\u001b[1;33m\u001b[0m\u001b[0m\n\u001b[0;32m      4\u001b[0m \u001b[1;32mfrom\u001b[0m \u001b[1;33m.\u001b[0m\u001b[0mmodel_constructor\u001b[0m \u001b[1;32mimport\u001b[0m \u001b[1;33m*\u001b[0m\u001b[1;33m\u001b[0m\u001b[1;33m\u001b[0m\u001b[0m\n",
            "\u001b[1;32m~\\AppData\\Roaming\\Python\\Python37\\site-packages\\topicnet\\cooking_machine\\dataset.py\u001b[0m in \u001b[0;36m<module>\u001b[1;34m\u001b[0m\n\u001b[0;32m      2\u001b[0m \u001b[1;32mimport\u001b[0m \u001b[0mos\u001b[0m\u001b[1;33m\u001b[0m\u001b[1;33m\u001b[0m\u001b[0m\n\u001b[0;32m      3\u001b[0m \u001b[1;32mimport\u001b[0m \u001b[0mwarnings\u001b[0m\u001b[1;33m\u001b[0m\u001b[1;33m\u001b[0m\u001b[0m\n\u001b[1;32m----> 4\u001b[1;33m \u001b[1;32mimport\u001b[0m \u001b[0martm\u001b[0m\u001b[1;33m\u001b[0m\u001b[1;33m\u001b[0m\u001b[0m\n\u001b[0m\u001b[0;32m      5\u001b[0m \u001b[1;32mimport\u001b[0m \u001b[0mshutil\u001b[0m\u001b[1;33m\u001b[0m\u001b[1;33m\u001b[0m\u001b[0m\n\u001b[0;32m      6\u001b[0m \u001b[1;33m\u001b[0m\u001b[0m\n",
            "\u001b[1;31mModuleNotFoundError\u001b[0m: No module named 'artm'"
          ]
        }
      ],
      "source": [
        "from topicnet.cooking_machine.model_constructor import init_simple_default_model\n",
        "\n",
        "artm_model = init_simple_default_model(\n",
        "    dataset=data3,\n",
        "    modalities_to_use={'@lemmatized': 1.0, '@bigram': 0.5},\n",
        "    main_modality='@lemmatized',\n",
        "    specific_topics=14,\n",
        "    background_topics=1,\n",
        ")\n"
      ]
    },
    {
      "cell_type": "markdown",
      "metadata": {
        "id": "mteOYV8TDMVd"
      },
      "source": [
        "Write a function to convert new documents to topics probabilities vectors."
      ]
    },
    {
      "cell_type": "code",
      "execution_count": null,
      "metadata": {
        "id": "IGkD9YaxDMVd"
      },
      "outputs": [],
      "source": []
    },
    {
      "cell_type": "markdown",
      "metadata": {
        "id": "SPrNOdMLDMVd"
      },
      "source": [
        "Calculate the quality scores for each model. Make a barplot to compare the quality."
      ]
    },
    {
      "cell_type": "code",
      "execution_count": null,
      "metadata": {
        "id": "hQadAQCXDMVd"
      },
      "outputs": [],
      "source": []
    }
  ],
  "metadata": {
    "colab": {
      "name": "Copy of HW1.ipynb",
      "provenance": []
    },
    "kernelspec": {
      "display_name": "Python 3",
      "language": "python",
      "name": "python3"
    },
    "language_info": {
      "codemirror_mode": {
        "name": "ipython",
        "version": 3
      },
      "file_extension": ".py",
      "mimetype": "text/x-python",
      "name": "python",
      "nbconvert_exporter": "python",
      "pygments_lexer": "ipython3",
      "version": "3.7.9"
    }
  },
  "nbformat": 4,
  "nbformat_minor": 0
}
